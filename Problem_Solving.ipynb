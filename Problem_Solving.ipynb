{
  "nbformat": 4,
  "nbformat_minor": 0,
  "metadata": {
    "colab": {
      "provenance": [],
      "collapsed_sections": [
        "AXkzrdaoTXea",
        "a6N_ep2pTR7k",
        "PxW1e3Q7cb6h",
        "5iiBFPQq3bGv",
        "0ToJ7seNKq-s",
        "QfqiBvlHKkjz",
        "2Xt2CvHeKP98",
        "SMDQwbYlDkiM",
        "QTrSMXN1Y_iZ",
        "gvVf88LHufwI",
        "jRZsVGoUviRL"
      ],
      "authorship_tag": "ABX9TyO4nkKdn1njzVzZCVFQWbAA",
      "include_colab_link": true
    },
    "kernelspec": {
      "name": "python3",
      "display_name": "Python 3"
    },
    "language_info": {
      "name": "python"
    }
  },
  "cells": [
    {
      "cell_type": "markdown",
      "metadata": {
        "id": "view-in-github",
        "colab_type": "text"
      },
      "source": [
        "<a href=\"https://colab.research.google.com/github/BunyaphonChaimongkolsup/Learn-Python/blob/main/Problem_Solving.ipynb\" target=\"_parent\"><img src=\"https://colab.research.google.com/assets/colab-badge.svg\" alt=\"Open In Colab\"/></a>"
      ]
    },
    {
      "cell_type": "markdown",
      "source": [
        "# เรียนเนื้อหา02"
      ],
      "metadata": {
        "id": "AXkzrdaoTXea"
      }
    },
    {
      "cell_type": "code",
      "execution_count": null,
      "metadata": {
        "colab": {
          "base_uri": "https://localhost:8080/"
        },
        "id": "u6oSf8Z79LkZ",
        "outputId": "373047e7-9a48-4de2-e7f5-07f6130c72e2"
      },
      "outputs": [
        {
          "output_type": "stream",
          "name": "stdout",
          "text": [
            "I love python\n",
            "I love python\n"
          ]
        }
      ],
      "source": [
        "## การที่คนๆนึงจะเก่งได้ ต้องมาจากการเก็บเที่ยวบินเยอะๆ\n",
        "print('I love python')\n",
        "print(\"I love python\")"
      ]
    },
    {
      "cell_type": "code",
      "source": [
        "print('''Xd\n",
        "GG\n",
        "yech boi''')\n",
        "\n",
        "print(\"\"\"Xd\n",
        "GG\n",
        "yech boi\"\"\")"
      ],
      "metadata": {
        "colab": {
          "base_uri": "https://localhost:8080/"
        },
        "id": "b1fX8iQSx9LI",
        "outputId": "a6dab336-14f0-4110-b4fc-775073e851fd"
      },
      "execution_count": null,
      "outputs": [
        {
          "output_type": "stream",
          "name": "stdout",
          "text": [
            "Xd\n",
            "GG\n",
            "yech boi\n",
            "Xd\n",
            "GG\n",
            "yech boi\n"
          ]
        }
      ]
    },
    {
      "cell_type": "code",
      "source": [
        "print(\"It's me\")"
      ],
      "metadata": {
        "colab": {
          "base_uri": "https://localhost:8080/"
        },
        "id": "dQpDkK9ActoX",
        "outputId": "3464f8bd-ea74-4411-fbff-981173a100ef"
      },
      "execution_count": null,
      "outputs": [
        {
          "output_type": "stream",
          "name": "stdout",
          "text": [
            "It's me\n"
          ]
        }
      ]
    },
    {
      "cell_type": "code",
      "source": [
        "print('It\\'s me')"
      ],
      "metadata": {
        "colab": {
          "base_uri": "https://localhost:8080/"
        },
        "id": "yYBAiJMddNE2",
        "outputId": "91996077-fe05-4ee7-fbe9-3983447d47ef"
      },
      "execution_count": null,
      "outputs": [
        {
          "output_type": "stream",
          "name": "stdout",
          "text": [
            "It's me\n"
          ]
        }
      ]
    },
    {
      "cell_type": "code",
      "source": [
        "print('He said \"Python is my life\"')\n",
        "print(\"He said \\\"Python is my life\\\"\")"
      ],
      "metadata": {
        "colab": {
          "base_uri": "https://localhost:8080/"
        },
        "id": "_o_gxxrhjNcg",
        "outputId": "bedcc00f-d1b5-41d2-b71b-ed9200a7160a"
      },
      "execution_count": null,
      "outputs": [
        {
          "output_type": "stream",
          "name": "stdout",
          "text": [
            "He said \"Python is my life\"\n",
            "He said \"Python is my life\"\n"
          ]
        }
      ]
    },
    {
      "cell_type": "markdown",
      "source": [
        "print(\"/\\\\\")\n",
        "print(\"/\\\\/\\\\/\\\\\")"
      ],
      "metadata": {
        "id": "AsTZJ760j5Fu"
      }
    },
    {
      "cell_type": "code",
      "source": [
        "print(1)\n",
        "print(2.5)\n",
        "print(3.500)"
      ],
      "metadata": {
        "colab": {
          "base_uri": "https://localhost:8080/"
        },
        "id": "97shipMBkiXW",
        "outputId": "4ddcca36-f636-4d1d-f34b-7c1804f38380"
      },
      "execution_count": null,
      "outputs": [
        {
          "output_type": "stream",
          "name": "stdout",
          "text": [
            "1\n",
            "2.5\n",
            "3.5\n"
          ]
        }
      ]
    },
    {
      "cell_type": "code",
      "source": [
        "print('%d' %3)\n",
        "print('%f' %3)\n",
        "print('%f' %3)\n",
        "print('%.2f' %3)\n",
        "print('%s' %3.0)\n",
        "print('%.2f %d %s' %(3.5,2.9,3.25))"
      ],
      "metadata": {
        "colab": {
          "base_uri": "https://localhost:8080/"
        },
        "id": "F1yvIruurIwk",
        "outputId": "3ed559f2-b1fc-4288-bdef-e4b5c5ca6bcc"
      },
      "execution_count": null,
      "outputs": [
        {
          "output_type": "stream",
          "name": "stdout",
          "text": [
            "3\n",
            "3.000000\n",
            "3.000000\n",
            "3.00\n",
            "3.0\n",
            "3.50 2 3.25\n"
          ]
        }
      ]
    },
    {
      "cell_type": "code",
      "source": [
        "print('I love u',3000)"
      ],
      "metadata": {
        "colab": {
          "base_uri": "https://localhost:8080/"
        },
        "id": "hxe0oOQMt9q-",
        "outputId": "f536ac19-0091-4e40-af87-f9ea21a9f91a"
      },
      "execution_count": null,
      "outputs": [
        {
          "output_type": "stream",
          "name": "stdout",
          "text": [
            "I love u 3000\n"
          ]
        }
      ]
    },
    {
      "cell_type": "code",
      "source": [
        "print('3+5 =',3+5)\n",
        "print('3+5 = '+str(3+5))"
      ],
      "metadata": {
        "colab": {
          "base_uri": "https://localhost:8080/"
        },
        "id": "AYiwVI5GuHGG",
        "outputId": "dd0f8e92-bf93-4903-9556-76398b415144"
      },
      "execution_count": null,
      "outputs": [
        {
          "output_type": "stream",
          "name": "stdout",
          "text": [
            "3+5 = 8\n",
            "3+5 = 8\n"
          ]
        }
      ]
    },
    {
      "cell_type": "code",
      "source": [
        "print('I love u %d' %3000)"
      ],
      "metadata": {
        "colab": {
          "base_uri": "https://localhost:8080/"
        },
        "id": "HwEW4pFpwwIr",
        "outputId": "95c775da-fe67-4f0e-f034-3265a06526c2"
      },
      "execution_count": null,
      "outputs": [
        {
          "output_type": "stream",
          "name": "stdout",
          "text": [
            "I love u 3000\n"
          ]
        }
      ]
    },
    {
      "cell_type": "code",
      "source": [
        "print('3+5 = %d' %(3+5))"
      ],
      "metadata": {
        "colab": {
          "base_uri": "https://localhost:8080/"
        },
        "id": "NWfngkSexeHA",
        "outputId": "8a6b58b3-d5fe-4f2d-bbb8-57ba05743512"
      },
      "execution_count": null,
      "outputs": [
        {
          "output_type": "stream",
          "name": "stdout",
          "text": [
            "3+5 = 8\n"
          ]
        }
      ]
    },
    {
      "cell_type": "markdown",
      "source": [
        "# ทำโจทย์02"
      ],
      "metadata": {
        "id": "a6N_ep2pTR7k"
      }
    },
    {
      "cell_type": "code",
      "source": [
        "print('Hello')"
      ],
      "metadata": {
        "colab": {
          "base_uri": "https://localhost:8080/"
        },
        "id": "90L8BbKSTCmR",
        "outputId": "5e7452b7-d8b2-4b18-c86f-133202afc5fe"
      },
      "execution_count": null,
      "outputs": [
        {
          "output_type": "stream",
          "name": "stdout",
          "text": [
            "Hello\n"
          ]
        }
      ]
    },
    {
      "cell_type": "code",
      "source": [
        "print(\"Hello World\")"
      ],
      "metadata": {
        "colab": {
          "base_uri": "https://localhost:8080/"
        },
        "id": "iYSOR4weTQxy",
        "outputId": "8cb986f2-51ce-4069-9137-90e3d370c218"
      },
      "execution_count": null,
      "outputs": [
        {
          "output_type": "stream",
          "name": "stdout",
          "text": [
            "Hello World\n"
          ]
        }
      ]
    },
    {
      "cell_type": "code",
      "source": [
        "print('hello_python')"
      ],
      "metadata": {
        "colab": {
          "base_uri": "https://localhost:8080/"
        },
        "id": "iOCW-Fe0TiPR",
        "outputId": "f27bf2a6-e9c1-41bf-dd88-3a2d678f4d3e"
      },
      "execution_count": null,
      "outputs": [
        {
          "output_type": "stream",
          "name": "stdout",
          "text": [
            "hello_python\n"
          ]
        }
      ]
    },
    {
      "cell_type": "code",
      "source": [
        "print(\"Merry X'Mas\")"
      ],
      "metadata": {
        "colab": {
          "base_uri": "https://localhost:8080/"
        },
        "id": "TwkyfJVZToEq",
        "outputId": "534444b5-e24e-492e-9639-54be32be1f71"
      },
      "execution_count": null,
      "outputs": [
        {
          "output_type": "stream",
          "name": "stdout",
          "text": [
            "Merry X'Mas\n"
          ]
        }
      ]
    },
    {
      "cell_type": "code",
      "source": [
        "print('I want to ask you \"Why don\\'t you drive to work ?\"')"
      ],
      "metadata": {
        "colab": {
          "base_uri": "https://localhost:8080/"
        },
        "id": "00lqMqRNYxHe",
        "outputId": "ce56ebd7-9967-4c5d-8ff8-15f4676c3209"
      },
      "execution_count": null,
      "outputs": [
        {
          "output_type": "stream",
          "name": "stdout",
          "text": [
            "I want to ask you \"Why don't you drive to work ?\"\n"
          ]
        }
      ]
    },
    {
      "cell_type": "code",
      "source": [
        "print(\"\\\"I don't have a car\\\"\")"
      ],
      "metadata": {
        "colab": {
          "base_uri": "https://localhost:8080/"
        },
        "id": "l0O6m4u0Y98s",
        "outputId": "9b788663-a754-443c-844c-285b19406838"
      },
      "execution_count": null,
      "outputs": [
        {
          "output_type": "stream",
          "name": "stdout",
          "text": [
            "\"I don't have a car\"\n"
          ]
        }
      ]
    },
    {
      "cell_type": "code",
      "source": [
        "print(\"You got a new job !? That's so exciting\")"
      ],
      "metadata": {
        "colab": {
          "base_uri": "https://localhost:8080/"
        },
        "id": "ygFUYrzcZMc3",
        "outputId": "676f14e2-f2fd-451d-9d37-a6e7282fb4ce"
      },
      "execution_count": null,
      "outputs": [
        {
          "output_type": "stream",
          "name": "stdout",
          "text": [
            "You got a new job !? That's so exciting\n"
          ]
        }
      ]
    },
    {
      "cell_type": "code",
      "source": [
        "print('สวัสดีวันจันทร์')"
      ],
      "metadata": {
        "colab": {
          "base_uri": "https://localhost:8080/"
        },
        "id": "3afWGOtiZfJj",
        "outputId": "82afdf99-fdc2-4d7e-c08f-25fcec059eda"
      },
      "execution_count": null,
      "outputs": [
        {
          "output_type": "stream",
          "name": "stdout",
          "text": [
            "สวัสดีวันจันทร์\n"
          ]
        }
      ]
    },
    {
      "cell_type": "code",
      "source": [
        "print('ความเเตกต่างระหว่างคนเก่งกับคนไม่เก่ง คือ \"การใช้เวลาว่างให้เป็นประโยชน์\"')"
      ],
      "metadata": {
        "colab": {
          "base_uri": "https://localhost:8080/"
        },
        "id": "cBi_4sFzZirG",
        "outputId": "3da4dd6b-e218-4b54-f7d8-feb9dfa6bebc"
      },
      "execution_count": null,
      "outputs": [
        {
          "output_type": "stream",
          "name": "stdout",
          "text": [
            "ความเเตกต่างระหว่างคนเก่งกับคนไม่เก่ง คือ \"การใช้เวลาว่างให้เป็นประโยชน์\"\n"
          ]
        }
      ]
    },
    {
      "cell_type": "code",
      "source": [
        "print(\"/\\\\/\\\\/\\\\\")"
      ],
      "metadata": {
        "colab": {
          "base_uri": "https://localhost:8080/"
        },
        "id": "mhUHRX7oZwST",
        "outputId": "86cfb40a-2eca-47cf-cb4d-2ff874458b6a"
      },
      "execution_count": null,
      "outputs": [
        {
          "output_type": "stream",
          "name": "stdout",
          "text": [
            "/\\/\\/\\\n"
          ]
        }
      ]
    },
    {
      "cell_type": "code",
      "source": [
        "print('''a\n",
        "an\n",
        "ant''')"
      ],
      "metadata": {
        "colab": {
          "base_uri": "https://localhost:8080/"
        },
        "id": "ggcFWE9VZ6tQ",
        "outputId": "90ebb330-52e6-486c-ad27-bab06f27b32d"
      },
      "execution_count": null,
      "outputs": [
        {
          "output_type": "stream",
          "name": "stdout",
          "text": [
            "a\n",
            "an\n",
            "ant\n"
          ]
        }
      ]
    },
    {
      "cell_type": "code",
      "source": [
        "print('''\\t*\n",
        "*\\t*\\t*\n",
        "\\t*''')"
      ],
      "metadata": {
        "colab": {
          "base_uri": "https://localhost:8080/"
        },
        "id": "MCSmm8C0aPxa",
        "outputId": "2662ef5f-f8be-4965-b03a-d6cc7b2a8289"
      },
      "execution_count": null,
      "outputs": [
        {
          "output_type": "stream",
          "name": "stdout",
          "text": [
            "\t*\n",
            "*\t*\t*\n",
            "\t*\n"
          ]
        }
      ]
    },
    {
      "cell_type": "code",
      "source": [
        "print('''*\\t+\\t*\n",
        "+\\t*\\t+\n",
        "*\\t+\\t*''')"
      ],
      "metadata": {
        "colab": {
          "base_uri": "https://localhost:8080/"
        },
        "id": "KcHRhwDzaaLk",
        "outputId": "da686bea-9a7b-46cb-8058-fdd8b29b4243"
      },
      "execution_count": null,
      "outputs": [
        {
          "output_type": "stream",
          "name": "stdout",
          "text": [
            "*\t+\t*\n",
            "+\t*\t+\n",
            "*\t+\t*\n"
          ]
        }
      ]
    },
    {
      "cell_type": "code",
      "source": [
        "print(\"Just because something thinks differently from you, dose that mean it's not thinking ?\")"
      ],
      "metadata": {
        "colab": {
          "base_uri": "https://localhost:8080/"
        },
        "id": "ivPqbfToaoJH",
        "outputId": "d758be41-9769-48c1-aab7-4c1c54aa00de"
      },
      "execution_count": null,
      "outputs": [
        {
          "output_type": "stream",
          "name": "stdout",
          "text": [
            "Just because something thinks differently from you, dose that mean it's not thinking ?\n"
          ]
        }
      ]
    },
    {
      "cell_type": "code",
      "source": [
        "print('''\\\\\\t\\t/\n",
        "\\tx\\t\n",
        "/\\t\\t\\\\''')"
      ],
      "metadata": {
        "colab": {
          "base_uri": "https://localhost:8080/"
        },
        "id": "OSUb-CK1a1_y",
        "outputId": "1b692989-c8f8-450f-8265-1c9782258ba5"
      },
      "execution_count": null,
      "outputs": [
        {
          "output_type": "stream",
          "name": "stdout",
          "text": [
            "\\\t\t/\n",
            "\tx\t\n",
            "/\t\t\\\n"
          ]
        }
      ]
    },
    {
      "cell_type": "code",
      "source": [
        "print(25)"
      ],
      "metadata": {
        "colab": {
          "base_uri": "https://localhost:8080/"
        },
        "id": "684Ja7TibYNe",
        "outputId": "aeba2801-4a51-4aa9-b2e7-4fa43a24e5d6"
      },
      "execution_count": null,
      "outputs": [
        {
          "output_type": "stream",
          "name": "stdout",
          "text": [
            "25\n"
          ]
        }
      ]
    },
    {
      "cell_type": "code",
      "source": [
        "print('%f' %100)"
      ],
      "metadata": {
        "colab": {
          "base_uri": "https://localhost:8080/"
        },
        "id": "jIXttpGdbbAC",
        "outputId": "9e337c9e-b1dc-43ea-e0f9-895663e76c73"
      },
      "execution_count": null,
      "outputs": [
        {
          "output_type": "stream",
          "name": "stdout",
          "text": [
            "100.000000\n"
          ]
        }
      ]
    },
    {
      "cell_type": "code",
      "source": [
        "print(3.141592653589793)"
      ],
      "metadata": {
        "colab": {
          "base_uri": "https://localhost:8080/"
        },
        "id": "qprpFvkHbj9I",
        "outputId": "c6cb7927-8605-4abc-af06-cca3691f904b"
      },
      "execution_count": null,
      "outputs": [
        {
          "output_type": "stream",
          "name": "stdout",
          "text": [
            "3.141592653589793\n"
          ]
        }
      ]
    },
    {
      "cell_type": "code",
      "source": [
        "import math\n",
        "print(math.pi)"
      ],
      "metadata": {
        "colab": {
          "base_uri": "https://localhost:8080/"
        },
        "id": "2rgQmfvsqfAk",
        "outputId": "62e7a1e7-afe2-4558-a9cc-01e095d43c06"
      },
      "execution_count": null,
      "outputs": [
        {
          "output_type": "stream",
          "name": "stdout",
          "text": [
            "3.141592653589793\n"
          ]
        }
      ]
    },
    {
      "cell_type": "code",
      "source": [
        "from math import pi\n",
        "print(pi)"
      ],
      "metadata": {
        "colab": {
          "base_uri": "https://localhost:8080/"
        },
        "id": "npJ0hFxfqsVo",
        "outputId": "54162966-91f4-4c1b-cd7d-7d1f18e0d315"
      },
      "execution_count": null,
      "outputs": [
        {
          "output_type": "stream",
          "name": "stdout",
          "text": [
            "3.141592653589793\n"
          ]
        }
      ]
    },
    {
      "cell_type": "code",
      "source": [
        "print('%.15f' % pi)"
      ],
      "metadata": {
        "colab": {
          "base_uri": "https://localhost:8080/"
        },
        "id": "ZJiwZYM4rZ40",
        "outputId": "5edaf959-9c69-47cf-f17d-d29429d06f37"
      },
      "execution_count": null,
      "outputs": [
        {
          "output_type": "stream",
          "name": "stdout",
          "text": [
            "3.141592653589793\n"
          ]
        }
      ]
    },
    {
      "cell_type": "code",
      "source": [
        "a=2\n",
        "print(a)"
      ],
      "metadata": {
        "colab": {
          "base_uri": "https://localhost:8080/"
        },
        "id": "gTN9Nmc9bzIk",
        "outputId": "a9ce6284-3115-4bc4-8f7a-c9899ea54be3"
      },
      "execution_count": null,
      "outputs": [
        {
          "output_type": "stream",
          "name": "stdout",
          "text": [
            "2\n"
          ]
        }
      ]
    },
    {
      "cell_type": "code",
      "source": [
        "a=12.5\n",
        "print(a)"
      ],
      "metadata": {
        "colab": {
          "base_uri": "https://localhost:8080/"
        },
        "id": "2LTWy6ikb6GE",
        "outputId": "84a9b2e6-cb16-4463-a30b-662d4a326fb1"
      },
      "execution_count": null,
      "outputs": [
        {
          "output_type": "stream",
          "name": "stdout",
          "text": [
            "12.5\n"
          ]
        }
      ]
    },
    {
      "cell_type": "code",
      "source": [
        "a=2\n",
        "b=3\n",
        "print('2 x 3 =',a*b)"
      ],
      "metadata": {
        "colab": {
          "base_uri": "https://localhost:8080/"
        },
        "id": "OQ3tvB9bb-Jn",
        "outputId": "35277d49-f1f3-407c-ae21-cd6d356442d2"
      },
      "execution_count": null,
      "outputs": [
        {
          "output_type": "stream",
          "name": "stdout",
          "text": [
            "2 x 3 = 6\n"
          ]
        }
      ]
    },
    {
      "cell_type": "code",
      "source": [
        "a=2\n",
        "b=3\n",
        "print('2 + 3 = 3 + 2 =',a+b)"
      ],
      "metadata": {
        "colab": {
          "base_uri": "https://localhost:8080/"
        },
        "id": "jh4bOx6mcNky",
        "outputId": "74fca21b-06d1-46ad-97c3-b250a6a4c3a1"
      },
      "execution_count": null,
      "outputs": [
        {
          "output_type": "stream",
          "name": "stdout",
          "text": [
            "2 + 3 = 3 + 2 = 5\n"
          ]
        }
      ]
    },
    {
      "cell_type": "code",
      "source": [
        "a=2\n",
        "b=3\n",
        "c=5\n",
        "print('2*(3+5) = %d*%d + %d*%d' %(a,b,a,c))"
      ],
      "metadata": {
        "colab": {
          "base_uri": "https://localhost:8080/"
        },
        "id": "36jQVEQGcpYx",
        "outputId": "f3822ca2-5ea8-4b62-b6ab-e6d1f05bc20c"
      },
      "execution_count": null,
      "outputs": [
        {
          "output_type": "stream",
          "name": "stdout",
          "text": [
            "2*(3+5) = 2*3 + 2*5\n"
          ]
        }
      ]
    },
    {
      "cell_type": "code",
      "source": [
        "a=2.4\n",
        "b=2.5\n",
        "print(a,'+',b,'= %.4f' %(a+b))"
      ],
      "metadata": {
        "colab": {
          "base_uri": "https://localhost:8080/"
        },
        "id": "KX65RMY7c7X6",
        "outputId": "b9938ccd-3f4e-4ee1-b21c-6a2ced785c98"
      },
      "execution_count": null,
      "outputs": [
        {
          "output_type": "stream",
          "name": "stdout",
          "text": [
            "2.4 + 2.5 = 4.9000\n"
          ]
        }
      ]
    },
    {
      "cell_type": "code",
      "source": [
        "a=5\n",
        "b=2\n",
        "print('%.2f - %.2f = %.4f' %(a,b,a-b))"
      ],
      "metadata": {
        "colab": {
          "base_uri": "https://localhost:8080/"
        },
        "id": "I8TmJumDdhL1",
        "outputId": "e4ee4ae5-7715-478f-c67e-c327ff04eb88"
      },
      "execution_count": null,
      "outputs": [
        {
          "output_type": "stream",
          "name": "stdout",
          "text": [
            "5.00 - 2.00 = 3.0000\n"
          ]
        }
      ]
    },
    {
      "cell_type": "code",
      "source": [
        "birthday=25\n",
        "print('ฉันเกิดวันที่',birthday,'ธันวาคม')"
      ],
      "metadata": {
        "colab": {
          "base_uri": "https://localhost:8080/"
        },
        "id": "Y1lpo9WqdvmM",
        "outputId": "6ffb9210-2217-41e7-cbe7-08d9f15e0eaf"
      },
      "execution_count": null,
      "outputs": [
        {
          "output_type": "stream",
          "name": "stdout",
          "text": [
            "ฉันเกิดวันที่ 25 ธันวาคม\n"
          ]
        }
      ]
    },
    {
      "cell_type": "code",
      "source": [
        "a=5\n",
        "b=100\n",
        "print('%d เท่าของ %d มีค่าเท่ากับ %d' %(a,b,a*b))"
      ],
      "metadata": {
        "colab": {
          "base_uri": "https://localhost:8080/"
        },
        "id": "qiO_fxXFd_AN",
        "outputId": "24d3896b-a8d7-420c-acc9-82715e509018"
      },
      "execution_count": null,
      "outputs": [
        {
          "output_type": "stream",
          "name": "stdout",
          "text": [
            "5 เท่าของ 100 มีค่าเท่ากับ 500\n"
          ]
        }
      ]
    },
    {
      "cell_type": "code",
      "source": [
        "a=3.5\n",
        "print('เขามีเงินเยอะกว่าฉัน %.2f บาท' % a)"
      ],
      "metadata": {
        "colab": {
          "base_uri": "https://localhost:8080/"
        },
        "id": "a5Ryq_lReOsW",
        "outputId": "89bf0750-ffd8-494f-fdef-deb9d700ecdd"
      },
      "execution_count": null,
      "outputs": [
        {
          "output_type": "stream",
          "name": "stdout",
          "text": [
            "เขามีเงินเยอะกว่าฉัน 3.50 บาท\n"
          ]
        }
      ]
    },
    {
      "cell_type": "code",
      "source": [
        "a=5\n",
        "print('ฉันได้กำไร',a,'%')"
      ],
      "metadata": {
        "colab": {
          "base_uri": "https://localhost:8080/"
        },
        "id": "nu3ChyFXeXZP",
        "outputId": "f5d1355d-45fa-4171-e3d0-96d8ae69b6ef"
      },
      "execution_count": null,
      "outputs": [
        {
          "output_type": "stream",
          "name": "stdout",
          "text": [
            "ฉันได้กำไร 5 %\n"
          ]
        }
      ]
    },
    {
      "cell_type": "code",
      "source": [
        "a=2\n",
        "b=3.5\n",
        "print('เมื่อวานฉันขาดทุน',a,'%','วันนี้ฉันได้กำไร %.2f' % b,'%')"
      ],
      "metadata": {
        "colab": {
          "base_uri": "https://localhost:8080/"
        },
        "id": "w6HjUyUfepEe",
        "outputId": "f514ba4b-da1b-4cea-faa0-4d08f20afed4"
      },
      "execution_count": null,
      "outputs": [
        {
          "output_type": "stream",
          "name": "stdout",
          "text": [
            "เมื่อวานฉันขาดทุน 2 % วันนี้ฉันได้กำไร 3.50 %\n"
          ]
        }
      ]
    },
    {
      "cell_type": "markdown",
      "source": [
        "# เรียนเนื้อหา03"
      ],
      "metadata": {
        "id": "PxW1e3Q7cb6h"
      }
    },
    {
      "cell_type": "code",
      "source": [
        "firstname = 'Bunyaphon'"
      ],
      "metadata": {
        "id": "roMS_XPhcbYH"
      },
      "execution_count": null,
      "outputs": []
    },
    {
      "cell_type": "code",
      "source": [
        "lastname = 'Chaimongkolsup'"
      ],
      "metadata": {
        "id": "4EUuMtYLdOCk"
      },
      "execution_count": null,
      "outputs": []
    },
    {
      "cell_type": "code",
      "source": [
        "age_full = 'I\\'m 16 years old.'"
      ],
      "metadata": {
        "id": "qUtDW2L9dWHd"
      },
      "execution_count": null,
      "outputs": []
    },
    {
      "cell_type": "code",
      "source": [
        "print('My firstname is',firstname + '.')\n",
        "print('My lastname is',lastname + '.')\n",
        "print(age_full)"
      ],
      "metadata": {
        "colab": {
          "base_uri": "https://localhost:8080/"
        },
        "id": "RpL1JGGPdqcG",
        "outputId": "281dff79-c27e-4fca-cc4b-8b190f36cc97"
      },
      "execution_count": null,
      "outputs": [
        {
          "output_type": "stream",
          "name": "stdout",
          "text": [
            "My firstname is Bunyaphon.\n",
            "My lastname is Chaimongkolsup.\n",
            "I'm 16 years old.\n"
          ]
        }
      ]
    },
    {
      "cell_type": "code",
      "source": [
        "a = 5\n",
        "b = 7"
      ],
      "metadata": {
        "id": "Senl_Z0se3J1"
      },
      "execution_count": null,
      "outputs": []
    },
    {
      "cell_type": "code",
      "source": [
        "print('a =',a)\n",
        "print('b =',b)\n",
        "print('a + b =',a+b)"
      ],
      "metadata": {
        "colab": {
          "base_uri": "https://localhost:8080/"
        },
        "id": "l1eK6A5Ze6-u",
        "outputId": "3ddca9f2-fd2d-4523-c873-e5ed9e2be2e4"
      },
      "execution_count": null,
      "outputs": [
        {
          "output_type": "stream",
          "name": "stdout",
          "text": [
            "a = 5\n",
            "b = 7\n",
            "a + b = 12\n"
          ]
        }
      ]
    },
    {
      "cell_type": "code",
      "source": [
        "c = d = e = 5"
      ],
      "metadata": {
        "id": "1dbMkQBQiG7Z"
      },
      "execution_count": null,
      "outputs": []
    },
    {
      "cell_type": "code",
      "source": [
        "print('c =',c)\n",
        "print('d =',d)\n",
        "print('e =',e)"
      ],
      "metadata": {
        "colab": {
          "base_uri": "https://localhost:8080/"
        },
        "id": "hHvTbf3fiJ30",
        "outputId": "0e64097e-4a25-487e-8e3d-7779dd6f92ea"
      },
      "execution_count": null,
      "outputs": [
        {
          "output_type": "stream",
          "name": "stdout",
          "text": [
            "c = 5\n",
            "d = 5\n",
            "e = 5\n"
          ]
        }
      ]
    },
    {
      "cell_type": "code",
      "source": [
        "f = 6; g = 7; h = 8"
      ],
      "metadata": {
        "id": "vYSYEd2ZibOk"
      },
      "execution_count": null,
      "outputs": []
    },
    {
      "cell_type": "code",
      "source": [
        "print('f =',f)\n",
        "print('g =',g)\n",
        "print('h =',h)"
      ],
      "metadata": {
        "colab": {
          "base_uri": "https://localhost:8080/"
        },
        "id": "BkVJ3L9bihGg",
        "outputId": "a71b1942-1e9d-4f20-c541-af3eed84e32b"
      },
      "execution_count": null,
      "outputs": [
        {
          "output_type": "stream",
          "name": "stdout",
          "text": [
            "f = 6\n",
            "g = 7\n",
            "h = 8\n"
          ]
        }
      ]
    },
    {
      "cell_type": "code",
      "source": [
        "i,j,k = 9,10,11"
      ],
      "metadata": {
        "id": "QCf-V4dnkyp3"
      },
      "execution_count": null,
      "outputs": []
    },
    {
      "cell_type": "code",
      "source": [
        "print('i =',i)\n",
        "print('j =',j)\n",
        "print('k =',k)"
      ],
      "metadata": {
        "colab": {
          "base_uri": "https://localhost:8080/"
        },
        "id": "ZScCQhMyk3nV",
        "outputId": "cad76124-0a19-497f-93b2-28b330dea3a8"
      },
      "execution_count": null,
      "outputs": [
        {
          "output_type": "stream",
          "name": "stdout",
          "text": [
            "i = 9\n",
            "j = 10\n",
            "k = 11\n"
          ]
        }
      ]
    },
    {
      "cell_type": "code",
      "source": [
        "a = 5\n",
        "b = 6\n",
        "A = 7\n",
        "B = 8"
      ],
      "metadata": {
        "id": "qGzOsxFNlkm9"
      },
      "execution_count": null,
      "outputs": []
    },
    {
      "cell_type": "code",
      "source": [
        "print('a =',a)\n",
        "print('b =',b)\n",
        "print('A =',A)\n",
        "print('B =',B)"
      ],
      "metadata": {
        "colab": {
          "base_uri": "https://localhost:8080/"
        },
        "id": "NcdjTVzsoyPX",
        "outputId": "4e74461a-771c-4288-ee9f-c9214ff27bd5"
      },
      "execution_count": null,
      "outputs": [
        {
          "output_type": "stream",
          "name": "stdout",
          "text": [
            "a = 5\n",
            "b = 6\n",
            "A = 7\n",
            "B = 8\n"
          ]
        }
      ]
    },
    {
      "cell_type": "markdown",
      "source": [
        "# ทำโจทย์03"
      ],
      "metadata": {
        "id": "5iiBFPQq3bGv"
      }
    },
    {
      "cell_type": "code",
      "source": [
        "name = 'ชื่อของคุณ' #ได้"
      ],
      "metadata": {
        "id": "Hgnhj-mvpYPC"
      },
      "execution_count": null,
      "outputs": []
    },
    {
      "cell_type": "code",
      "source": [
        "_name = 'ชื่อของคุณ' #ได้"
      ],
      "metadata": {
        "id": "FZQPLKV53-6D"
      },
      "execution_count": null,
      "outputs": []
    },
    {
      "cell_type": "code",
      "source": [
        "_name1 = 'ชื่อของคุณ'#ได้"
      ],
      "metadata": {
        "id": "d4sCxw5n4YlK"
      },
      "execution_count": null,
      "outputs": []
    },
    {
      "cell_type": "code",
      "source": [
        "name! = 'ชื่อของคุณ' #ไม่ได้ เพราะเป็นอักขระพิเศษ"
      ],
      "metadata": {
        "colab": {
          "base_uri": "https://localhost:8080/",
          "height": 145
        },
        "id": "w8ECXKGn4nZz",
        "outputId": "6ac33f17-2dc9-4f7c-bb48-f90796d6d61c"
      },
      "execution_count": null,
      "outputs": [
        {
          "output_type": "error",
          "ename": "SyntaxError",
          "evalue": "invalid syntax (<ipython-input-21-62a52b8b158c>, line 1)",
          "traceback": [
            "\u001b[0;36m  File \u001b[0;32m\"<ipython-input-21-62a52b8b158c>\"\u001b[0;36m, line \u001b[0;32m1\u001b[0m\n\u001b[0;31m    name! = 'ชื่อของคุณ'\u001b[0m\n\u001b[0m        ^\u001b[0m\n\u001b[0;31mSyntaxError\u001b[0m\u001b[0;31m:\u001b[0m invalid syntax\n"
          ]
        }
      ]
    },
    {
      "cell_type": "code",
      "source": [
        "!name = 'ชื่อของคุณ' #ไม่ได้ เพราะเป็นอักขระพิเศษ"
      ],
      "metadata": {
        "colab": {
          "base_uri": "https://localhost:8080/"
        },
        "id": "U5naFElY41CN",
        "outputId": "26a5e584-223e-4972-ccf4-ec6713b5e399"
      },
      "execution_count": null,
      "outputs": [
        {
          "output_type": "stream",
          "name": "stdout",
          "text": [
            "/bin/bash: line 1: name: command not found\n"
          ]
        }
      ]
    },
    {
      "cell_type": "code",
      "source": [
        "number = 20 #ได้"
      ],
      "metadata": {
        "id": "GwkhOtPm5EBz"
      },
      "execution_count": null,
      "outputs": []
    },
    {
      "cell_type": "code",
      "source": [
        "_number = 20 #ได้"
      ],
      "metadata": {
        "id": "kpVrr60h5PQj"
      },
      "execution_count": null,
      "outputs": []
    },
    {
      "cell_type": "code",
      "source": [
        "@number = 20 #ไม่ได้ เพราะเป็นอักขระพิเศษ"
      ],
      "metadata": {
        "colab": {
          "base_uri": "https://localhost:8080/",
          "height": 145
        },
        "id": "iy1o56Wd5Sjb",
        "outputId": "2bb30df1-77a3-4106-e581-5eaa49b822e2"
      },
      "execution_count": null,
      "outputs": [
        {
          "output_type": "error",
          "ename": "SyntaxError",
          "evalue": "invalid syntax. Maybe you meant '==' or ':=' instead of '='? (<ipython-input-27-820911938998>, line 1)",
          "traceback": [
            "\u001b[0;36m  File \u001b[0;32m\"<ipython-input-27-820911938998>\"\u001b[0;36m, line \u001b[0;32m1\u001b[0m\n\u001b[0;31m    @number = 20 #ไม่ได้ เพราะเป็นอักขระพิเศษ\u001b[0m\n\u001b[0m     ^\u001b[0m\n\u001b[0;31mSyntaxError\u001b[0m\u001b[0;31m:\u001b[0m invalid syntax. Maybe you meant '==' or ':=' instead of '='?\n"
          ]
        }
      ]
    },
    {
      "cell_type": "code",
      "source": [
        "number@ = 20 #ไม่ได้ เพราะเป็นอักขระพิเศษ"
      ],
      "metadata": {
        "colab": {
          "base_uri": "https://localhost:8080/",
          "height": 145
        },
        "id": "ftNkhr4Q5xns",
        "outputId": "e8e72a0d-dbfe-4c92-9b35-ed431c53503b"
      },
      "execution_count": null,
      "outputs": [
        {
          "output_type": "error",
          "ename": "SyntaxError",
          "evalue": "invalid syntax (<ipython-input-28-2b27e3d89ec9>, line 1)",
          "traceback": [
            "\u001b[0;36m  File \u001b[0;32m\"<ipython-input-28-2b27e3d89ec9>\"\u001b[0;36m, line \u001b[0;32m1\u001b[0m\n\u001b[0;31m    number@ = 20 #ไม่ได้ เพราะเป็นอักขระพิเศษ\u001b[0m\n\u001b[0m            ^\u001b[0m\n\u001b[0;31mSyntaxError\u001b[0m\u001b[0;31m:\u001b[0m invalid syntax\n"
          ]
        }
      ]
    },
    {
      "cell_type": "code",
      "source": [
        "a5 = 20"
      ],
      "metadata": {
        "id": "V1dM7_C66C41"
      },
      "execution_count": null,
      "outputs": []
    },
    {
      "cell_type": "code",
      "source": [
        "5a = 20 #ไม่ได้ เพราะตัวเเรกเป็นได้เเค่ตัวอักษรกับunder score"
      ],
      "metadata": {
        "colab": {
          "base_uri": "https://localhost:8080/",
          "height": 145
        },
        "id": "V2KoiA7I6J22",
        "outputId": "21d36b5f-53e3-4446-ffb4-57be965c2aa3"
      },
      "execution_count": null,
      "outputs": [
        {
          "output_type": "error",
          "ename": "SyntaxError",
          "evalue": "invalid decimal literal (<ipython-input-3-1c991b5c556a>, line 1)",
          "traceback": [
            "\u001b[0;36m  File \u001b[0;32m\"<ipython-input-3-1c991b5c556a>\"\u001b[0;36m, line \u001b[0;32m1\u001b[0m\n\u001b[0;31m    5a = 20 #ไม่ได้ เพราะตัวเเรกเป็นได้เเค่ตัวอักษรกับunder score\u001b[0m\n\u001b[0m    ^\u001b[0m\n\u001b[0;31mSyntaxError\u001b[0m\u001b[0;31m:\u001b[0m invalid decimal literal\n"
          ]
        }
      ]
    },
    {
      "cell_type": "code",
      "source": [
        "favorite_food = 'Hamburger' #ได้"
      ],
      "metadata": {
        "id": "eY1RHj-5B-mb"
      },
      "execution_count": null,
      "outputs": []
    },
    {
      "cell_type": "code",
      "source": [
        "FavoriteFood = 'Hamburger' #ได้"
      ],
      "metadata": {
        "id": "9sfB07YJCa8k"
      },
      "execution_count": null,
      "outputs": []
    },
    {
      "cell_type": "code",
      "source": [
        "favorite food = 'Hamburger' #ไม่ได้ เพราะชื่อตัวเเปรมีช่องว่าง ไม่มีอะไรเชื่อมติดกัน"
      ],
      "metadata": {
        "colab": {
          "base_uri": "https://localhost:8080/",
          "height": 145
        },
        "id": "2hoG_gwGDBHt",
        "outputId": "24e038ba-38ed-47ef-8dea-e75481fb18c4"
      },
      "execution_count": null,
      "outputs": [
        {
          "output_type": "error",
          "ename": "SyntaxError",
          "evalue": "invalid syntax (<ipython-input-5-2e441775de28>, line 1)",
          "traceback": [
            "\u001b[0;36m  File \u001b[0;32m\"<ipython-input-5-2e441775de28>\"\u001b[0;36m, line \u001b[0;32m1\u001b[0m\n\u001b[0;31m    favorite food = 'Hamburger' #ไม่ได้ เพราะชื่อตัวเเปรมีช่องว่าง ไม่มีอะไรเชื่อมติดกัน\u001b[0m\n\u001b[0m             ^\u001b[0m\n\u001b[0;31mSyntaxError\u001b[0m\u001b[0;31m:\u001b[0m invalid syntax\n"
          ]
        }
      ]
    },
    {
      "cell_type": "code",
      "source": [
        "if = 7 #ไม่ได้ เพราะชื่อตัวเเปรเป็นคำสั่ง"
      ],
      "metadata": {
        "colab": {
          "base_uri": "https://localhost:8080/",
          "height": 145
        },
        "id": "5NTKB2YADj9J",
        "outputId": "c3be3f7a-d1d0-4b49-f0a5-2f102dc1188d"
      },
      "execution_count": null,
      "outputs": [
        {
          "output_type": "error",
          "ename": "SyntaxError",
          "evalue": "invalid syntax (<ipython-input-6-9b6cbf7468bb>, line 1)",
          "traceback": [
            "\u001b[0;36m  File \u001b[0;32m\"<ipython-input-6-9b6cbf7468bb>\"\u001b[0;36m, line \u001b[0;32m1\u001b[0m\n\u001b[0;31m    if = 7\u001b[0m\n\u001b[0m       ^\u001b[0m\n\u001b[0;31mSyntaxError\u001b[0m\u001b[0;31m:\u001b[0m invalid syntax\n"
          ]
        }
      ]
    },
    {
      "cell_type": "code",
      "source": [
        "else = 5 #ไม่ได้ เพราะชื่อตัวเเปรเป็นคำสั่ง"
      ],
      "metadata": {
        "colab": {
          "base_uri": "https://localhost:8080/",
          "height": 145
        },
        "id": "JAivUU2TDml6",
        "outputId": "59c7fbce-5a88-4823-da88-e84fb26342d1"
      },
      "execution_count": null,
      "outputs": [
        {
          "output_type": "error",
          "ename": "SyntaxError",
          "evalue": "invalid syntax (<ipython-input-7-4a1f97f5fe59>, line 1)",
          "traceback": [
            "\u001b[0;36m  File \u001b[0;32m\"<ipython-input-7-4a1f97f5fe59>\"\u001b[0;36m, line \u001b[0;32m1\u001b[0m\n\u001b[0;31m    else = 5 #ไม่ได้ เพราะชื่อตัวเเปรเป็นคำสั่ง\u001b[0m\n\u001b[0m    ^\u001b[0m\n\u001b[0;31mSyntaxError\u001b[0m\u001b[0;31m:\u001b[0m invalid syntax\n"
          ]
        }
      ]
    },
    {
      "cell_type": "code",
      "source": [
        "for = 6 #ไม่ได้ เพราะชื่อตัวเเปรเป็นคำสั่ง"
      ],
      "metadata": {
        "colab": {
          "base_uri": "https://localhost:8080/",
          "height": 145
        },
        "id": "Jdf4gt7dEDc-",
        "outputId": "aa4a5d53-61ed-42a5-a3a1-789d9d7a0031"
      },
      "execution_count": null,
      "outputs": [
        {
          "output_type": "error",
          "ename": "SyntaxError",
          "evalue": "invalid syntax (<ipython-input-8-dcdc4d8edc7d>, line 1)",
          "traceback": [
            "\u001b[0;36m  File \u001b[0;32m\"<ipython-input-8-dcdc4d8edc7d>\"\u001b[0;36m, line \u001b[0;32m1\u001b[0m\n\u001b[0;31m    for = 6 #ไม่ได้ เพราะชื่อตัวเเปรเป็นคำสั่ง\u001b[0m\n\u001b[0m        ^\u001b[0m\n\u001b[0;31mSyntaxError\u001b[0m\u001b[0;31m:\u001b[0m invalid syntax\n"
          ]
        }
      ]
    },
    {
      "cell_type": "code",
      "source": [
        "a = 5,b = 6,c = 7 #ไม่ได้ ต้องคั้นด้วยเครื่องหมาย ;"
      ],
      "metadata": {
        "colab": {
          "base_uri": "https://localhost:8080/",
          "height": 145
        },
        "id": "T83Sk5bAEG4a",
        "outputId": "ee3c2a5d-cb21-4c4a-af5d-5ab66bc32e45"
      },
      "execution_count": null,
      "outputs": [
        {
          "output_type": "error",
          "ename": "SyntaxError",
          "evalue": "invalid syntax. Maybe you meant '==' or ':=' instead of '='? (<ipython-input-11-d0a15451d4bf>, line 1)",
          "traceback": [
            "\u001b[0;36m  File \u001b[0;32m\"<ipython-input-11-d0a15451d4bf>\"\u001b[0;36m, line \u001b[0;32m1\u001b[0m\n\u001b[0;31m    a = 5,b = 6,c = 7\u001b[0m\n\u001b[0m    ^\u001b[0m\n\u001b[0;31mSyntaxError\u001b[0m\u001b[0;31m:\u001b[0m invalid syntax. Maybe you meant '==' or ':=' instead of '='?\n"
          ]
        }
      ]
    },
    {
      "cell_type": "code",
      "source": [
        "a,b,c = 5,6,7 #ได้"
      ],
      "metadata": {
        "id": "JkZEv_f7EcBh"
      },
      "execution_count": null,
      "outputs": []
    },
    {
      "cell_type": "code",
      "source": [
        "a=5;b=6;c=7 #ได้"
      ],
      "metadata": {
        "id": "_yPdMaLhEl_v"
      },
      "execution_count": null,
      "outputs": []
    },
    {
      "cell_type": "markdown",
      "source": [
        "# เรียนเนื้อหา04"
      ],
      "metadata": {
        "id": "0ToJ7seNKq-s"
      }
    },
    {
      "cell_type": "code",
      "source": [
        "a = 1\n",
        "b = 2\n",
        "type(a)\n",
        "type(b)"
      ],
      "metadata": {
        "colab": {
          "base_uri": "https://localhost:8080/"
        },
        "id": "o-QHHk3HKtT1",
        "outputId": "3d3de13b-b331-492a-f5ab-dba18b5c1b44"
      },
      "execution_count": null,
      "outputs": [
        {
          "output_type": "execute_result",
          "data": {
            "text/plain": [
              "int"
            ]
          },
          "metadata": {},
          "execution_count": 15
        }
      ]
    },
    {
      "cell_type": "code",
      "source": [
        "c = 0.5\n",
        "d = 3/4\n",
        "type(c)\n",
        "type(d)"
      ],
      "metadata": {
        "colab": {
          "base_uri": "https://localhost:8080/"
        },
        "id": "EVYc_pcsOtww",
        "outputId": "56def131-9b1f-448a-c97d-ff421cf79e9c"
      },
      "execution_count": null,
      "outputs": [
        {
          "output_type": "execute_result",
          "data": {
            "text/plain": [
              "float"
            ]
          },
          "metadata": {},
          "execution_count": 16
        }
      ]
    },
    {
      "cell_type": "code",
      "source": [
        "t = True\n",
        "f = False\n",
        "type(t)\n",
        "type(f)"
      ],
      "metadata": {
        "colab": {
          "base_uri": "https://localhost:8080/"
        },
        "id": "A0aM_Mc-O81o",
        "outputId": "f533a917-fe1a-4725-be58-01272adf0724"
      },
      "execution_count": null,
      "outputs": [
        {
          "output_type": "execute_result",
          "data": {
            "text/plain": [
              "bool"
            ]
          },
          "metadata": {},
          "execution_count": 17
        }
      ]
    },
    {
      "cell_type": "code",
      "source": [
        "z = 1 + 2j\n",
        "type(z)"
      ],
      "metadata": {
        "colab": {
          "base_uri": "https://localhost:8080/"
        },
        "id": "aOJbct4QPONW",
        "outputId": "10d68a32-6eac-40bf-c2fb-1be09c8a8868"
      },
      "execution_count": null,
      "outputs": [
        {
          "output_type": "execute_result",
          "data": {
            "text/plain": [
              "complex"
            ]
          },
          "metadata": {},
          "execution_count": 21
        }
      ]
    },
    {
      "cell_type": "code",
      "source": [
        "z.real"
      ],
      "metadata": {
        "colab": {
          "base_uri": "https://localhost:8080/"
        },
        "id": "IQJkUxh6PY_K",
        "outputId": "59e0f8c4-cf7c-48b8-bce1-42d8e1a3904b"
      },
      "execution_count": null,
      "outputs": [
        {
          "output_type": "execute_result",
          "data": {
            "text/plain": [
              "1.0"
            ]
          },
          "metadata": {},
          "execution_count": 19
        }
      ]
    },
    {
      "cell_type": "code",
      "source": [
        "z.imag"
      ],
      "metadata": {
        "colab": {
          "base_uri": "https://localhost:8080/"
        },
        "id": "WPux9tGKPhb1",
        "outputId": "cadab560-a4f7-4587-cccc-668744987639"
      },
      "execution_count": null,
      "outputs": [
        {
          "output_type": "execute_result",
          "data": {
            "text/plain": [
              "2.0"
            ]
          },
          "metadata": {},
          "execution_count": 20
        }
      ]
    },
    {
      "cell_type": "code",
      "source": [
        "char1 = 'Hello World'\n",
        "char2 = '0123456789'\n",
        "type(char1)\n",
        "type(char2)"
      ],
      "metadata": {
        "colab": {
          "base_uri": "https://localhost:8080/"
        },
        "id": "WUTlLgpLQECf",
        "outputId": "a1daab2c-4f1c-49a0-c24b-df23708f1869"
      },
      "execution_count": null,
      "outputs": [
        {
          "output_type": "execute_result",
          "data": {
            "text/plain": [
              "str"
            ]
          },
          "metadata": {},
          "execution_count": 22
        }
      ]
    },
    {
      "cell_type": "code",
      "source": [
        "char3 = '0123456789'"
      ],
      "metadata": {
        "id": "3zDq2tnKBqEK"
      },
      "execution_count": null,
      "outputs": []
    },
    {
      "cell_type": "code",
      "source": [
        "char3[0]"
      ],
      "metadata": {
        "colab": {
          "base_uri": "https://localhost:8080/",
          "height": 35
        },
        "id": "hISgi1BxBxzc",
        "outputId": "85cfda95-fb76-4cf5-c60f-61fcc634ba03"
      },
      "execution_count": null,
      "outputs": [
        {
          "output_type": "execute_result",
          "data": {
            "text/plain": [
              "'0'"
            ],
            "application/vnd.google.colaboratory.intrinsic+json": {
              "type": "string"
            }
          },
          "metadata": {},
          "execution_count": 2
        }
      ]
    },
    {
      "cell_type": "code",
      "source": [
        "char3[5]"
      ],
      "metadata": {
        "colab": {
          "base_uri": "https://localhost:8080/",
          "height": 35
        },
        "id": "ALOqubjMB_QJ",
        "outputId": "faf1ab54-68c1-465b-a42e-f962ec111c6c"
      },
      "execution_count": null,
      "outputs": [
        {
          "output_type": "execute_result",
          "data": {
            "text/plain": [
              "'5'"
            ],
            "application/vnd.google.colaboratory.intrinsic+json": {
              "type": "string"
            }
          },
          "metadata": {},
          "execution_count": 3
        }
      ]
    },
    {
      "cell_type": "code",
      "source": [
        "char3[-1]"
      ],
      "metadata": {
        "colab": {
          "base_uri": "https://localhost:8080/",
          "height": 35
        },
        "id": "qcuTVms8CGgE",
        "outputId": "71c24fbe-fba4-4444-bcc5-0f88d33fbfd3"
      },
      "execution_count": null,
      "outputs": [
        {
          "output_type": "execute_result",
          "data": {
            "text/plain": [
              "'9'"
            ],
            "application/vnd.google.colaboratory.intrinsic+json": {
              "type": "string"
            }
          },
          "metadata": {},
          "execution_count": 4
        }
      ]
    },
    {
      "cell_type": "code",
      "source": [
        "char3[-2]"
      ],
      "metadata": {
        "colab": {
          "base_uri": "https://localhost:8080/",
          "height": 35
        },
        "id": "Lq_QE1ASCOKy",
        "outputId": "c5ffa97c-3fa0-4828-d1f3-1c54d1e3406f"
      },
      "execution_count": null,
      "outputs": [
        {
          "output_type": "execute_result",
          "data": {
            "text/plain": [
              "'8'"
            ],
            "application/vnd.google.colaboratory.intrinsic+json": {
              "type": "string"
            }
          },
          "metadata": {},
          "execution_count": 5
        }
      ]
    },
    {
      "cell_type": "code",
      "source": [
        "char3[3:]"
      ],
      "metadata": {
        "colab": {
          "base_uri": "https://localhost:8080/",
          "height": 35
        },
        "id": "QQ0ykm-sD-Ug",
        "outputId": "f7ee324c-3abb-4b7b-f2be-0b6d2d24aa65"
      },
      "execution_count": null,
      "outputs": [
        {
          "output_type": "execute_result",
          "data": {
            "text/plain": [
              "'3456789'"
            ],
            "application/vnd.google.colaboratory.intrinsic+json": {
              "type": "string"
            }
          },
          "metadata": {},
          "execution_count": 6
        }
      ]
    },
    {
      "cell_type": "code",
      "source": [
        "char3[:7]"
      ],
      "metadata": {
        "colab": {
          "base_uri": "https://localhost:8080/",
          "height": 35
        },
        "id": "v5b1BajOEBFi",
        "outputId": "2c6136d4-2e74-493b-ddbf-28d31702440a"
      },
      "execution_count": null,
      "outputs": [
        {
          "output_type": "execute_result",
          "data": {
            "text/plain": [
              "'0123456'"
            ],
            "application/vnd.google.colaboratory.intrinsic+json": {
              "type": "string"
            }
          },
          "metadata": {},
          "execution_count": 7
        }
      ]
    },
    {
      "cell_type": "code",
      "source": [
        "char3[3:7]"
      ],
      "metadata": {
        "colab": {
          "base_uri": "https://localhost:8080/",
          "height": 35
        },
        "id": "VTwl3YMqEHRK",
        "outputId": "4452b5e1-be63-484b-dc46-bb887266987c"
      },
      "execution_count": null,
      "outputs": [
        {
          "output_type": "execute_result",
          "data": {
            "text/plain": [
              "'3456'"
            ],
            "application/vnd.google.colaboratory.intrinsic+json": {
              "type": "string"
            }
          },
          "metadata": {},
          "execution_count": 8
        }
      ]
    },
    {
      "cell_type": "code",
      "source": [
        "char4 = 'abc'"
      ],
      "metadata": {
        "id": "ksQHmlJeHIpC"
      },
      "execution_count": null,
      "outputs": []
    },
    {
      "cell_type": "code",
      "source": [
        "char4.replace('a','A')"
      ],
      "metadata": {
        "colab": {
          "base_uri": "https://localhost:8080/",
          "height": 35
        },
        "id": "HNWFeGF2HMsG",
        "outputId": "a66323bf-e00d-4db5-8d8e-0d9f7689aaa1"
      },
      "execution_count": null,
      "outputs": [
        {
          "output_type": "execute_result",
          "data": {
            "text/plain": [
              "'Abc'"
            ],
            "application/vnd.google.colaboratory.intrinsic+json": {
              "type": "string"
            }
          },
          "metadata": {},
          "execution_count": 10
        }
      ]
    },
    {
      "cell_type": "code",
      "source": [
        "char4.replace('bc','DE')"
      ],
      "metadata": {
        "colab": {
          "base_uri": "https://localhost:8080/",
          "height": 35
        },
        "id": "dU5WrVxVIE8G",
        "outputId": "fe1db941-ecac-470c-f89a-9706c901a3ad"
      },
      "execution_count": null,
      "outputs": [
        {
          "output_type": "execute_result",
          "data": {
            "text/plain": [
              "'aDE'"
            ],
            "application/vnd.google.colaboratory.intrinsic+json": {
              "type": "string"
            }
          },
          "metadata": {},
          "execution_count": 11
        }
      ]
    },
    {
      "cell_type": "code",
      "source": [
        "char5 = '12345'"
      ],
      "metadata": {
        "id": "l_4GzrQ8I0KY"
      },
      "execution_count": null,
      "outputs": []
    },
    {
      "cell_type": "code",
      "source": [
        "len(char5)"
      ],
      "metadata": {
        "colab": {
          "base_uri": "https://localhost:8080/"
        },
        "id": "VU9eXmSNI4xe",
        "outputId": "ca853903-26f6-4bdf-f4b4-2311e4d01649"
      },
      "execution_count": null,
      "outputs": [
        {
          "output_type": "execute_result",
          "data": {
            "text/plain": [
              "5"
            ]
          },
          "metadata": {},
          "execution_count": 13
        }
      ]
    },
    {
      "cell_type": "code",
      "source": [
        "char6 = 'Python'"
      ],
      "metadata": {
        "id": "ReeRD4IFJDZT"
      },
      "execution_count": null,
      "outputs": []
    },
    {
      "cell_type": "code",
      "source": [
        "'P' in char6"
      ],
      "metadata": {
        "colab": {
          "base_uri": "https://localhost:8080/"
        },
        "id": "RGyMabx5JI-l",
        "outputId": "7ab00679-6b47-4555-c22a-867070234ba9"
      },
      "execution_count": null,
      "outputs": [
        {
          "output_type": "execute_result",
          "data": {
            "text/plain": [
              "True"
            ]
          },
          "metadata": {},
          "execution_count": 16
        }
      ]
    },
    {
      "cell_type": "code",
      "source": [
        "'p' in char6"
      ],
      "metadata": {
        "colab": {
          "base_uri": "https://localhost:8080/"
        },
        "id": "yA4PHltdJYKY",
        "outputId": "6daa2eb7-8401-4ba6-95a8-457d5b0b0aaa"
      },
      "execution_count": null,
      "outputs": [
        {
          "output_type": "execute_result",
          "data": {
            "text/plain": [
              "False"
            ]
          },
          "metadata": {},
          "execution_count": 17
        }
      ]
    },
    {
      "cell_type": "code",
      "source": [
        "char7 = 'one-two-three'"
      ],
      "metadata": {
        "id": "E_AbHEiuM2p2"
      },
      "execution_count": null,
      "outputs": []
    },
    {
      "cell_type": "code",
      "source": [
        "char7.split('-')"
      ],
      "metadata": {
        "colab": {
          "base_uri": "https://localhost:8080/"
        },
        "id": "9x5jmZQSM9iG",
        "outputId": "3270c949-3f33-4138-deef-587ad2fd591c"
      },
      "execution_count": null,
      "outputs": [
        {
          "output_type": "execute_result",
          "data": {
            "text/plain": [
              "['one', 'two', 'three']"
            ]
          },
          "metadata": {},
          "execution_count": 2
        }
      ]
    },
    {
      "cell_type": "code",
      "source": [
        "char8 = 'I love coding'"
      ],
      "metadata": {
        "id": "35ivnG9iNElr"
      },
      "execution_count": null,
      "outputs": []
    },
    {
      "cell_type": "code",
      "source": [
        "char8.split(' ')"
      ],
      "metadata": {
        "colab": {
          "base_uri": "https://localhost:8080/"
        },
        "id": "AKdPm48jNIRl",
        "outputId": "8a6e6e77-6acc-43f9-dc4a-f0acb4512214"
      },
      "execution_count": null,
      "outputs": [
        {
          "output_type": "execute_result",
          "data": {
            "text/plain": [
              "['I', 'love', 'coding']"
            ]
          },
          "metadata": {},
          "execution_count": 4
        }
      ]
    },
    {
      "cell_type": "code",
      "source": [
        "char9 = 'ab'\n",
        "char10 = 'cd'"
      ],
      "metadata": {
        "id": "k_8K-7xqNZbK"
      },
      "execution_count": null,
      "outputs": []
    },
    {
      "cell_type": "code",
      "source": [
        "char9 + char10"
      ],
      "metadata": {
        "colab": {
          "base_uri": "https://localhost:8080/",
          "height": 35
        },
        "id": "JhqXGks3NeQz",
        "outputId": "d22b2bd0-ae49-41cb-ac3f-8b3c817b93f0"
      },
      "execution_count": null,
      "outputs": [
        {
          "output_type": "execute_result",
          "data": {
            "text/plain": [
              "'abcd'"
            ],
            "application/vnd.google.colaboratory.intrinsic+json": {
              "type": "string"
            }
          },
          "metadata": {},
          "execution_count": 6
        }
      ]
    },
    {
      "cell_type": "code",
      "source": [
        "char11 = 'A'\n",
        "char12 = 'B'\n",
        "char13 = 'C'"
      ],
      "metadata": {
        "id": "Z4inf4HpNhZB"
      },
      "execution_count": null,
      "outputs": []
    },
    {
      "cell_type": "code",
      "source": [
        "char11 + char12 + char13"
      ],
      "metadata": {
        "colab": {
          "base_uri": "https://localhost:8080/",
          "height": 35
        },
        "id": "OYA93SlLWDUS",
        "outputId": "5bc04727-a6c6-474c-df19-7ab443b1ecf3"
      },
      "execution_count": null,
      "outputs": [
        {
          "output_type": "execute_result",
          "data": {
            "text/plain": [
              "'ABC'"
            ],
            "application/vnd.google.colaboratory.intrinsic+json": {
              "type": "string"
            }
          },
          "metadata": {},
          "execution_count": 2
        }
      ]
    },
    {
      "cell_type": "code",
      "source": [
        "list1 = [1,2,3,4,5]\n",
        "list2 = ['a','b','c','d']\n",
        "list3 = [1,2,3,'a','b','c']"
      ],
      "metadata": {
        "id": "M-UxenqiXDSi"
      },
      "execution_count": null,
      "outputs": []
    },
    {
      "cell_type": "code",
      "source": [
        "type(list1)"
      ],
      "metadata": {
        "colab": {
          "base_uri": "https://localhost:8080/"
        },
        "id": "Z87PB94cXzGf",
        "outputId": "b5a82913-396d-499b-be73-7f379b28caa9"
      },
      "execution_count": null,
      "outputs": [
        {
          "output_type": "execute_result",
          "data": {
            "text/plain": [
              "list"
            ]
          },
          "metadata": {},
          "execution_count": 4
        }
      ]
    },
    {
      "cell_type": "code",
      "source": [
        "type(list2)"
      ],
      "metadata": {
        "colab": {
          "base_uri": "https://localhost:8080/"
        },
        "id": "bhpz8DViXzCC",
        "outputId": "6eba2772-2494-451a-c7e7-34e5d30b0ade"
      },
      "execution_count": null,
      "outputs": [
        {
          "output_type": "execute_result",
          "data": {
            "text/plain": [
              "list"
            ]
          },
          "metadata": {},
          "execution_count": 5
        }
      ]
    },
    {
      "cell_type": "code",
      "source": [
        "type(list3)"
      ],
      "metadata": {
        "colab": {
          "base_uri": "https://localhost:8080/"
        },
        "id": "XKV8ejHBYIi4",
        "outputId": "cdd4698e-4857-42e4-8932-71d1198706c9"
      },
      "execution_count": null,
      "outputs": [
        {
          "output_type": "execute_result",
          "data": {
            "text/plain": [
              "list"
            ]
          },
          "metadata": {},
          "execution_count": 6
        }
      ]
    },
    {
      "cell_type": "code",
      "source": [
        "list3[0]"
      ],
      "metadata": {
        "colab": {
          "base_uri": "https://localhost:8080/"
        },
        "id": "_HqtiopcY3xN",
        "outputId": "73efd678-a3fe-4092-9dfa-391362484b94"
      },
      "execution_count": null,
      "outputs": [
        {
          "output_type": "execute_result",
          "data": {
            "text/plain": [
              "1"
            ]
          },
          "metadata": {},
          "execution_count": 7
        }
      ]
    },
    {
      "cell_type": "code",
      "source": [
        "list3[-1]"
      ],
      "metadata": {
        "colab": {
          "base_uri": "https://localhost:8080/",
          "height": 35
        },
        "id": "tmWEc2R9ZUXP",
        "outputId": "64908928-6693-4f4a-b74f-e76c8e8f0e27"
      },
      "execution_count": null,
      "outputs": [
        {
          "output_type": "execute_result",
          "data": {
            "text/plain": [
              "'c'"
            ],
            "application/vnd.google.colaboratory.intrinsic+json": {
              "type": "string"
            }
          },
          "metadata": {},
          "execution_count": 8
        }
      ]
    },
    {
      "cell_type": "code",
      "source": [
        "list3[-2]"
      ],
      "metadata": {
        "colab": {
          "base_uri": "https://localhost:8080/",
          "height": 35
        },
        "id": "-DcnM4oSZigv",
        "outputId": "e7d8aa72-993a-4690-be7f-bef5d845573f"
      },
      "execution_count": null,
      "outputs": [
        {
          "output_type": "execute_result",
          "data": {
            "text/plain": [
              "'b'"
            ],
            "application/vnd.google.colaboratory.intrinsic+json": {
              "type": "string"
            }
          },
          "metadata": {},
          "execution_count": 9
        }
      ]
    },
    {
      "cell_type": "code",
      "source": [
        "list3[3:]"
      ],
      "metadata": {
        "colab": {
          "base_uri": "https://localhost:8080/"
        },
        "id": "Sy0WkFU-Z56q",
        "outputId": "61f0dd21-aa2b-4198-8b51-fefe6477a309"
      },
      "execution_count": null,
      "outputs": [
        {
          "output_type": "execute_result",
          "data": {
            "text/plain": [
              "['a', 'b', 'c']"
            ]
          },
          "metadata": {},
          "execution_count": 10
        }
      ]
    },
    {
      "cell_type": "code",
      "source": [
        "list3[:5]"
      ],
      "metadata": {
        "colab": {
          "base_uri": "https://localhost:8080/"
        },
        "id": "u6-hPH2QZ7a0",
        "outputId": "440f0c40-8d3e-4ee6-eb5e-6de54eedf740"
      },
      "execution_count": null,
      "outputs": [
        {
          "output_type": "execute_result",
          "data": {
            "text/plain": [
              "[1, 2, 3, 'a', 'b']"
            ]
          },
          "metadata": {},
          "execution_count": 11
        }
      ]
    },
    {
      "cell_type": "code",
      "source": [
        "list3[3:5]"
      ],
      "metadata": {
        "colab": {
          "base_uri": "https://localhost:8080/"
        },
        "id": "HtV3MGc4aB0L",
        "outputId": "75170d4e-f9bc-414f-de70-466e06604a93"
      },
      "execution_count": null,
      "outputs": [
        {
          "output_type": "execute_result",
          "data": {
            "text/plain": [
              "['a', 'b']"
            ]
          },
          "metadata": {},
          "execution_count": 12
        }
      ]
    },
    {
      "cell_type": "code",
      "source": [
        "list3[0] = 0"
      ],
      "metadata": {
        "id": "NNHV4boFbL2j"
      },
      "execution_count": null,
      "outputs": []
    },
    {
      "cell_type": "code",
      "source": [
        "list3"
      ],
      "metadata": {
        "colab": {
          "base_uri": "https://localhost:8080/"
        },
        "id": "w6CzDifabaHB",
        "outputId": "44711c8c-3e65-46ef-fe6d-e6ca86a8d77e"
      },
      "execution_count": null,
      "outputs": [
        {
          "output_type": "execute_result",
          "data": {
            "text/plain": [
              "[0, 2, 3, 'a', 'b', 'c']"
            ]
          },
          "metadata": {},
          "execution_count": 14
        }
      ]
    },
    {
      "cell_type": "code",
      "source": [
        "list3[-1] = 'x'\n",
        "list3"
      ],
      "metadata": {
        "colab": {
          "base_uri": "https://localhost:8080/"
        },
        "id": "HbfOQVThbb_8",
        "outputId": "78265b32-fd74-4763-a7bb-125caa2d1ae2"
      },
      "execution_count": null,
      "outputs": [
        {
          "output_type": "execute_result",
          "data": {
            "text/plain": [
              "[0, 2, 3, 'a', 'b', 'x']"
            ]
          },
          "metadata": {},
          "execution_count": 15
        }
      ]
    },
    {
      "cell_type": "code",
      "source": [
        "list3.append('d')"
      ],
      "metadata": {
        "id": "7EQpF9eyb8Sc"
      },
      "execution_count": null,
      "outputs": []
    },
    {
      "cell_type": "code",
      "source": [
        "list3.append('e')\n",
        "list3"
      ],
      "metadata": {
        "colab": {
          "base_uri": "https://localhost:8080/"
        },
        "id": "2jXzK17VcB-j",
        "outputId": "9d8d6cea-bb96-4906-ed99-f8615de31870"
      },
      "execution_count": null,
      "outputs": [
        {
          "output_type": "execute_result",
          "data": {
            "text/plain": [
              "[0, 2, 3, 'a', 'b', 'x', 'd', 'e']"
            ]
          },
          "metadata": {},
          "execution_count": 17
        }
      ]
    },
    {
      "cell_type": "code",
      "source": [
        "list4 = [1,2,3]\n",
        "list5 = ['a','b','c']"
      ],
      "metadata": {
        "id": "-c3qAJQ9cSnu"
      },
      "execution_count": null,
      "outputs": []
    },
    {
      "cell_type": "code",
      "source": [
        "list4.extend(list5)\n",
        "list4"
      ],
      "metadata": {
        "colab": {
          "base_uri": "https://localhost:8080/"
        },
        "id": "lrvp2i3gccgQ",
        "outputId": "e498d949-acee-4815-b873-e472f52a847b"
      },
      "execution_count": null,
      "outputs": [
        {
          "output_type": "execute_result",
          "data": {
            "text/plain": [
              "[1, 2, 3, 'a', 'b', 'c']"
            ]
          },
          "metadata": {},
          "execution_count": 19
        }
      ]
    },
    {
      "cell_type": "code",
      "source": [
        "list4.insert(1,'one')\n",
        "list4"
      ],
      "metadata": {
        "colab": {
          "base_uri": "https://localhost:8080/"
        },
        "id": "MZ-tbV53dRo0",
        "outputId": "95280949-bf6d-4f99-9f24-f4a78397562c"
      },
      "execution_count": null,
      "outputs": [
        {
          "output_type": "execute_result",
          "data": {
            "text/plain": [
              "[1, 'one', 2, 3, 'a', 'b', 'c']"
            ]
          },
          "metadata": {},
          "execution_count": 20
        }
      ]
    },
    {
      "cell_type": "code",
      "source": [
        "del list4[1]\n",
        "list4"
      ],
      "metadata": {
        "colab": {
          "base_uri": "https://localhost:8080/"
        },
        "id": "E2ggYhkne4aJ",
        "outputId": "83404d1d-f3c9-49dc-bc3a-610136184c7c"
      },
      "execution_count": null,
      "outputs": [
        {
          "output_type": "execute_result",
          "data": {
            "text/plain": [
              "[1, 2, 3, 'a', 'b', 'c']"
            ]
          },
          "metadata": {},
          "execution_count": 22
        }
      ]
    },
    {
      "cell_type": "code",
      "source": [
        "list4.remove(1)\n",
        "list4"
      ],
      "metadata": {
        "colab": {
          "base_uri": "https://localhost:8080/"
        },
        "id": "y8wlDkC6f1tn",
        "outputId": "48c2fa47-6cca-4409-b453-4495506bc5f1"
      },
      "execution_count": null,
      "outputs": [
        {
          "output_type": "execute_result",
          "data": {
            "text/plain": [
              "[2, 3]"
            ]
          },
          "metadata": {},
          "execution_count": 24
        }
      ]
    },
    {
      "cell_type": "code",
      "source": [
        "list4.clear()\n",
        "list4"
      ],
      "metadata": {
        "colab": {
          "base_uri": "https://localhost:8080/"
        },
        "id": "tWiJ0jg72rJA",
        "outputId": "1bbb5871-f70f-40cc-dfcd-3725fbe61ad0"
      },
      "execution_count": null,
      "outputs": [
        {
          "output_type": "execute_result",
          "data": {
            "text/plain": [
              "[]"
            ]
          },
          "metadata": {},
          "execution_count": 3
        }
      ]
    },
    {
      "cell_type": "code",
      "source": [
        "list5 = [1,5,4,2,3]"
      ],
      "metadata": {
        "id": "SHSPY3wQ9Upc"
      },
      "execution_count": null,
      "outputs": []
    },
    {
      "cell_type": "code",
      "source": [
        "list5.sort()\n",
        "list5"
      ],
      "metadata": {
        "colab": {
          "base_uri": "https://localhost:8080/"
        },
        "id": "QhuAAgzG9b_X",
        "outputId": "86142add-da79-4b6f-e0b6-e85d557fcf6b"
      },
      "execution_count": null,
      "outputs": [
        {
          "output_type": "execute_result",
          "data": {
            "text/plain": [
              "[1, 2, 3, 4, 5]"
            ]
          },
          "metadata": {},
          "execution_count": 6
        }
      ]
    },
    {
      "cell_type": "code",
      "source": [
        "list5.sort(reverse = True)\n",
        "list5"
      ],
      "metadata": {
        "colab": {
          "base_uri": "https://localhost:8080/"
        },
        "id": "Os48noRQ9pgX",
        "outputId": "e50529e3-2a1b-4d02-97c7-a673e83e6e02"
      },
      "execution_count": null,
      "outputs": [
        {
          "output_type": "execute_result",
          "data": {
            "text/plain": [
              "[5, 4, 3, 2, 1]"
            ]
          },
          "metadata": {},
          "execution_count": 7
        }
      ]
    },
    {
      "cell_type": "code",
      "source": [
        "list5 = [1,5,4,2,3]\n",
        "sorted_list5 = sorted(list5)\n",
        "sorted_list5"
      ],
      "metadata": {
        "colab": {
          "base_uri": "https://localhost:8080/"
        },
        "id": "XdH8RFvt99Qm",
        "outputId": "88f7c02d-7b8c-42ca-ec55-2b63b0ab4bd6"
      },
      "execution_count": null,
      "outputs": [
        {
          "output_type": "execute_result",
          "data": {
            "text/plain": [
              "[1, 2, 3, 4, 5]"
            ]
          },
          "metadata": {},
          "execution_count": 8
        }
      ]
    },
    {
      "cell_type": "code",
      "source": [
        "list5 = [1,5,4,2,3]\n",
        "sorted_list5 = sorted(list5,reverse = True)\n",
        "sorted_list5"
      ],
      "metadata": {
        "colab": {
          "base_uri": "https://localhost:8080/"
        },
        "id": "zzwzhhAs-ZSx",
        "outputId": "e82c80b4-32a6-4516-f321-2bbedc424f72"
      },
      "execution_count": null,
      "outputs": [
        {
          "output_type": "execute_result",
          "data": {
            "text/plain": [
              "[5, 4, 3, 2, 1]"
            ]
          },
          "metadata": {},
          "execution_count": 10
        }
      ]
    },
    {
      "cell_type": "code",
      "source": [
        "list6 = [1,2,3,'a','b','c']\n",
        "len(list6)"
      ],
      "metadata": {
        "colab": {
          "base_uri": "https://localhost:8080/"
        },
        "id": "cX-8afIx-imD",
        "outputId": "7d98b4bd-f205-402c-ca93-d2e9cf0a4973"
      },
      "execution_count": null,
      "outputs": [
        {
          "output_type": "execute_result",
          "data": {
            "text/plain": [
              "6"
            ]
          },
          "metadata": {},
          "execution_count": 11
        }
      ]
    },
    {
      "cell_type": "code",
      "source": [
        "'b' in list6"
      ],
      "metadata": {
        "colab": {
          "base_uri": "https://localhost:8080/"
        },
        "id": "oDG6cCTs-6gp",
        "outputId": "258ab2e5-a383-4d26-d827-0253477e90eb"
      },
      "execution_count": null,
      "outputs": [
        {
          "output_type": "execute_result",
          "data": {
            "text/plain": [
              "True"
            ]
          },
          "metadata": {},
          "execution_count": 12
        }
      ]
    },
    {
      "cell_type": "code",
      "source": [
        "tuple1 = (1,2,3,4,5)\n",
        "tuple2 = ('a','b','c','d')\n",
        "tuple3 = (1,2,3,'a','b','c')"
      ],
      "metadata": {
        "id": "SfNF6JZc_nM3"
      },
      "execution_count": null,
      "outputs": []
    },
    {
      "cell_type": "code",
      "source": [
        "type(tuple1)"
      ],
      "metadata": {
        "colab": {
          "base_uri": "https://localhost:8080/"
        },
        "id": "cRHamVcE_2Yj",
        "outputId": "8a2dd12c-e83f-4019-e7d3-a4b08fd940a2"
      },
      "execution_count": null,
      "outputs": [
        {
          "output_type": "execute_result",
          "data": {
            "text/plain": [
              "tuple"
            ]
          },
          "metadata": {},
          "execution_count": 14
        }
      ]
    },
    {
      "cell_type": "code",
      "source": [
        "type(tuple2)"
      ],
      "metadata": {
        "colab": {
          "base_uri": "https://localhost:8080/"
        },
        "id": "T1R3FwTA_6SD",
        "outputId": "530b979a-f72e-4eba-90d7-991fed75cabd"
      },
      "execution_count": null,
      "outputs": [
        {
          "output_type": "execute_result",
          "data": {
            "text/plain": [
              "tuple"
            ]
          },
          "metadata": {},
          "execution_count": 15
        }
      ]
    },
    {
      "cell_type": "code",
      "source": [
        "type(tuple3)"
      ],
      "metadata": {
        "colab": {
          "base_uri": "https://localhost:8080/"
        },
        "id": "Ph2h4NN-_77N",
        "outputId": "fea8472a-02c3-4017-b6ac-eacd5bec0242"
      },
      "execution_count": null,
      "outputs": [
        {
          "output_type": "execute_result",
          "data": {
            "text/plain": [
              "tuple"
            ]
          },
          "metadata": {},
          "execution_count": 16
        }
      ]
    },
    {
      "cell_type": "code",
      "source": [
        "tuple3[0]"
      ],
      "metadata": {
        "colab": {
          "base_uri": "https://localhost:8080/"
        },
        "id": "hsVrn2fYAKKE",
        "outputId": "27f325a4-c610-41b9-f0e3-e183798c9230"
      },
      "execution_count": null,
      "outputs": [
        {
          "output_type": "execute_result",
          "data": {
            "text/plain": [
              "1"
            ]
          },
          "metadata": {},
          "execution_count": 17
        }
      ]
    },
    {
      "cell_type": "code",
      "source": [
        "tuple3[-1]"
      ],
      "metadata": {
        "colab": {
          "base_uri": "https://localhost:8080/",
          "height": 35
        },
        "id": "pn6vq1aBAQgG",
        "outputId": "08b16f5c-d2fd-47e4-c0ec-3f84f94499e0"
      },
      "execution_count": null,
      "outputs": [
        {
          "output_type": "execute_result",
          "data": {
            "text/plain": [
              "'c'"
            ],
            "application/vnd.google.colaboratory.intrinsic+json": {
              "type": "string"
            }
          },
          "metadata": {},
          "execution_count": 18
        }
      ]
    },
    {
      "cell_type": "code",
      "source": [
        "'b' in tuple3"
      ],
      "metadata": {
        "colab": {
          "base_uri": "https://localhost:8080/"
        },
        "id": "6BIceF_GArGB",
        "outputId": "f555d1c5-be0b-490c-f4cf-964be6e18294"
      },
      "execution_count": null,
      "outputs": [
        {
          "output_type": "execute_result",
          "data": {
            "text/plain": [
              "True"
            ]
          },
          "metadata": {},
          "execution_count": 19
        }
      ]
    },
    {
      "cell_type": "code",
      "source": [
        "dict1 = {'firstname':'John','lastname':'Doe','age':32}\n",
        "dict2 = {'fullname':'John Doe','hobby':['coding','study']}"
      ],
      "metadata": {
        "id": "93KfseKbBO4j"
      },
      "execution_count": null,
      "outputs": []
    },
    {
      "cell_type": "code",
      "source": [
        "type(dict1)"
      ],
      "metadata": {
        "colab": {
          "base_uri": "https://localhost:8080/"
        },
        "id": "Z6Y8YFLpB7sU",
        "outputId": "13634bbc-5fa1-4422-d151-8b299261e2cb"
      },
      "execution_count": null,
      "outputs": [
        {
          "output_type": "execute_result",
          "data": {
            "text/plain": [
              "dict"
            ]
          },
          "metadata": {},
          "execution_count": 22
        }
      ]
    },
    {
      "cell_type": "code",
      "source": [
        "type(dict2)"
      ],
      "metadata": {
        "colab": {
          "base_uri": "https://localhost:8080/"
        },
        "id": "UxjpRlrgCAND",
        "outputId": "b44bc8e7-6a24-4f62-fe36-f9500fb75c67"
      },
      "execution_count": null,
      "outputs": [
        {
          "output_type": "execute_result",
          "data": {
            "text/plain": [
              "dict"
            ]
          },
          "metadata": {},
          "execution_count": 23
        }
      ]
    },
    {
      "cell_type": "code",
      "source": [
        "dict1['firstname'] = 'mario'\n",
        "dict1"
      ],
      "metadata": {
        "colab": {
          "base_uri": "https://localhost:8080/"
        },
        "id": "hL-IJb9rDBoD",
        "outputId": "9f151e95-f49c-4204-c023-3c245e083c30"
      },
      "execution_count": null,
      "outputs": [
        {
          "output_type": "execute_result",
          "data": {
            "text/plain": [
              "{'firstname': 'mario', 'lastname': 'Doe', 'age': 32}"
            ]
          },
          "metadata": {},
          "execution_count": 25
        }
      ]
    },
    {
      "cell_type": "code",
      "source": [
        "dict1['blood_group'] = 'o'\n",
        "dict1"
      ],
      "metadata": {
        "colab": {
          "base_uri": "https://localhost:8080/"
        },
        "id": "bPwUcRt8DxzI",
        "outputId": "00114af2-9f09-4b0e-cb64-3f8e0e48613f"
      },
      "execution_count": null,
      "outputs": [
        {
          "output_type": "execute_result",
          "data": {
            "text/plain": [
              "{'firstname': 'mario', 'lastname': 'Doe', 'age': 32, 'blood_group': 'o'}"
            ]
          },
          "metadata": {},
          "execution_count": 27
        }
      ]
    },
    {
      "cell_type": "code",
      "source": [
        "dict1.update({'gender':'male','height':180})\n",
        "dict1"
      ],
      "metadata": {
        "colab": {
          "base_uri": "https://localhost:8080/"
        },
        "id": "LfIahV6XEzou",
        "outputId": "100c4c41-00b1-460a-b534-69b7210e95dd"
      },
      "execution_count": null,
      "outputs": [
        {
          "output_type": "execute_result",
          "data": {
            "text/plain": [
              "{'firstname': 'mario',\n",
              " 'lastname': 'Doe',\n",
              " 'age': 32,\n",
              " 'blood_group': 'o',\n",
              " 'gender': 'male',\n",
              " 'height': 180}"
            ]
          },
          "metadata": {},
          "execution_count": 28
        }
      ]
    },
    {
      "cell_type": "code",
      "source": [
        "del dict1['gender']"
      ],
      "metadata": {
        "id": "UINid0IpFLv8"
      },
      "execution_count": null,
      "outputs": []
    },
    {
      "cell_type": "code",
      "source": [
        "dict1"
      ],
      "metadata": {
        "colab": {
          "base_uri": "https://localhost:8080/"
        },
        "id": "dBJw_J_dFQOq",
        "outputId": "31dcab2f-8fb6-4397-caad-eeeb58f7a35c"
      },
      "execution_count": null,
      "outputs": [
        {
          "output_type": "execute_result",
          "data": {
            "text/plain": [
              "{'firstname': 'mario',\n",
              " 'lastname': 'Doe',\n",
              " 'age': 32,\n",
              " 'blood_group': 'o',\n",
              " 'height': 180}"
            ]
          },
          "metadata": {},
          "execution_count": 30
        }
      ]
    },
    {
      "cell_type": "code",
      "source": [
        "dict1.clear()\n",
        "dict1"
      ],
      "metadata": {
        "colab": {
          "base_uri": "https://localhost:8080/"
        },
        "id": "HExQctyBFZx3",
        "outputId": "93e2eb4f-2de6-42ca-bca7-8a197bf03ca3"
      },
      "execution_count": null,
      "outputs": [
        {
          "output_type": "execute_result",
          "data": {
            "text/plain": [
              "{}"
            ]
          },
          "metadata": {},
          "execution_count": 31
        }
      ]
    },
    {
      "cell_type": "code",
      "source": [
        "dict3 = {'firstname':'John','lastname':'Doe','age':32}\n",
        "len(dict3)"
      ],
      "metadata": {
        "colab": {
          "base_uri": "https://localhost:8080/"
        },
        "id": "lgUEFUUTIJEQ",
        "outputId": "e065bbdf-7508-4939-b855-7da4c4ec8feb"
      },
      "execution_count": null,
      "outputs": [
        {
          "output_type": "execute_result",
          "data": {
            "text/plain": [
              "3"
            ]
          },
          "metadata": {},
          "execution_count": 33
        }
      ]
    },
    {
      "cell_type": "code",
      "source": [
        "len(dict3.keys())\n",
        "len(dict3.values())"
      ],
      "metadata": {
        "colab": {
          "base_uri": "https://localhost:8080/"
        },
        "id": "yQe2ZU4bISDi",
        "outputId": "8f55f73c-57b6-45c8-aba3-8cf473d15777"
      },
      "execution_count": null,
      "outputs": [
        {
          "output_type": "execute_result",
          "data": {
            "text/plain": [
              "3"
            ]
          },
          "metadata": {},
          "execution_count": 34
        }
      ]
    },
    {
      "cell_type": "code",
      "source": [
        "'firstname' in dict3"
      ],
      "metadata": {
        "colab": {
          "base_uri": "https://localhost:8080/"
        },
        "id": "jRF32pc0I0Rv",
        "outputId": "13516c72-f4bb-4ec3-9768-ce22a8860f7c"
      },
      "execution_count": null,
      "outputs": [
        {
          "output_type": "execute_result",
          "data": {
            "text/plain": [
              "True"
            ]
          },
          "metadata": {},
          "execution_count": 35
        }
      ]
    },
    {
      "cell_type": "code",
      "source": [
        "'firstname' in dict3.keys()"
      ],
      "metadata": {
        "colab": {
          "base_uri": "https://localhost:8080/"
        },
        "id": "GW-zhA69I62y",
        "outputId": "080a4f99-97cd-44ea-bf06-76d95d201389"
      },
      "execution_count": null,
      "outputs": [
        {
          "output_type": "execute_result",
          "data": {
            "text/plain": [
              "True"
            ]
          },
          "metadata": {},
          "execution_count": 36
        }
      ]
    },
    {
      "cell_type": "code",
      "source": [
        "'firstname' in dict3.values()"
      ],
      "metadata": {
        "colab": {
          "base_uri": "https://localhost:8080/"
        },
        "id": "K8i9NWKBI9le",
        "outputId": "08a57e20-62bd-44ec-a145-3e96ff62f4e4"
      },
      "execution_count": null,
      "outputs": [
        {
          "output_type": "execute_result",
          "data": {
            "text/plain": [
              "False"
            ]
          },
          "metadata": {},
          "execution_count": 37
        }
      ]
    },
    {
      "cell_type": "code",
      "source": [
        "set1 = {1,2,3,4,5}\n",
        "set2 = {1,2,3,'a','b','c'}"
      ],
      "metadata": {
        "id": "9ii6H2Pqbavu"
      },
      "execution_count": null,
      "outputs": []
    },
    {
      "cell_type": "code",
      "source": [
        "type(set1)"
      ],
      "metadata": {
        "colab": {
          "base_uri": "https://localhost:8080/"
        },
        "id": "1YQ3CQXFbhqP",
        "outputId": "f2e06f65-c79e-4d4d-e4b1-d92d0d7591d8"
      },
      "execution_count": null,
      "outputs": [
        {
          "output_type": "execute_result",
          "data": {
            "text/plain": [
              "set"
            ]
          },
          "metadata": {},
          "execution_count": 2
        }
      ]
    },
    {
      "cell_type": "code",
      "source": [
        "type(set2)"
      ],
      "metadata": {
        "colab": {
          "base_uri": "https://localhost:8080/"
        },
        "id": "8YZheKRnbjqE",
        "outputId": "cb23c069-8253-4424-b03a-0e472ad1db9e"
      },
      "execution_count": null,
      "outputs": [
        {
          "output_type": "execute_result",
          "data": {
            "text/plain": [
              "set"
            ]
          },
          "metadata": {},
          "execution_count": 3
        }
      ]
    },
    {
      "cell_type": "code",
      "source": [
        "set3 = {'a','b','c','d','e'}"
      ],
      "metadata": {
        "id": "MfLLhvXhbykR"
      },
      "execution_count": null,
      "outputs": []
    },
    {
      "cell_type": "code",
      "source": [
        "for x in set3:\n",
        "  print(x)"
      ],
      "metadata": {
        "colab": {
          "base_uri": "https://localhost:8080/"
        },
        "id": "bvPjIwfzb6K0",
        "outputId": "deecf805-d750-47d5-ed3a-1c26f56b8a5c"
      },
      "execution_count": null,
      "outputs": [
        {
          "output_type": "stream",
          "name": "stdout",
          "text": [
            "e\n",
            "a\n",
            "c\n",
            "d\n",
            "b\n"
          ]
        }
      ]
    },
    {
      "cell_type": "code",
      "source": [
        "set3.add(1)\n",
        "set3"
      ],
      "metadata": {
        "colab": {
          "base_uri": "https://localhost:8080/"
        },
        "id": "frAnVQ3wcRge",
        "outputId": "5881c8a4-98f8-45d1-cdea-ea01f66b4bcb"
      },
      "execution_count": null,
      "outputs": [
        {
          "output_type": "execute_result",
          "data": {
            "text/plain": [
              "{1, 'a', 'b', 'c', 'd', 'e'}"
            ]
          },
          "metadata": {},
          "execution_count": 7
        }
      ]
    },
    {
      "cell_type": "code",
      "source": [
        "set3.update({1,2})\n",
        "set3"
      ],
      "metadata": {
        "colab": {
          "base_uri": "https://localhost:8080/"
        },
        "id": "EY-rAwG-cZyh",
        "outputId": "faca5a40-318f-469d-f198-50e786cfd61b"
      },
      "execution_count": null,
      "outputs": [
        {
          "output_type": "execute_result",
          "data": {
            "text/plain": [
              "{1, 2, 'a', 'b', 'c', 'd', 'e'}"
            ]
          },
          "metadata": {},
          "execution_count": 8
        }
      ]
    },
    {
      "cell_type": "code",
      "source": [
        "set3.remove('b')\n",
        "set3"
      ],
      "metadata": {
        "colab": {
          "base_uri": "https://localhost:8080/"
        },
        "id": "zkW6o1guctFY",
        "outputId": "fa904455-4489-40ee-c406-099a5a5297cc"
      },
      "execution_count": null,
      "outputs": [
        {
          "output_type": "execute_result",
          "data": {
            "text/plain": [
              "{1, 2, 'c', 'd', 'e'}"
            ]
          },
          "metadata": {},
          "execution_count": 11
        }
      ]
    },
    {
      "cell_type": "code",
      "source": [
        "set3.clear()\n",
        "set3"
      ],
      "metadata": {
        "colab": {
          "base_uri": "https://localhost:8080/"
        },
        "id": "7FvFzsqCc61l",
        "outputId": "9e20036e-303b-4bee-9ce0-5a64973188a8"
      },
      "execution_count": null,
      "outputs": [
        {
          "output_type": "execute_result",
          "data": {
            "text/plain": [
              "set()"
            ]
          },
          "metadata": {},
          "execution_count": 12
        }
      ]
    },
    {
      "cell_type": "code",
      "source": [
        "set4 = {1,2,3,4,5}\n",
        "len(set4)"
      ],
      "metadata": {
        "colab": {
          "base_uri": "https://localhost:8080/"
        },
        "id": "jTWxjsswdDX_",
        "outputId": "b2f260ee-fe43-46ac-ef2f-82e3f9cc4797"
      },
      "execution_count": null,
      "outputs": [
        {
          "output_type": "execute_result",
          "data": {
            "text/plain": [
              "5"
            ]
          },
          "metadata": {},
          "execution_count": 13
        }
      ]
    },
    {
      "cell_type": "code",
      "source": [
        "1 in set4"
      ],
      "metadata": {
        "colab": {
          "base_uri": "https://localhost:8080/"
        },
        "id": "UFYlnCAodNXi",
        "outputId": "83c2529e-ad97-4763-aed6-b706634776dc"
      },
      "execution_count": null,
      "outputs": [
        {
          "output_type": "execute_result",
          "data": {
            "text/plain": [
              "True"
            ]
          },
          "metadata": {},
          "execution_count": 14
        }
      ]
    },
    {
      "cell_type": "code",
      "source": [
        "'a' in set4"
      ],
      "metadata": {
        "colab": {
          "base_uri": "https://localhost:8080/"
        },
        "id": "ctKHMg79dPeH",
        "outputId": "ed9aabaf-2128-4429-efed-57d2a4834b1a"
      },
      "execution_count": null,
      "outputs": [
        {
          "output_type": "execute_result",
          "data": {
            "text/plain": [
              "False"
            ]
          },
          "metadata": {},
          "execution_count": 15
        }
      ]
    },
    {
      "cell_type": "code",
      "source": [
        "setA = {1,2,3,4,5}\n",
        "setB = {3,4,5,6,7}"
      ],
      "metadata": {
        "id": "_EVj7vVudUnp"
      },
      "execution_count": null,
      "outputs": []
    },
    {
      "cell_type": "code",
      "source": [
        "setA | setB # Union"
      ],
      "metadata": {
        "colab": {
          "base_uri": "https://localhost:8080/"
        },
        "id": "uBf-8gUhdbzP",
        "outputId": "91db9715-4be6-40fe-bf3c-38dda0f69ea7"
      },
      "execution_count": null,
      "outputs": [
        {
          "output_type": "execute_result",
          "data": {
            "text/plain": [
              "{1, 2, 3, 4, 5, 6, 7}"
            ]
          },
          "metadata": {},
          "execution_count": 17
        }
      ]
    },
    {
      "cell_type": "code",
      "source": [
        "setA & setB #Intersec"
      ],
      "metadata": {
        "colab": {
          "base_uri": "https://localhost:8080/"
        },
        "id": "Lupr1fRAdpRa",
        "outputId": "fa10ef4a-978c-4850-a131-1b93e22d5a2b"
      },
      "execution_count": null,
      "outputs": [
        {
          "output_type": "execute_result",
          "data": {
            "text/plain": [
              "{3, 4, 5}"
            ]
          },
          "metadata": {},
          "execution_count": 18
        }
      ]
    },
    {
      "cell_type": "code",
      "source": [
        "setA - setB"
      ],
      "metadata": {
        "colab": {
          "base_uri": "https://localhost:8080/"
        },
        "id": "E-tjz_8hd3tI",
        "outputId": "dd9549d7-728e-4f50-b4f3-1cb4f8085c6e"
      },
      "execution_count": null,
      "outputs": [
        {
          "output_type": "execute_result",
          "data": {
            "text/plain": [
              "{1, 2}"
            ]
          },
          "metadata": {},
          "execution_count": 19
        }
      ]
    },
    {
      "cell_type": "code",
      "source": [
        "setB - setA"
      ],
      "metadata": {
        "colab": {
          "base_uri": "https://localhost:8080/"
        },
        "id": "PO3CuYROd5vU",
        "outputId": "07c61561-f828-4996-bbf0-899a927ac836"
      },
      "execution_count": null,
      "outputs": [
        {
          "output_type": "execute_result",
          "data": {
            "text/plain": [
              "{6, 7}"
            ]
          },
          "metadata": {},
          "execution_count": 20
        }
      ]
    },
    {
      "cell_type": "code",
      "source": [
        "setA ^ setB #Symmetric (setA u setB) - (setA ∩ setB)"
      ],
      "metadata": {
        "colab": {
          "base_uri": "https://localhost:8080/"
        },
        "id": "4m5pWVlreHsW",
        "outputId": "9e8403fd-73f2-41be-e91d-fea27830fd36"
      },
      "execution_count": null,
      "outputs": [
        {
          "output_type": "execute_result",
          "data": {
            "text/plain": [
              "{1, 2, 6, 7}"
            ]
          },
          "metadata": {},
          "execution_count": 21
        }
      ]
    },
    {
      "cell_type": "markdown",
      "source": [
        "# ทำโจทย์04"
      ],
      "metadata": {
        "id": "QfqiBvlHKkjz"
      }
    },
    {
      "cell_type": "code",
      "source": [
        "numeric1 = 5\n",
        "print(numeric1)\n",
        "print(type(numeric1))"
      ],
      "metadata": {
        "colab": {
          "base_uri": "https://localhost:8080/"
        },
        "id": "scB96OLvKh67",
        "outputId": "86e393c6-013f-494c-d793-3ed3d3b27d70"
      },
      "execution_count": null,
      "outputs": [
        {
          "output_type": "stream",
          "name": "stdout",
          "text": [
            "5\n",
            "<class 'int'>\n"
          ]
        }
      ]
    },
    {
      "cell_type": "code",
      "source": [
        "numeric2 = -3\n",
        "print(numeric2)\n",
        "print(type(numeric2))"
      ],
      "metadata": {
        "colab": {
          "base_uri": "https://localhost:8080/"
        },
        "id": "hfKaaCWPLjsj",
        "outputId": "8c849d30-fa1b-4aab-a0e2-331afa3441bf"
      },
      "execution_count": null,
      "outputs": [
        {
          "output_type": "stream",
          "name": "stdout",
          "text": [
            "-3\n",
            "<class 'int'>\n"
          ]
        }
      ]
    },
    {
      "cell_type": "code",
      "source": [
        "numeric3 = 0\n",
        "print(numeric3)\n",
        "print(type(numeric3))"
      ],
      "metadata": {
        "colab": {
          "base_uri": "https://localhost:8080/"
        },
        "id": "SmE-Z0ebLuTx",
        "outputId": "32de1d97-9f33-4711-a103-0ca24e7ebee5"
      },
      "execution_count": null,
      "outputs": [
        {
          "output_type": "stream",
          "name": "stdout",
          "text": [
            "0\n",
            "<class 'int'>\n"
          ]
        }
      ]
    },
    {
      "cell_type": "code",
      "source": [
        "num = int(input())\n",
        "print(num)\n",
        "print(type(num))"
      ],
      "metadata": {
        "colab": {
          "base_uri": "https://localhost:8080/"
        },
        "id": "cPLmWQFYL7th",
        "outputId": "57f8365a-5737-43ae-ae1e-ef2a14f18bea"
      },
      "execution_count": null,
      "outputs": [
        {
          "output_type": "stream",
          "name": "stdout",
          "text": [
            "5\n",
            "5\n",
            "<class 'int'>\n"
          ]
        }
      ]
    },
    {
      "cell_type": "code",
      "source": [
        "numeric1 = 5.0\n",
        "print(numeric1)\n",
        "print(type(numeric1))"
      ],
      "metadata": {
        "colab": {
          "base_uri": "https://localhost:8080/"
        },
        "id": "1yhGXy5mMVXJ",
        "outputId": "175ede88-103c-41b7-8bf1-617eadcd38d8"
      },
      "execution_count": null,
      "outputs": [
        {
          "output_type": "stream",
          "name": "stdout",
          "text": [
            "5.0\n",
            "<class 'float'>\n"
          ]
        }
      ]
    },
    {
      "cell_type": "code",
      "source": [
        "numeric2 = -3.1\n",
        "print(numeric2)\n",
        "print(type(numeric2))"
      ],
      "metadata": {
        "colab": {
          "base_uri": "https://localhost:8080/"
        },
        "id": "ZK2VGKQdMeCl",
        "outputId": "aadd70a8-740a-4421-bd34-bd8816c0cbf1"
      },
      "execution_count": null,
      "outputs": [
        {
          "output_type": "stream",
          "name": "stdout",
          "text": [
            "-3.1\n",
            "<class 'float'>\n"
          ]
        }
      ]
    },
    {
      "cell_type": "code",
      "source": [
        "numeric3 = 0.0\n",
        "print(numeric3)\n",
        "print(type(numeric3))"
      ],
      "metadata": {
        "colab": {
          "base_uri": "https://localhost:8080/"
        },
        "id": "39dI0HGGMm_O",
        "outputId": "03e97eb7-bbd2-47ab-a2ca-83e0ef557e55"
      },
      "execution_count": null,
      "outputs": [
        {
          "output_type": "stream",
          "name": "stdout",
          "text": [
            "0.0\n",
            "<class 'float'>\n"
          ]
        }
      ]
    },
    {
      "cell_type": "code",
      "source": [
        "num = float(input('give me real number : '))\n",
        "print(num)\n",
        "print(type(num))"
      ],
      "metadata": {
        "colab": {
          "base_uri": "https://localhost:8080/"
        },
        "id": "FkvIn90PMy10",
        "outputId": "5ec1e30d-ae6d-4d6f-8c14-2ca64e13f0b4"
      },
      "execution_count": null,
      "outputs": [
        {
          "output_type": "stream",
          "name": "stdout",
          "text": [
            "give me real number : 98.3\n",
            "98.3\n",
            "<class 'float'>\n"
          ]
        }
      ]
    },
    {
      "cell_type": "code",
      "source": [
        "int1 = int(input())\n",
        "int2 = int(input())\n",
        "plus = int1 + int2\n",
        "print(plus)\n",
        "print(type(plus))\n",
        "minus = int1 - int2\n",
        "print(minus)\n",
        "print(type(minus))\n",
        "multiply = int1 * int2\n",
        "print(multiply)\n",
        "print(type(multiply))\n",
        "divide = int1 / int2\n",
        "print(divide)\n",
        "print(type(divide))"
      ],
      "metadata": {
        "colab": {
          "base_uri": "https://localhost:8080/"
        },
        "id": "sBByt5olNFYK",
        "outputId": "e979ab4e-8752-4bb8-9565-b61c6eae3b8c"
      },
      "execution_count": null,
      "outputs": [
        {
          "output_type": "stream",
          "name": "stdout",
          "text": [
            "87\n",
            "43\n",
            "130\n",
            "<class 'int'>\n",
            "44\n",
            "<class 'int'>\n",
            "3741\n",
            "<class 'int'>\n",
            "2.0232558139534884\n",
            "<class 'float'>\n"
          ]
        }
      ]
    },
    {
      "cell_type": "code",
      "source": [
        "float1 = float(input())\n",
        "float2 = float(input())\n",
        "plus = float1 + float2\n",
        "print(plus)\n",
        "print(type(plus))\n",
        "minus = float1 - float2\n",
        "print(minus)\n",
        "print(type(minus))\n",
        "multiply = float1 * float2\n",
        "print(multiply)\n",
        "print(type(multiply))\n",
        "divide = float1 / float2\n",
        "print(divide)\n",
        "print(type(divide))"
      ],
      "metadata": {
        "colab": {
          "base_uri": "https://localhost:8080/"
        },
        "id": "9fcV5ZUcO_wq",
        "outputId": "2d4760da-9c78-407d-c641-cf5917c18863"
      },
      "execution_count": null,
      "outputs": [
        {
          "output_type": "stream",
          "name": "stdout",
          "text": [
            "89.0\n",
            "323.000\n",
            "412.0\n",
            "<class 'float'>\n",
            "-234.0\n",
            "<class 'float'>\n",
            "28747.0\n",
            "<class 'float'>\n",
            "0.2755417956656347\n",
            "<class 'float'>\n"
          ]
        }
      ]
    },
    {
      "cell_type": "code",
      "source": [
        "int1 = int(input())\n",
        "float1 = float(input())\n",
        "plus = int1 + float1\n",
        "print(plus)\n",
        "print(type(plus))\n",
        "minus = int1 - float1\n",
        "print(minus)\n",
        "print(type(minus))\n",
        "multiply = int1 * float1\n",
        "print(multiply)\n",
        "print(type(multiply))\n",
        "divide = int1 / float1\n",
        "print(divide)\n",
        "print(type(divide))"
      ],
      "metadata": {
        "colab": {
          "base_uri": "https://localhost:8080/"
        },
        "id": "hxdTK2nWRZE6",
        "outputId": "c5be3185-a838-4c6e-deb4-398c07604efe"
      },
      "execution_count": null,
      "outputs": [
        {
          "output_type": "stream",
          "name": "stdout",
          "text": [
            "8\n",
            "4\n",
            "12.0\n",
            "<class 'float'>\n",
            "4.0\n",
            "<class 'float'>\n",
            "32.0\n",
            "<class 'float'>\n",
            "2.0\n",
            "<class 'float'>\n"
          ]
        }
      ]
    },
    {
      "cell_type": "code",
      "source": [
        "logic1 = True\n",
        "print(logic1)\n",
        "print(type(logic1))"
      ],
      "metadata": {
        "colab": {
          "base_uri": "https://localhost:8080/"
        },
        "id": "rSIv50KnR89C",
        "outputId": "64c0f3e0-513e-4ae2-f8fa-abcb01d7bc87"
      },
      "execution_count": null,
      "outputs": [
        {
          "output_type": "stream",
          "name": "stdout",
          "text": [
            "True\n",
            "<class 'bool'>\n"
          ]
        }
      ]
    },
    {
      "cell_type": "code",
      "source": [
        "logic2 = False\n",
        "print(logic2)\n",
        "print(type(logic2))"
      ],
      "metadata": {
        "colab": {
          "base_uri": "https://localhost:8080/"
        },
        "id": "fnNagvzfSGvD",
        "outputId": "599af1c9-e951-46c9-acca-5924032edee7"
      },
      "execution_count": null,
      "outputs": [
        {
          "output_type": "stream",
          "name": "stdout",
          "text": [
            "False\n",
            "<class 'bool'>\n"
          ]
        }
      ]
    },
    {
      "cell_type": "code",
      "source": [
        "logic1 = True\n",
        "logic2 = False\n",
        "print(logic1 and logic2)\n",
        "print(type(logic1 and logic2))"
      ],
      "metadata": {
        "colab": {
          "base_uri": "https://localhost:8080/"
        },
        "id": "yBYLNTZuSe0R",
        "outputId": "06d4a513-fc1e-4aaf-f80c-6b837c223e4b"
      },
      "execution_count": null,
      "outputs": [
        {
          "output_type": "stream",
          "name": "stdout",
          "text": [
            "False\n",
            "<class 'bool'>\n"
          ]
        }
      ]
    },
    {
      "cell_type": "code",
      "source": [
        "logic1 = True\n",
        "logic2 = False\n",
        "print(logic1 or logic2)\n",
        "print(type(logic1 or logic2))"
      ],
      "metadata": {
        "colab": {
          "base_uri": "https://localhost:8080/"
        },
        "id": "VvIDqRQgSyF1",
        "outputId": "16ed5331-dcde-422f-eb8b-4d178c5dc748"
      },
      "execution_count": null,
      "outputs": [
        {
          "output_type": "stream",
          "name": "stdout",
          "text": [
            "True\n",
            "<class 'bool'>\n"
          ]
        }
      ]
    },
    {
      "cell_type": "code",
      "source": [
        "complex1 = 1+2j\n",
        "print(complex1)\n",
        "print(type(complex1))"
      ],
      "metadata": {
        "colab": {
          "base_uri": "https://localhost:8080/"
        },
        "id": "8jTBmkrIT3Fo",
        "outputId": "c32d8130-9a29-4515-a666-8aaec1800d0e"
      },
      "execution_count": null,
      "outputs": [
        {
          "output_type": "stream",
          "name": "stdout",
          "text": [
            "(1+2j)\n",
            "<class 'complex'>\n"
          ]
        }
      ]
    },
    {
      "cell_type": "code",
      "source": [
        "complex1 = 1+2j\n",
        "print(complex1.real)\n",
        "print(type(complex1.real))"
      ],
      "metadata": {
        "colab": {
          "base_uri": "https://localhost:8080/"
        },
        "id": "u35E7S8xUL9H",
        "outputId": "c024aa27-a952-46fd-d878-7c43c9ef33b9"
      },
      "execution_count": null,
      "outputs": [
        {
          "output_type": "stream",
          "name": "stdout",
          "text": [
            "1.0\n",
            "<class 'float'>\n"
          ]
        }
      ]
    },
    {
      "cell_type": "code",
      "source": [
        "complex1 = 1+2j\n",
        "print(complex1.imag)\n",
        "print(type(complex1.imag))"
      ],
      "metadata": {
        "colab": {
          "base_uri": "https://localhost:8080/"
        },
        "id": "7_b6bouFVNTa",
        "outputId": "dcd2b4c8-e44b-4783-caea-3b3afa398868"
      },
      "execution_count": null,
      "outputs": [
        {
          "output_type": "stream",
          "name": "stdout",
          "text": [
            "2.0\n",
            "<class 'float'>\n"
          ]
        }
      ]
    },
    {
      "cell_type": "code",
      "source": [
        "string1 = 'Python'\n",
        "print(string1)\n",
        "print(type(string1))"
      ],
      "metadata": {
        "colab": {
          "base_uri": "https://localhost:8080/"
        },
        "id": "xb_kTBU7WEpd",
        "outputId": "0ea59d83-0c24-46fa-da50-93d1fa8ae385"
      },
      "execution_count": null,
      "outputs": [
        {
          "output_type": "stream",
          "name": "stdout",
          "text": [
            "Python\n",
            "<class 'str'>\n"
          ]
        }
      ]
    },
    {
      "cell_type": "code",
      "source": [
        "string1 = 'Python'\n",
        "print(string1[0])"
      ],
      "metadata": {
        "colab": {
          "base_uri": "https://localhost:8080/"
        },
        "id": "X0GbFPGiWarT",
        "outputId": "583c4776-75eb-4116-9ba1-326922b7310e"
      },
      "execution_count": null,
      "outputs": [
        {
          "output_type": "stream",
          "name": "stdout",
          "text": [
            "P\n"
          ]
        }
      ]
    },
    {
      "cell_type": "code",
      "source": [
        "string1 = 'Python'\n",
        "print(string1[1])"
      ],
      "metadata": {
        "colab": {
          "base_uri": "https://localhost:8080/"
        },
        "id": "PNdiUxO8WkH3",
        "outputId": "d30ca7ed-c7c1-452c-cac8-0cd4a063cc96"
      },
      "execution_count": null,
      "outputs": [
        {
          "output_type": "stream",
          "name": "stdout",
          "text": [
            "y\n"
          ]
        }
      ]
    },
    {
      "cell_type": "code",
      "source": [
        "string1 = 'Python'\n",
        "print(string1[-1])"
      ],
      "metadata": {
        "colab": {
          "base_uri": "https://localhost:8080/"
        },
        "id": "pQCRM6R5XCBt",
        "outputId": "d3c8f89b-0176-49fe-94ee-c3a078da8a67"
      },
      "execution_count": null,
      "outputs": [
        {
          "output_type": "stream",
          "name": "stdout",
          "text": [
            "n\n"
          ]
        }
      ]
    },
    {
      "cell_type": "code",
      "source": [
        "string1 = 'Python'\n",
        "print(string1[-2])"
      ],
      "metadata": {
        "colab": {
          "base_uri": "https://localhost:8080/"
        },
        "id": "AZ9UD5PXXGmw",
        "outputId": "ac773ae2-7506-440a-f786-49fe8424d6a3"
      },
      "execution_count": null,
      "outputs": [
        {
          "output_type": "stream",
          "name": "stdout",
          "text": [
            "o\n"
          ]
        }
      ]
    },
    {
      "cell_type": "code",
      "source": [
        "string1 = 'Python'\n",
        "print(string1[2])"
      ],
      "metadata": {
        "colab": {
          "base_uri": "https://localhost:8080/"
        },
        "id": "uliwV_1xXH2t",
        "outputId": "8e344dbf-1f84-412f-8eb9-6cf812b5f8c6"
      },
      "execution_count": null,
      "outputs": [
        {
          "output_type": "stream",
          "name": "stdout",
          "text": [
            "t\n"
          ]
        }
      ]
    },
    {
      "cell_type": "code",
      "source": [
        "string1 = 'Python'\n",
        "print(string1[3])"
      ],
      "metadata": {
        "colab": {
          "base_uri": "https://localhost:8080/"
        },
        "id": "nSpznfqwXp0P",
        "outputId": "cc93f3da-49bf-450e-83ae-aa4a0913dd4b"
      },
      "execution_count": null,
      "outputs": [
        {
          "output_type": "stream",
          "name": "stdout",
          "text": [
            "h\n"
          ]
        }
      ]
    },
    {
      "cell_type": "code",
      "source": [
        "string1 = 'Python'\n",
        "print(string1[1:4])"
      ],
      "metadata": {
        "colab": {
          "base_uri": "https://localhost:8080/"
        },
        "id": "q33CuDMXXzmL",
        "outputId": "2cdb271e-34ff-4699-9399-e28dafb91afe"
      },
      "execution_count": null,
      "outputs": [
        {
          "output_type": "stream",
          "name": "stdout",
          "text": [
            "yth\n"
          ]
        }
      ]
    },
    {
      "cell_type": "code",
      "source": [
        "string1 = 'Python'\n",
        "print(string1[2:-1])"
      ],
      "metadata": {
        "colab": {
          "base_uri": "https://localhost:8080/"
        },
        "id": "5ovg1xibX2ee",
        "outputId": "2a283c63-142d-45f3-fbdb-ae6d5d89722e"
      },
      "execution_count": null,
      "outputs": [
        {
          "output_type": "stream",
          "name": "stdout",
          "text": [
            "tho\n"
          ]
        }
      ]
    },
    {
      "cell_type": "code",
      "source": [
        "string1 = 'Python'\n",
        "print(string1[2:])"
      ],
      "metadata": {
        "colab": {
          "base_uri": "https://localhost:8080/"
        },
        "id": "xfDcJBEVYNRt",
        "outputId": "0376a532-1fdb-4fca-cdac-efa41f27f6cc"
      },
      "execution_count": null,
      "outputs": [
        {
          "output_type": "stream",
          "name": "stdout",
          "text": [
            "thon\n"
          ]
        }
      ]
    },
    {
      "cell_type": "code",
      "source": [
        "string1 = 'Python'\n",
        "print(string1[-4:5])"
      ],
      "metadata": {
        "colab": {
          "base_uri": "https://localhost:8080/"
        },
        "id": "i8iyv_8_ap6y",
        "outputId": "82460b37-b357-4372-b468-c128d7d3ccc4"
      },
      "execution_count": null,
      "outputs": [
        {
          "output_type": "stream",
          "name": "stdout",
          "text": [
            "tho\n"
          ]
        }
      ]
    },
    {
      "cell_type": "code",
      "source": [
        "string1 = 'Python'\n",
        "print(string1[-6:5])"
      ],
      "metadata": {
        "colab": {
          "base_uri": "https://localhost:8080/"
        },
        "id": "jGEu032da86Y",
        "outputId": "0454da0b-2e8c-4ffe-8ab8-15a970175fe2"
      },
      "execution_count": null,
      "outputs": [
        {
          "output_type": "stream",
          "name": "stdout",
          "text": [
            "Pytho\n"
          ]
        }
      ]
    },
    {
      "cell_type": "code",
      "source": [
        "string1 = 'Python'\n",
        "print(string1[-4:-1])"
      ],
      "metadata": {
        "colab": {
          "base_uri": "https://localhost:8080/"
        },
        "id": "p7wIvwZNbWyS",
        "outputId": "8020db37-6431-41c0-ecc2-75599a2350ae"
      },
      "execution_count": null,
      "outputs": [
        {
          "output_type": "stream",
          "name": "stdout",
          "text": [
            "tho\n"
          ]
        }
      ]
    },
    {
      "cell_type": "code",
      "source": [
        "st = input()\n",
        "print(len(st))"
      ],
      "metadata": {
        "colab": {
          "base_uri": "https://localhost:8080/"
        },
        "id": "yYbxxixCbg0G",
        "outputId": "199ab93d-f265-4899-8d35-979191e09eb0"
      },
      "execution_count": null,
      "outputs": [
        {
          "output_type": "stream",
          "name": "stdout",
          "text": [
            "I like chocolate\n",
            "16\n"
          ]
        }
      ]
    },
    {
      "cell_type": "code",
      "source": [
        "st = input()\n",
        "fact = 'ก' in st\n",
        "print(fact)"
      ],
      "metadata": {
        "colab": {
          "base_uri": "https://localhost:8080/"
        },
        "id": "0XSr5kqybzif",
        "outputId": "55705ff8-c7ca-4051-ae8c-3bcb898c2ab6"
      },
      "execution_count": null,
      "outputs": [
        {
          "output_type": "stream",
          "name": "stdout",
          "text": [
            "ลักไก่\n",
            "True\n"
          ]
        }
      ]
    },
    {
      "cell_type": "code",
      "source": [
        "string1 = input()\n",
        "string2 = input()\n",
        "fact = string2 in string1\n",
        "print(fact)"
      ],
      "metadata": {
        "colab": {
          "base_uri": "https://localhost:8080/"
        },
        "id": "-_NDLajocKuQ",
        "outputId": "f6ac9c41-42ee-4674-cc3e-b599166f2b0a"
      },
      "execution_count": null,
      "outputs": [
        {
          "output_type": "stream",
          "name": "stdout",
          "text": [
            "a\n",
            "\n",
            "True\n"
          ]
        }
      ]
    },
    {
      "cell_type": "code",
      "source": [
        "st = input()\n",
        "print(st.replace('a','A'))"
      ],
      "metadata": {
        "colab": {
          "base_uri": "https://localhost:8080/"
        },
        "id": "hTSKPs3fdPbB",
        "outputId": "d2d5b331-9596-465e-a522-98f659aec2b8"
      },
      "execution_count": null,
      "outputs": [
        {
          "output_type": "stream",
          "name": "stdout",
          "text": [
            "arrow\n",
            "Arrow\n"
          ]
        }
      ]
    },
    {
      "cell_type": "code",
      "source": [
        "st = input()\n",
        "string2 = st.replace('a','A')\n",
        "print(string2)"
      ],
      "metadata": {
        "colab": {
          "base_uri": "https://localhost:8080/"
        },
        "id": "uG7QgIdgdzq8",
        "outputId": "6d9eaf33-3053-48bc-bc3f-36a22b8334af"
      },
      "execution_count": null,
      "outputs": [
        {
          "output_type": "stream",
          "name": "stdout",
          "text": [
            "arrow\n",
            "Arrow\n"
          ]
        }
      ]
    },
    {
      "cell_type": "code",
      "source": [
        "st = input()\n",
        "print(st.split(' '))"
      ],
      "metadata": {
        "colab": {
          "base_uri": "https://localhost:8080/"
        },
        "id": "SzDE03zDeE-s",
        "outputId": "d3c92b8c-8682-4311-e7ef-52df5bbdd865"
      },
      "execution_count": null,
      "outputs": [
        {
          "output_type": "stream",
          "name": "stdout",
          "text": [
            "We love Python\n",
            "['We', 'love', 'Python']\n"
          ]
        }
      ]
    },
    {
      "cell_type": "code",
      "source": [
        "sentence = input()\n",
        "c = input()\n",
        "print(sentence.split(c))"
      ],
      "metadata": {
        "colab": {
          "base_uri": "https://localhost:8080/"
        },
        "id": "ZfiF4n_tkaS-",
        "outputId": "cdf0b7a7-e091-4ca2-bfeb-710fcecea228"
      },
      "execution_count": null,
      "outputs": [
        {
          "output_type": "stream",
          "name": "stdout",
          "text": [
            "Py-thon\n",
            "-\n",
            "['Py', 'thon']\n"
          ]
        }
      ]
    },
    {
      "cell_type": "code",
      "source": [
        "str1 = input()\n",
        "str2 = input()\n",
        "print(str1+str2)"
      ],
      "metadata": {
        "colab": {
          "base_uri": "https://localhost:8080/"
        },
        "id": "mkqJUv4alBFz",
        "outputId": "1f9a7d97-8fa3-431c-c3d8-d3864ab91cfe"
      },
      "execution_count": null,
      "outputs": [
        {
          "output_type": "stream",
          "name": "stdout",
          "text": [
            "Fri\n",
            "day\n",
            "Friday\n"
          ]
        }
      ]
    },
    {
      "cell_type": "code",
      "source": [
        "list1 = [0,1,2,'a','b','c']\n",
        "print(list1)\n",
        "print(type(list1))"
      ],
      "metadata": {
        "colab": {
          "base_uri": "https://localhost:8080/"
        },
        "id": "vGfrhpUElfIz",
        "outputId": "9b8aa6d6-92dd-4430-d1cc-48ce158a5f87"
      },
      "execution_count": null,
      "outputs": [
        {
          "output_type": "stream",
          "name": "stdout",
          "text": [
            "[0, 1, 2, 'a', 'b', 'c']\n",
            "<class 'list'>\n"
          ]
        }
      ]
    },
    {
      "cell_type": "code",
      "source": [
        "list1 = [0,1,2,'a','b','c']\n",
        "print(list1[2])"
      ],
      "metadata": {
        "colab": {
          "base_uri": "https://localhost:8080/"
        },
        "id": "TB55_HmhyWje",
        "outputId": "36cd4357-3909-4917-c60e-b2dde87b104a"
      },
      "execution_count": null,
      "outputs": [
        {
          "output_type": "stream",
          "name": "stdout",
          "text": [
            "2\n"
          ]
        }
      ]
    },
    {
      "cell_type": "code",
      "source": [
        "list1 = [0,1,2,'a','b','c']\n",
        "print(list1[-3])"
      ],
      "metadata": {
        "colab": {
          "base_uri": "https://localhost:8080/"
        },
        "id": "MetPfrklysho",
        "outputId": "16a13a9c-0ef7-432a-f589-8a3fbe80978d"
      },
      "execution_count": null,
      "outputs": [
        {
          "output_type": "stream",
          "name": "stdout",
          "text": [
            "a\n"
          ]
        }
      ]
    },
    {
      "cell_type": "code",
      "source": [
        "list1 = [0,1,2,'a','b','c']\n",
        "print(list1[0])"
      ],
      "metadata": {
        "colab": {
          "base_uri": "https://localhost:8080/"
        },
        "id": "_JzvJTkryzYr",
        "outputId": "8e709e7f-bf0d-49ae-e678-3013285db1ba"
      },
      "execution_count": null,
      "outputs": [
        {
          "output_type": "stream",
          "name": "stdout",
          "text": [
            "0\n"
          ]
        }
      ]
    },
    {
      "cell_type": "code",
      "source": [
        "list1 = [0,1,2,'a','b','c']\n",
        "print(list1[-2])"
      ],
      "metadata": {
        "colab": {
          "base_uri": "https://localhost:8080/"
        },
        "id": "NO6wZURPy2S0",
        "outputId": "7492b033-8dc2-4715-f2b8-ad378e1782cd"
      },
      "execution_count": null,
      "outputs": [
        {
          "output_type": "stream",
          "name": "stdout",
          "text": [
            "b\n"
          ]
        }
      ]
    },
    {
      "cell_type": "code",
      "source": [
        "list1 = [0,1,2,'a','b','c']\n",
        "print(list1[2:4])"
      ],
      "metadata": {
        "colab": {
          "base_uri": "https://localhost:8080/"
        },
        "id": "ZRAu25Tsy9X8",
        "outputId": "9790f2b9-27fd-41fc-db2d-1d165a966155"
      },
      "execution_count": null,
      "outputs": [
        {
          "output_type": "stream",
          "name": "stdout",
          "text": [
            "[2, 'a']\n"
          ]
        }
      ]
    },
    {
      "cell_type": "code",
      "source": [
        "list1 = [0,1,2,'a','b','c']\n",
        "print(list1[1:-1])"
      ],
      "metadata": {
        "colab": {
          "base_uri": "https://localhost:8080/"
        },
        "id": "lGZ8uySdzeZ0",
        "outputId": "e62dcd8b-5110-45f9-c7db-13115e7755b3"
      },
      "execution_count": null,
      "outputs": [
        {
          "output_type": "stream",
          "name": "stdout",
          "text": [
            "[1, 2, 'a', 'b']\n"
          ]
        }
      ]
    },
    {
      "cell_type": "code",
      "source": [
        "list1 = [0,1,2,'a','b','c']\n",
        "print(list1[1:5])"
      ],
      "metadata": {
        "colab": {
          "base_uri": "https://localhost:8080/"
        },
        "id": "SdK3ymBqzlTQ",
        "outputId": "0e1e9c48-3890-41ea-81f9-68f233c72a2e"
      },
      "execution_count": null,
      "outputs": [
        {
          "output_type": "stream",
          "name": "stdout",
          "text": [
            "[1, 2, 'a', 'b']\n"
          ]
        }
      ]
    },
    {
      "cell_type": "code",
      "source": [
        "list1 = [0,1,2,'a','b','c']\n",
        "print(list1[3:])"
      ],
      "metadata": {
        "colab": {
          "base_uri": "https://localhost:8080/"
        },
        "id": "kfoI8ihKz8Ah",
        "outputId": "8e5b0351-efd8-45cb-af74-fcfb48abfb4c"
      },
      "execution_count": null,
      "outputs": [
        {
          "output_type": "stream",
          "name": "stdout",
          "text": [
            "['a', 'b', 'c']\n"
          ]
        }
      ]
    },
    {
      "cell_type": "code",
      "source": [
        "list1 = [0,1,2,'a','b','c']\n",
        "print(list1[:3])"
      ],
      "metadata": {
        "colab": {
          "base_uri": "https://localhost:8080/"
        },
        "id": "gyAxZ22Oz-ry",
        "outputId": "f4223809-2547-4b9d-8128-a2bc0c0b6b7e"
      },
      "execution_count": null,
      "outputs": [
        {
          "output_type": "stream",
          "name": "stdout",
          "text": [
            "[0, 1, 2]\n"
          ]
        }
      ]
    },
    {
      "cell_type": "code",
      "source": [
        "list1 = [0,1,2,'a','b','c']\n",
        "print(list1[:])"
      ],
      "metadata": {
        "colab": {
          "base_uri": "https://localhost:8080/"
        },
        "id": "gJTLCtmUXpjB",
        "outputId": "05843a61-7821-45bd-f489-940fe07fbb27"
      },
      "execution_count": null,
      "outputs": [
        {
          "output_type": "stream",
          "name": "stdout",
          "text": [
            "[0, 1, 2, 'a', 'b', 'c']\n"
          ]
        }
      ]
    },
    {
      "cell_type": "code",
      "source": [
        "list2 = ['ant','bird','cat','dog','eagle']\n",
        "list2[2] = 'duck'\n",
        "print(list2)"
      ],
      "metadata": {
        "colab": {
          "base_uri": "https://localhost:8080/"
        },
        "id": "6qtzeUP00Cwo",
        "outputId": "8aa49790-5f8f-46c1-ba84-92ef72fec127"
      },
      "execution_count": null,
      "outputs": [
        {
          "output_type": "stream",
          "name": "stdout",
          "text": [
            "['ant', 'bird', 'duck', 'dog', 'eagle']\n"
          ]
        }
      ]
    },
    {
      "cell_type": "code",
      "source": [
        "list2 = ['ant','bird','cat','dog','eagle']\n",
        "list2[0] = 'ape'\n",
        "print(list2)"
      ],
      "metadata": {
        "colab": {
          "base_uri": "https://localhost:8080/"
        },
        "id": "kpORK8kU0TDb",
        "outputId": "fa8c765f-70c3-4dc9-aa21-aaacb95b2377"
      },
      "execution_count": null,
      "outputs": [
        {
          "output_type": "stream",
          "name": "stdout",
          "text": [
            "['ape', 'bird', 'cat', 'dog', 'eagle']\n"
          ]
        }
      ]
    },
    {
      "cell_type": "code",
      "source": [
        "list2 = ['ant','bird','cat','dog','eagle']\n",
        "list2.append('fish')\n",
        "print(list2)"
      ],
      "metadata": {
        "colab": {
          "base_uri": "https://localhost:8080/"
        },
        "id": "D4M1LLOc0rOF",
        "outputId": "6e0c6b6f-fa12-436a-8d91-12fb08fbc2b6"
      },
      "execution_count": null,
      "outputs": [
        {
          "output_type": "stream",
          "name": "stdout",
          "text": [
            "['ant', 'bird', 'cat', 'dog', 'eagle', 'fish']\n"
          ]
        }
      ]
    },
    {
      "cell_type": "code",
      "source": [
        "list3 = []\n",
        "str1 = input()\n",
        "str2 = input()\n",
        "str3 = input()\n",
        "list3.append(str1)\n",
        "list3.append(str2)\n",
        "list3.append(str3)\n",
        "print(list3)"
      ],
      "metadata": {
        "colab": {
          "base_uri": "https://localhost:8080/"
        },
        "id": "tTU3oSxA0zJG",
        "outputId": "8c2b9c3c-9586-45e6-a5f0-e1a41114df8b"
      },
      "execution_count": null,
      "outputs": [
        {
          "output_type": "stream",
          "name": "stdout",
          "text": [
            "as\n",
            "a\n",
            "human\n",
            "['as', 'a', 'human']\n"
          ]
        }
      ]
    },
    {
      "cell_type": "code",
      "source": [
        "list3 = ['apple','cherry','eggfruit']\n",
        "list3.insert(1,'banana')\n",
        "print(list3)"
      ],
      "metadata": {
        "colab": {
          "base_uri": "https://localhost:8080/"
        },
        "id": "ZRGOz-2t1Sym",
        "outputId": "1f1dec6c-5ac1-46b9-d90a-6700040b4408"
      },
      "execution_count": null,
      "outputs": [
        {
          "output_type": "stream",
          "name": "stdout",
          "text": [
            "['apple', 'banana', 'cherry', 'eggfruit']\n"
          ]
        }
      ]
    },
    {
      "cell_type": "code",
      "source": [
        "list3.insert(-1,'kiwi')\n",
        "print(list3)"
      ],
      "metadata": {
        "colab": {
          "base_uri": "https://localhost:8080/"
        },
        "id": "zPQVosU14RtX",
        "outputId": "c82ae0a7-a014-4d74-b47d-4f94763460e2"
      },
      "execution_count": null,
      "outputs": [
        {
          "output_type": "stream",
          "name": "stdout",
          "text": [
            "['apple', 'banana', 'cherry', 'kiwi', 'eggfruit']\n"
          ]
        }
      ]
    },
    {
      "cell_type": "code",
      "source": [
        "list4 = [0,4,2,3,1]\n",
        "list4.sort()\n",
        "list4"
      ],
      "metadata": {
        "colab": {
          "base_uri": "https://localhost:8080/"
        },
        "id": "lms1tEAt7wlM",
        "outputId": "122c8d04-9b55-4063-cb04-85459cd84e90"
      },
      "execution_count": null,
      "outputs": [
        {
          "output_type": "execute_result",
          "data": {
            "text/plain": [
              "[0, 1, 2, 3, 4]"
            ]
          },
          "metadata": {},
          "execution_count": 124
        }
      ]
    },
    {
      "cell_type": "code",
      "source": [
        "list4.sort(reverse=True)\n",
        "list4"
      ],
      "metadata": {
        "colab": {
          "base_uri": "https://localhost:8080/"
        },
        "id": "krsBHHk-8Cd0",
        "outputId": "7fba1593-2559-410b-d63f-d44dc238920c"
      },
      "execution_count": null,
      "outputs": [
        {
          "output_type": "execute_result",
          "data": {
            "text/plain": [
              "[4, 3, 2, 1, 0]"
            ]
          },
          "metadata": {},
          "execution_count": 125
        }
      ]
    },
    {
      "cell_type": "code",
      "source": [
        "sorted_list4 = sorted(list4)\n",
        "sorted_list4"
      ],
      "metadata": {
        "colab": {
          "base_uri": "https://localhost:8080/"
        },
        "id": "Dj70oMh28UOx",
        "outputId": "781051e7-44a7-4a2d-9c09-dd1e42373dbf"
      },
      "execution_count": null,
      "outputs": [
        {
          "output_type": "execute_result",
          "data": {
            "text/plain": [
              "[0, 1, 2, 3, 4]"
            ]
          },
          "metadata": {},
          "execution_count": 127
        }
      ]
    },
    {
      "cell_type": "code",
      "source": [
        "sorted_list4 = sorted(list4,reverse = True)\n",
        "sorted_list4"
      ],
      "metadata": {
        "colab": {
          "base_uri": "https://localhost:8080/"
        },
        "id": "iPdGGYKD_C-n",
        "outputId": "80dc9862-6df0-439a-aea1-f44152707588"
      },
      "execution_count": null,
      "outputs": [
        {
          "output_type": "execute_result",
          "data": {
            "text/plain": [
              "[4, 3, 2, 1, 0]"
            ]
          },
          "metadata": {},
          "execution_count": 128
        }
      ]
    },
    {
      "cell_type": "code",
      "source": [
        "list5 = ['d','a','c','b','e']\n",
        "print(list5)"
      ],
      "metadata": {
        "colab": {
          "base_uri": "https://localhost:8080/"
        },
        "id": "wuaRHCBc_OEz",
        "outputId": "c977560d-6e7d-4ca3-a1f3-0abbd48a5896"
      },
      "execution_count": null,
      "outputs": [
        {
          "output_type": "stream",
          "name": "stdout",
          "text": [
            "['d', 'a', 'c', 'b', 'e']\n"
          ]
        }
      ]
    },
    {
      "cell_type": "code",
      "source": [
        "list5 = ['d','a','c','b','e']\n",
        "sorted_list5 = sorted(list5,reverse = True)\n",
        "print(sorted_list5)"
      ],
      "metadata": {
        "colab": {
          "base_uri": "https://localhost:8080/"
        },
        "id": "-5RV2SFrBHWn",
        "outputId": "67cdcd03-fd17-4c4f-fea8-1eb8dcb85c0f"
      },
      "execution_count": null,
      "outputs": [
        {
          "output_type": "stream",
          "name": "stdout",
          "text": [
            "['e', 'd', 'c', 'b', 'a']\n"
          ]
        }
      ]
    },
    {
      "cell_type": "code",
      "source": [
        "list1 = ['a','b','c']\n",
        "list2 = [0,1,2]\n",
        "list3 = list1+list2\n",
        "print(list3)"
      ],
      "metadata": {
        "colab": {
          "base_uri": "https://localhost:8080/"
        },
        "id": "_PaFpU9gBZsL",
        "outputId": "b65f1726-9a3b-44da-f85b-a4be3db77712"
      },
      "execution_count": null,
      "outputs": [
        {
          "output_type": "stream",
          "name": "stdout",
          "text": [
            "['a', 'b', 'c', 0, 1, 2]\n"
          ]
        }
      ]
    },
    {
      "cell_type": "code",
      "source": [
        "list1 = ['a','b','c']\n",
        "list2 = [0,1,2]\n",
        "list1.extend(list2)\n",
        "print(list1)"
      ],
      "metadata": {
        "colab": {
          "base_uri": "https://localhost:8080/"
        },
        "id": "CO_FtUcBcrd1",
        "outputId": "20b1a4ec-c935-41b4-d129-e2cca0e69bbf"
      },
      "execution_count": null,
      "outputs": [
        {
          "output_type": "stream",
          "name": "stdout",
          "text": [
            "['a', 'b', 'c', 0, 1, 2]\n"
          ]
        }
      ]
    },
    {
      "cell_type": "code",
      "source": [
        "list1 = [1,2,3,1,2,3]\n",
        "del list1[1]\n",
        "list1"
      ],
      "metadata": {
        "colab": {
          "base_uri": "https://localhost:8080/"
        },
        "id": "tZrT-QS4CxXj",
        "outputId": "3e8c0c76-c014-4738-95b8-bfaf024a9f41"
      },
      "execution_count": null,
      "outputs": [
        {
          "output_type": "execute_result",
          "data": {
            "text/plain": [
              "[1, 3, 1, 2, 3]"
            ]
          },
          "metadata": {},
          "execution_count": 139
        }
      ]
    },
    {
      "cell_type": "code",
      "source": [
        "list1 = [1,2,3,1,2,3]\n",
        "del list1[2]\n",
        "del list1[4]\n",
        "list1"
      ],
      "metadata": {
        "colab": {
          "base_uri": "https://localhost:8080/"
        },
        "id": "D8hPWihfC-hP",
        "outputId": "ef9172bb-beaa-4780-a28b-52a0a4b57d74"
      },
      "execution_count": null,
      "outputs": [
        {
          "output_type": "execute_result",
          "data": {
            "text/plain": [
              "[1, 2, 1, 2]"
            ]
          },
          "metadata": {},
          "execution_count": 145
        }
      ]
    },
    {
      "cell_type": "code",
      "source": [
        "list1 = [1,2,3,1,2,3]\n",
        "list1.remove(1)\n",
        "list1.remove(1)\n",
        "list1"
      ],
      "metadata": {
        "colab": {
          "base_uri": "https://localhost:8080/"
        },
        "id": "PCdVKfeIGiHf",
        "outputId": "276b139b-6402-4554-96bb-b58272da7a9d"
      },
      "execution_count": null,
      "outputs": [
        {
          "output_type": "execute_result",
          "data": {
            "text/plain": [
              "[2, 3, 2, 3]"
            ]
          },
          "metadata": {},
          "execution_count": 147
        }
      ]
    },
    {
      "cell_type": "code",
      "source": [
        "list1 = [1,2,3,1,2,3]\n",
        "list1.clear()\n",
        "list1"
      ],
      "metadata": {
        "colab": {
          "base_uri": "https://localhost:8080/"
        },
        "id": "k__5bU6SG9-0",
        "outputId": "2d9d23dd-5470-4233-ab80-67ebfca7d50c"
      },
      "execution_count": null,
      "outputs": [
        {
          "output_type": "execute_result",
          "data": {
            "text/plain": [
              "[]"
            ]
          },
          "metadata": {},
          "execution_count": 148
        }
      ]
    },
    {
      "cell_type": "code",
      "source": [
        "list1 = [1,2,3,'a','b','c']\n",
        "print(len(list1))"
      ],
      "metadata": {
        "colab": {
          "base_uri": "https://localhost:8080/"
        },
        "id": "9ot_SGrHHinV",
        "outputId": "5284bedb-62e4-428a-f213-744aad23b5d2"
      },
      "execution_count": null,
      "outputs": [
        {
          "output_type": "stream",
          "name": "stdout",
          "text": [
            "6\n"
          ]
        }
      ]
    },
    {
      "cell_type": "code",
      "source": [
        "list1 = [1,2,3,4,5]\n",
        "numeric1 = int(input())\n",
        "print(numeric1 in list1)"
      ],
      "metadata": {
        "colab": {
          "base_uri": "https://localhost:8080/"
        },
        "id": "Lj4IB_DUHxR7",
        "outputId": "0b166a2f-bcd6-4420-ea9c-e3b4f077cbef"
      },
      "execution_count": null,
      "outputs": [
        {
          "output_type": "stream",
          "name": "stdout",
          "text": [
            "10\n",
            "False\n"
          ]
        }
      ]
    },
    {
      "cell_type": "code",
      "source": [
        "tup = ('America','Brazil','China','Dominican','Egypt')\n",
        "print(tup)\n",
        "print(type(tup))"
      ],
      "metadata": {
        "colab": {
          "base_uri": "https://localhost:8080/"
        },
        "id": "TQEu2A8SJ_JE",
        "outputId": "4a5e2b32-ba8e-473f-fdbe-df32312fb2f0"
      },
      "execution_count": null,
      "outputs": [
        {
          "output_type": "stream",
          "name": "stdout",
          "text": [
            "('America', 'Brazil', 'China', 'Dominican', 'Egypt')\n",
            "<class 'tuple'>\n"
          ]
        }
      ]
    },
    {
      "cell_type": "code",
      "source": [
        "tup = ('America','Brazil','China','Dominican','Egypt')\n",
        "print(tup[1])"
      ],
      "metadata": {
        "colab": {
          "base_uri": "https://localhost:8080/"
        },
        "id": "O1PaTJ4XpKft",
        "outputId": "237e54ff-e685-40db-8e6e-4746877d6e5a"
      },
      "execution_count": null,
      "outputs": [
        {
          "output_type": "stream",
          "name": "stdout",
          "text": [
            "Brazil\n"
          ]
        }
      ]
    },
    {
      "cell_type": "code",
      "source": [
        "tup = ('America','Brazil','China','Dominican','Egypt')\n",
        "print(tup[-2])"
      ],
      "metadata": {
        "colab": {
          "base_uri": "https://localhost:8080/"
        },
        "id": "sXax1UG1pO3-",
        "outputId": "6836476c-6cd6-4880-d133-a02e06e6a18e"
      },
      "execution_count": null,
      "outputs": [
        {
          "output_type": "stream",
          "name": "stdout",
          "text": [
            "Dominican\n"
          ]
        }
      ]
    },
    {
      "cell_type": "code",
      "source": [
        "tup = ('America','Brazil','China','Dominican','Egypt')\n",
        "print(tup[-3])"
      ],
      "metadata": {
        "colab": {
          "base_uri": "https://localhost:8080/"
        },
        "id": "LB6gp_nYpVX4",
        "outputId": "0b4a19c1-055a-45a9-abd1-bb320e84dc7c"
      },
      "execution_count": null,
      "outputs": [
        {
          "output_type": "stream",
          "name": "stdout",
          "text": [
            "China\n"
          ]
        }
      ]
    },
    {
      "cell_type": "code",
      "source": [
        "tup = ('America','Brazil','China','Dominican','Egypt')\n",
        "print(tup[-1])"
      ],
      "metadata": {
        "colab": {
          "base_uri": "https://localhost:8080/"
        },
        "id": "K1m1LDLIpXTs",
        "outputId": "a26116df-c727-4c3e-fdeb-eee7c6156bcd"
      },
      "execution_count": null,
      "outputs": [
        {
          "output_type": "stream",
          "name": "stdout",
          "text": [
            "Egypt\n"
          ]
        }
      ]
    },
    {
      "cell_type": "code",
      "source": [
        "tuple2 = ('one','two','three',1,2,3)\n",
        "print(tuple2[1:4])"
      ],
      "metadata": {
        "colab": {
          "base_uri": "https://localhost:8080/"
        },
        "id": "WtXtoIZrpa8v",
        "outputId": "4d5b1a2b-8c86-490d-b042-fa0b0127cb25"
      },
      "execution_count": null,
      "outputs": [
        {
          "output_type": "stream",
          "name": "stdout",
          "text": [
            "('two', 'three', 1)\n"
          ]
        }
      ]
    },
    {
      "cell_type": "code",
      "source": [
        "tuple2 = ('one','two','three',1,2,3)\n",
        "print(tuple2[2:4])"
      ],
      "metadata": {
        "colab": {
          "base_uri": "https://localhost:8080/"
        },
        "id": "z0PwWsk_pvnK",
        "outputId": "2ddc60c9-dfb1-4edf-d18e-a99a3e8a64f9"
      },
      "execution_count": null,
      "outputs": [
        {
          "output_type": "stream",
          "name": "stdout",
          "text": [
            "('three', 1)\n"
          ]
        }
      ]
    },
    {
      "cell_type": "code",
      "source": [
        "tuple2 = ('one','two','three',1,2,3)\n",
        "print(tuple2[:3])"
      ],
      "metadata": {
        "colab": {
          "base_uri": "https://localhost:8080/"
        },
        "id": "gVeYajUqp0M3",
        "outputId": "3982467a-f2df-44b6-ae2e-53f79206a6ec"
      },
      "execution_count": null,
      "outputs": [
        {
          "output_type": "stream",
          "name": "stdout",
          "text": [
            "('one', 'two', 'three')\n"
          ]
        }
      ]
    },
    {
      "cell_type": "code",
      "source": [
        "tuple2 = ('one','two','three',1,2,3)\n",
        "print(tuple2[3:])"
      ],
      "metadata": {
        "colab": {
          "base_uri": "https://localhost:8080/"
        },
        "id": "UA4Rbg9sp4zr",
        "outputId": "a8692410-1f24-497f-9a1b-f8d8b5552eff"
      },
      "execution_count": null,
      "outputs": [
        {
          "output_type": "stream",
          "name": "stdout",
          "text": [
            "(1, 2, 3)\n"
          ]
        }
      ]
    },
    {
      "cell_type": "code",
      "source": [
        "tuple3 = ('one','two','three','four','five')\n",
        "print(len(tuple3))"
      ],
      "metadata": {
        "colab": {
          "base_uri": "https://localhost:8080/"
        },
        "id": "X2QnUpOnqRgF",
        "outputId": "5942cef6-1199-495b-a7dc-4e3971e3e667"
      },
      "execution_count": null,
      "outputs": [
        {
          "output_type": "stream",
          "name": "stdout",
          "text": [
            "5\n"
          ]
        }
      ]
    },
    {
      "cell_type": "code",
      "source": [
        "tuple3 = ('one','two','three','four','five')\n",
        "str1 = input()\n",
        "print(str1 in tuple3)"
      ],
      "metadata": {
        "colab": {
          "base_uri": "https://localhost:8080/"
        },
        "id": "vYAlnlVSqyNm",
        "outputId": "d004f504-0786-4892-c56b-22b68b84b757"
      },
      "execution_count": null,
      "outputs": [
        {
          "output_type": "stream",
          "name": "stdout",
          "text": [
            "oe\n",
            "False\n"
          ]
        }
      ]
    },
    {
      "cell_type": "code",
      "source": [
        "dic = {'first_name' : 'John','last_name':'Doe'}\n",
        "print(dic)\n",
        "print(type(dic))"
      ],
      "metadata": {
        "colab": {
          "base_uri": "https://localhost:8080/"
        },
        "id": "WumrZhqFrPeY",
        "outputId": "da74b8c8-8b6d-4c04-f641-ebef5528e72a"
      },
      "execution_count": null,
      "outputs": [
        {
          "output_type": "stream",
          "name": "stdout",
          "text": [
            "{'first_name': 'John', 'last_name': 'Doe'}\n",
            "<class 'dict'>\n"
          ]
        }
      ]
    },
    {
      "cell_type": "code",
      "source": [
        "dict1 = {'first_name' : 'John','last_name':'Doe'}\n",
        "print(dict1['first_name'])"
      ],
      "metadata": {
        "colab": {
          "base_uri": "https://localhost:8080/"
        },
        "id": "TSrUNd73rj8z",
        "outputId": "f8fda255-17b2-49eb-8642-4a0e7211e6b6"
      },
      "execution_count": null,
      "outputs": [
        {
          "output_type": "stream",
          "name": "stdout",
          "text": [
            "John\n"
          ]
        }
      ]
    },
    {
      "cell_type": "code",
      "source": [
        "dict1 = {'first_name' : 'John','last_name':'Doe'}\n",
        "print(dict1['last_name'])"
      ],
      "metadata": {
        "colab": {
          "base_uri": "https://localhost:8080/"
        },
        "id": "zi4RyDpLsOoZ",
        "outputId": "80bf4d5c-fc40-4871-a90e-aac46baeaca5"
      },
      "execution_count": null,
      "outputs": [
        {
          "output_type": "stream",
          "name": "stdout",
          "text": [
            "Doe\n"
          ]
        }
      ]
    },
    {
      "cell_type": "code",
      "source": [
        "dict1 = {'first_name' : 'John','last_name':'Doe'}\n",
        "print(dict1.keys())"
      ],
      "metadata": {
        "colab": {
          "base_uri": "https://localhost:8080/"
        },
        "id": "v1O_Y329skLU",
        "outputId": "0487c20b-f0b1-460e-d9ec-5f3ba6c98f14"
      },
      "execution_count": null,
      "outputs": [
        {
          "output_type": "stream",
          "name": "stdout",
          "text": [
            "dict_keys(['first_name', 'last_name'])\n"
          ]
        }
      ]
    },
    {
      "cell_type": "code",
      "source": [
        "dict1 = {'first_name' : 'John','last_name':'Doe'}\n",
        "print(dict1.values())"
      ],
      "metadata": {
        "colab": {
          "base_uri": "https://localhost:8080/"
        },
        "id": "poB9RDXetjv6",
        "outputId": "c417095f-52e7-4338-83b3-c1b6e1f8ca82"
      },
      "execution_count": null,
      "outputs": [
        {
          "output_type": "stream",
          "name": "stdout",
          "text": [
            "dict_values(['John', 'Doe'])\n"
          ]
        }
      ]
    },
    {
      "cell_type": "code",
      "source": [
        "dict1 = {'first_name' : 'John','last_name':'Doe'}\n",
        "dict1['first_name'] = 'Jane'\n",
        "print(dict1)"
      ],
      "metadata": {
        "colab": {
          "base_uri": "https://localhost:8080/"
        },
        "id": "vLB6lSW7yWzR",
        "outputId": "59d57d3c-294a-4480-a6a2-13a3fcbf64f4"
      },
      "execution_count": null,
      "outputs": [
        {
          "output_type": "stream",
          "name": "stdout",
          "text": [
            "{'first_name': 'Jane', 'last_name': 'Doe'}\n"
          ]
        }
      ]
    },
    {
      "cell_type": "code",
      "source": [
        "dict1 = {'first_name' : 'John','last_name':'Doe'}\n",
        "dict1['age'] = 32\n",
        "print(dict1)"
      ],
      "metadata": {
        "colab": {
          "base_uri": "https://localhost:8080/"
        },
        "id": "Z3ZkjmW0zdt7",
        "outputId": "e7fcadf5-3bde-49e7-dc96-d6cf7d9a149a"
      },
      "execution_count": null,
      "outputs": [
        {
          "output_type": "stream",
          "name": "stdout",
          "text": [
            "{'first_name': 'John', 'last_name': 'Doe', 'age': 32}\n"
          ]
        }
      ]
    },
    {
      "cell_type": "code",
      "source": [
        "dict1 = {'first_name' : 'John','last_name':'Doe'}\n",
        "dict1['age'] = 32\n",
        "dict1['hobby'] = ({'coding','study'})\n",
        "print(dict1)"
      ],
      "metadata": {
        "colab": {
          "base_uri": "https://localhost:8080/"
        },
        "id": "uA7ZjzwN0k4R",
        "outputId": "bf47f86f-95ef-4bd9-8ba3-90ebec4110cc"
      },
      "execution_count": null,
      "outputs": [
        {
          "output_type": "stream",
          "name": "stdout",
          "text": [
            "{'first_name': 'John', 'last_name': 'Doe', 'age': 32, 'hobby': {'study', 'coding'}}\n"
          ]
        }
      ]
    },
    {
      "cell_type": "code",
      "source": [
        "dict1 = {'first_name' : 'John','last_name':'Doe'}\n",
        "dict1.update({'age':32,'hobby':['coding','study']})\n",
        "print(dict1)"
      ],
      "metadata": {
        "colab": {
          "base_uri": "https://localhost:8080/"
        },
        "id": "lB69z1SKq_g3",
        "outputId": "06778599-0048-434d-8ae4-355f32fa0c62"
      },
      "execution_count": null,
      "outputs": [
        {
          "output_type": "stream",
          "name": "stdout",
          "text": [
            "{'first_name': 'John', 'last_name': 'Doe', 'age': 32, 'hobby': ['coding', 'study']}\n"
          ]
        }
      ]
    },
    {
      "cell_type": "code",
      "source": [
        "dict1 = {}\n",
        "str1 = input()\n",
        "str2 = input()\n",
        "dict1.update({str1:str2})\n",
        "print(dict1)"
      ],
      "metadata": {
        "colab": {
          "base_uri": "https://localhost:8080/"
        },
        "id": "4Ktqnzoh0_nH",
        "outputId": "e0c28fb8-b7ba-4e88-ad4c-41eed151d8b6"
      },
      "execution_count": null,
      "outputs": [
        {
          "output_type": "stream",
          "name": "stdout",
          "text": [
            "yes\n",
            "no\n",
            "{'yes': 'no'}\n"
          ]
        }
      ]
    },
    {
      "cell_type": "code",
      "source": [
        "dict1 = {}\n",
        "str1 = input()\n",
        "str2 = input()\n",
        "dict1[str1] = str2\n",
        "print(dict1)"
      ],
      "metadata": {
        "colab": {
          "base_uri": "https://localhost:8080/"
        },
        "id": "RZCbIfBHsGT3",
        "outputId": "8cc5c92d-b66a-49d2-d493-bdf4d9efd4a8"
      },
      "execution_count": null,
      "outputs": [
        {
          "output_type": "stream",
          "name": "stdout",
          "text": [
            "a\n",
            "ayo\n",
            "{'a': 'ayo'}\n"
          ]
        }
      ]
    },
    {
      "cell_type": "code",
      "source": [
        "dict1 = {'first_name' : 'John','last_name':'Doe','age':32}\n",
        "del dict1['age']\n",
        "print(dict1)"
      ],
      "metadata": {
        "colab": {
          "base_uri": "https://localhost:8080/"
        },
        "id": "cJCU5vhn10IX",
        "outputId": "a77e097b-6d5c-480b-ef9d-949b8dbd63aa"
      },
      "execution_count": null,
      "outputs": [
        {
          "output_type": "stream",
          "name": "stdout",
          "text": [
            "{'first_name': 'John', 'last_name': 'Doe'}\n"
          ]
        }
      ]
    },
    {
      "cell_type": "code",
      "source": [
        "dict1 = {'first_name' : 'John','last_name':'Doe','age':32}\n",
        "dict1.clear()\n",
        "print(dict1)"
      ],
      "metadata": {
        "colab": {
          "base_uri": "https://localhost:8080/"
        },
        "id": "p09A76KV2aXf",
        "outputId": "52054b21-6431-40d6-8c60-cfb153b84ff9"
      },
      "execution_count": null,
      "outputs": [
        {
          "output_type": "stream",
          "name": "stdout",
          "text": [
            "{}\n"
          ]
        }
      ]
    },
    {
      "cell_type": "code",
      "source": [
        "dict1 = {'first_name' : 'John','last_name':'Doe','age':32}\n",
        "print(len(dict1.keys()))"
      ],
      "metadata": {
        "colab": {
          "base_uri": "https://localhost:8080/"
        },
        "id": "RKLHGfhG2tBo",
        "outputId": "007c4f2e-1b14-4be0-d2a0-e0578a5cc302"
      },
      "execution_count": null,
      "outputs": [
        {
          "output_type": "stream",
          "name": "stdout",
          "text": [
            "3\n"
          ]
        }
      ]
    },
    {
      "cell_type": "code",
      "source": [
        "dict1 = {'first_name' : 'John','last_name':'Doe','age':32}\n",
        "print(len(dict1))"
      ],
      "metadata": {
        "colab": {
          "base_uri": "https://localhost:8080/"
        },
        "id": "xntfietntAgN",
        "outputId": "7946df85-457e-478b-f776-5c4fa72f2c68"
      },
      "execution_count": null,
      "outputs": [
        {
          "output_type": "stream",
          "name": "stdout",
          "text": [
            "3\n"
          ]
        }
      ]
    },
    {
      "cell_type": "code",
      "source": [
        "dict1 = {'first_name' : 'John','last_name':'Doe','age':32}\n",
        "str1 = input()\n",
        "print(str1 in dict1)"
      ],
      "metadata": {
        "colab": {
          "base_uri": "https://localhost:8080/"
        },
        "id": "jnhpFOW32sxc",
        "outputId": "91ed2dd8-cf58-4a69-9269-105cac19efb6"
      },
      "execution_count": null,
      "outputs": [
        {
          "output_type": "stream",
          "name": "stdout",
          "text": [
            "John\n",
            "False\n"
          ]
        }
      ]
    },
    {
      "cell_type": "code",
      "source": [
        "dict1 = {'first_name' : 'John','last_name':'Doe','age':32}\n",
        "str1 = input()\n",
        "print(str1 in dict1.values())"
      ],
      "metadata": {
        "colab": {
          "base_uri": "https://localhost:8080/"
        },
        "id": "gUdjcX2e2sny",
        "outputId": "35b3a2bc-3b2a-40ce-d5ad-761a6e077742"
      },
      "execution_count": null,
      "outputs": [
        {
          "output_type": "stream",
          "name": "stdout",
          "text": [
            "first_name\n",
            "False\n"
          ]
        }
      ]
    },
    {
      "cell_type": "code",
      "source": [
        "set = {1,2,3,'i','ii','iii'}\n",
        "print(set)\n",
        "print(type(set))"
      ],
      "metadata": {
        "colab": {
          "base_uri": "https://localhost:8080/"
        },
        "id": "CJsbvt3k3Vpf",
        "outputId": "36095c23-a7dc-4bce-eb09-0d59a295c648"
      },
      "execution_count": null,
      "outputs": [
        {
          "output_type": "stream",
          "name": "stdout",
          "text": [
            "{1, 2, 3, 'ii', 'i', 'iii'}\n",
            "<class 'set'>\n"
          ]
        }
      ]
    },
    {
      "cell_type": "code",
      "source": [
        "set = {1,2,3,'i','ii','iii'}\n",
        "for x in set:\n",
        "  print(x)"
      ],
      "metadata": {
        "colab": {
          "base_uri": "https://localhost:8080/"
        },
        "id": "1iPuoHyD44bA",
        "outputId": "4d24ceae-e4fd-4843-b792-389cb573135c"
      },
      "execution_count": null,
      "outputs": [
        {
          "output_type": "stream",
          "name": "stdout",
          "text": [
            "1\n",
            "2\n",
            "3\n",
            "ii\n",
            "i\n",
            "iii\n"
          ]
        }
      ]
    },
    {
      "cell_type": "code",
      "source": [
        "set1 = {1,2,'yo',3,4,5}\n",
        "print(set1)"
      ],
      "metadata": {
        "colab": {
          "base_uri": "https://localhost:8080/"
        },
        "id": "a_BEzfPEwzHt",
        "outputId": "54b66772-bf82-4b68-be79-3e922962eb92"
      },
      "execution_count": null,
      "outputs": [
        {
          "output_type": "stream",
          "name": "stdout",
          "text": [
            "{1, 2, 3, 4, 5, 'yo'}\n"
          ]
        }
      ]
    },
    {
      "cell_type": "code",
      "source": [
        "set = {1,2,3,'i','ii','iii'}\n",
        "set.add('iv')\n",
        "print(set)"
      ],
      "metadata": {
        "colab": {
          "base_uri": "https://localhost:8080/"
        },
        "id": "vyu4x5ux5DOF",
        "outputId": "36b645a6-ce47-4ad9-8ae3-52a9e6ba8872"
      },
      "execution_count": null,
      "outputs": [
        {
          "output_type": "stream",
          "name": "stdout",
          "text": [
            "{1, 2, 3, 'ii', 'i', 'iii', 'iv'}\n"
          ]
        }
      ]
    },
    {
      "cell_type": "code",
      "source": [
        "set = {1,2,3,'i','ii','iii'}\n",
        "set.add(1)\n",
        "print(set)"
      ],
      "metadata": {
        "colab": {
          "base_uri": "https://localhost:8080/"
        },
        "id": "dvDYNn8r5M6P",
        "outputId": "2b241f7c-6f04-4daf-c4ab-8ad3be4ef902"
      },
      "execution_count": null,
      "outputs": [
        {
          "output_type": "stream",
          "name": "stdout",
          "text": [
            "{1, 2, 3, 'ii', 'iii', 'i'}\n"
          ]
        }
      ]
    },
    {
      "cell_type": "code",
      "source": [
        "set1 = {}\n",
        "str1 = input()\n",
        "str2 = input()\n",
        "str3 = input()\n",
        "set1 = {str1,str2,str3}\n",
        "print(set1)"
      ],
      "metadata": {
        "colab": {
          "base_uri": "https://localhost:8080/"
        },
        "id": "XawWZHUD5fTG",
        "outputId": "c3cf64d0-d5b5-4489-d69f-5bcd1ecd4353"
      },
      "execution_count": null,
      "outputs": [
        {
          "output_type": "stream",
          "name": "stdout",
          "text": [
            "yo\n",
            "hi\n",
            "guy\n",
            "<class 'set'>\n"
          ]
        }
      ]
    },
    {
      "cell_type": "code",
      "source": [
        "set1 = {}\n",
        "str1 = input()\n",
        "str2 = input()\n",
        "str3 = input()\n",
        "set1.update({str1,str2,str3})\n",
        "print(set1)"
      ],
      "metadata": {
        "colab": {
          "base_uri": "https://localhost:8080/",
          "height": 288
        },
        "id": "k7WNCFyu6fnz",
        "outputId": "b7ef0650-9bf5-4da7-f9e5-03281f0dc2bd"
      },
      "execution_count": null,
      "outputs": [
        {
          "name": "stdout",
          "output_type": "stream",
          "text": [
            "huu\n",
            "yo\n",
            "aye\n"
          ]
        },
        {
          "output_type": "error",
          "ename": "ValueError",
          "evalue": "dictionary update sequence element #0 has length 3; 2 is required",
          "traceback": [
            "\u001b[0;31m---------------------------------------------------------------------------\u001b[0m",
            "\u001b[0;31mValueError\u001b[0m                                Traceback (most recent call last)",
            "\u001b[0;32m<ipython-input-52-035e99819e77>\u001b[0m in \u001b[0;36m<cell line: 5>\u001b[0;34m()\u001b[0m\n\u001b[1;32m      3\u001b[0m \u001b[0mstr2\u001b[0m \u001b[0;34m=\u001b[0m \u001b[0minput\u001b[0m\u001b[0;34m(\u001b[0m\u001b[0;34m)\u001b[0m\u001b[0;34m\u001b[0m\u001b[0;34m\u001b[0m\u001b[0m\n\u001b[1;32m      4\u001b[0m \u001b[0mstr3\u001b[0m \u001b[0;34m=\u001b[0m \u001b[0minput\u001b[0m\u001b[0;34m(\u001b[0m\u001b[0;34m)\u001b[0m\u001b[0;34m\u001b[0m\u001b[0;34m\u001b[0m\u001b[0m\n\u001b[0;32m----> 5\u001b[0;31m \u001b[0mset1\u001b[0m\u001b[0;34m.\u001b[0m\u001b[0mupdate\u001b[0m\u001b[0;34m(\u001b[0m\u001b[0;34m{\u001b[0m\u001b[0mstr1\u001b[0m\u001b[0;34m,\u001b[0m\u001b[0mstr2\u001b[0m\u001b[0;34m,\u001b[0m\u001b[0mstr3\u001b[0m\u001b[0;34m}\u001b[0m\u001b[0;34m)\u001b[0m\u001b[0;34m\u001b[0m\u001b[0;34m\u001b[0m\u001b[0m\n\u001b[0m\u001b[1;32m      6\u001b[0m \u001b[0mprint\u001b[0m\u001b[0;34m(\u001b[0m\u001b[0mset1\u001b[0m\u001b[0;34m)\u001b[0m\u001b[0;34m\u001b[0m\u001b[0;34m\u001b[0m\u001b[0m\n",
            "\u001b[0;31mValueError\u001b[0m: dictionary update sequence element #0 has length 3; 2 is required"
          ]
        }
      ]
    },
    {
      "cell_type": "code",
      "source": [
        "set = {1,2,3,'i','ii','iii'}\n",
        "set.remove('i')\n",
        "print(set)"
      ],
      "metadata": {
        "colab": {
          "base_uri": "https://localhost:8080/"
        },
        "id": "Z7p1ZQhR8zSo",
        "outputId": "d1078212-1458-4b11-a8ca-7d81516a6bca"
      },
      "execution_count": null,
      "outputs": [
        {
          "output_type": "stream",
          "name": "stdout",
          "text": [
            "{1, 2, 3, 'ii', 'iii'}\n"
          ]
        }
      ]
    },
    {
      "cell_type": "code",
      "source": [
        "set = {1,2,3,'i','ii','iii'}\n",
        "print(len(set))"
      ],
      "metadata": {
        "colab": {
          "base_uri": "https://localhost:8080/"
        },
        "id": "w2lhqpig84SK",
        "outputId": "12ebb00b-6203-4557-9644-a39b3d05d905"
      },
      "execution_count": null,
      "outputs": [
        {
          "output_type": "stream",
          "name": "stdout",
          "text": [
            "6\n"
          ]
        }
      ]
    },
    {
      "cell_type": "code",
      "source": [
        "set = {1,2,3,'i','ii','iii'}\n",
        "int1 = int(input())\n",
        "print(int1 in set)"
      ],
      "metadata": {
        "colab": {
          "base_uri": "https://localhost:8080/"
        },
        "id": "jMIKEeUm9kym",
        "outputId": "4848e11e-53ce-48f1-8d4c-568dc88080d4"
      },
      "execution_count": null,
      "outputs": [
        {
          "output_type": "stream",
          "name": "stdout",
          "text": [
            "1\n",
            "True\n"
          ]
        }
      ]
    },
    {
      "cell_type": "code",
      "source": [
        "set1 = {1,2,3,4,5}\n",
        "set2 = {3,4,5,6}\n",
        "print(set1 | set2)"
      ],
      "metadata": {
        "colab": {
          "base_uri": "https://localhost:8080/"
        },
        "id": "JD-G5zAt-cHW",
        "outputId": "2728ed1c-76db-401f-d89e-e9b0db22752b"
      },
      "execution_count": null,
      "outputs": [
        {
          "output_type": "stream",
          "name": "stdout",
          "text": [
            "{1, 2, 3, 4, 5, 6}\n"
          ]
        }
      ]
    },
    {
      "cell_type": "code",
      "source": [
        "set1 = {1,2,3,4,5}\n",
        "set2 = {3,4,5,6}\n",
        "print(set1 & set2)"
      ],
      "metadata": {
        "colab": {
          "base_uri": "https://localhost:8080/"
        },
        "id": "LrLciXim-pnf",
        "outputId": "2cc98f2e-0cf6-403f-c0cf-662220e537d0"
      },
      "execution_count": null,
      "outputs": [
        {
          "output_type": "stream",
          "name": "stdout",
          "text": [
            "{3, 4, 5}\n"
          ]
        }
      ]
    },
    {
      "cell_type": "code",
      "source": [
        "set1 = {1,2,3,4,5}\n",
        "set2 = {3,4,5,6}\n",
        "print(set1 - set2)"
      ],
      "metadata": {
        "colab": {
          "base_uri": "https://localhost:8080/"
        },
        "id": "MtS6QMYJ-yj7",
        "outputId": "3c95ae39-91d5-4886-b681-667bb1f931d6"
      },
      "execution_count": null,
      "outputs": [
        {
          "output_type": "stream",
          "name": "stdout",
          "text": [
            "{1, 2}\n"
          ]
        }
      ]
    },
    {
      "cell_type": "code",
      "source": [
        "set1 = {1,2,3,4,5}\n",
        "set2 = {3,4,5,6}\n",
        "print(set2 - set1)"
      ],
      "metadata": {
        "colab": {
          "base_uri": "https://localhost:8080/"
        },
        "id": "QgEtnJ6N-1sG",
        "outputId": "952d1008-6f1a-4c0e-b640-9952b1a1ce60"
      },
      "execution_count": null,
      "outputs": [
        {
          "output_type": "stream",
          "name": "stdout",
          "text": [
            "{6}\n"
          ]
        }
      ]
    },
    {
      "cell_type": "code",
      "source": [
        "set1 = {1,2,3,4,5}\n",
        "set2 = {3,4,5,6}\n",
        "print(set1 ^ set2)"
      ],
      "metadata": {
        "colab": {
          "base_uri": "https://localhost:8080/"
        },
        "id": "Wpd8hHr3-4Oi",
        "outputId": "ba84a822-5a97-4bd9-bde3-63ec70bacfe5"
      },
      "execution_count": null,
      "outputs": [
        {
          "output_type": "stream",
          "name": "stdout",
          "text": [
            "{1, 2, 6}\n"
          ]
        }
      ]
    },
    {
      "cell_type": "markdown",
      "source": [],
      "metadata": {
        "id": "Cuvgsl3GKMiI"
      }
    },
    {
      "cell_type": "markdown",
      "source": [
        "# เรียนเนื้อหา05"
      ],
      "metadata": {
        "id": "2Xt2CvHeKP98"
      }
    },
    {
      "cell_type": "code",
      "source": [
        "a = 5\n",
        "b = 10\n",
        "c = 7"
      ],
      "metadata": {
        "id": "T_8MjOf7KWj4"
      },
      "execution_count": null,
      "outputs": []
    },
    {
      "cell_type": "code",
      "source": [
        "a+b"
      ],
      "metadata": {
        "colab": {
          "base_uri": "https://localhost:8080/"
        },
        "id": "xnUQyNNWLDOz",
        "outputId": "d1527f68-1609-4868-f0fc-3cff7f5cb127"
      },
      "execution_count": null,
      "outputs": [
        {
          "output_type": "execute_result",
          "data": {
            "text/plain": [
              "15"
            ]
          },
          "metadata": {},
          "execution_count": 54
        }
      ]
    },
    {
      "cell_type": "code",
      "source": [
        "a-b"
      ],
      "metadata": {
        "colab": {
          "base_uri": "https://localhost:8080/"
        },
        "id": "ASwbwfSvLRue",
        "outputId": "a29dc8c6-3272-421a-f63b-59b9dcc6d951"
      },
      "execution_count": null,
      "outputs": [
        {
          "output_type": "execute_result",
          "data": {
            "text/plain": [
              "-5"
            ]
          },
          "metadata": {},
          "execution_count": 56
        }
      ]
    },
    {
      "cell_type": "code",
      "source": [
        "a*b"
      ],
      "metadata": {
        "colab": {
          "base_uri": "https://localhost:8080/"
        },
        "id": "grPJttdoLUUz",
        "outputId": "3f199124-b684-46b6-a969-f982bd785be9"
      },
      "execution_count": null,
      "outputs": [
        {
          "output_type": "execute_result",
          "data": {
            "text/plain": [
              "50"
            ]
          },
          "metadata": {},
          "execution_count": 57
        }
      ]
    },
    {
      "cell_type": "code",
      "source": [
        "a/b"
      ],
      "metadata": {
        "colab": {
          "base_uri": "https://localhost:8080/"
        },
        "id": "HAwzHY6TLicN",
        "outputId": "3cf84241-444e-4440-9ed0-b8401d3f7511"
      },
      "execution_count": null,
      "outputs": [
        {
          "output_type": "execute_result",
          "data": {
            "text/plain": [
              "0.5"
            ]
          },
          "metadata": {},
          "execution_count": 58
        }
      ]
    },
    {
      "cell_type": "code",
      "source": [
        "a**b"
      ],
      "metadata": {
        "colab": {
          "base_uri": "https://localhost:8080/"
        },
        "id": "2MfqbP0SL2eX",
        "outputId": "b8206fd2-6bff-4469-c243-86cc1c765635"
      },
      "execution_count": null,
      "outputs": [
        {
          "output_type": "execute_result",
          "data": {
            "text/plain": [
              "9765625"
            ]
          },
          "metadata": {},
          "execution_count": 59
        }
      ]
    },
    {
      "cell_type": "code",
      "source": [
        "a%b"
      ],
      "metadata": {
        "colab": {
          "base_uri": "https://localhost:8080/"
        },
        "id": "o5Vmi5zwMLLM",
        "outputId": "ca468d88-5664-46ff-c655-09abc2984a35"
      },
      "execution_count": null,
      "outputs": [
        {
          "output_type": "execute_result",
          "data": {
            "text/plain": [
              "5"
            ]
          },
          "metadata": {},
          "execution_count": 60
        }
      ]
    },
    {
      "cell_type": "code",
      "source": [
        "a//b"
      ],
      "metadata": {
        "colab": {
          "base_uri": "https://localhost:8080/"
        },
        "id": "sQm1fWxoMfmM",
        "outputId": "36683a54-a681-4547-a417-ff51ebda678e"
      },
      "execution_count": null,
      "outputs": [
        {
          "output_type": "execute_result",
          "data": {
            "text/plain": [
              "0"
            ]
          },
          "metadata": {},
          "execution_count": 3
        }
      ]
    },
    {
      "cell_type": "code",
      "source": [
        "a = 5\n",
        "b = 'name'"
      ],
      "metadata": {
        "id": "l2-5Cb4pG5yD"
      },
      "execution_count": null,
      "outputs": []
    },
    {
      "cell_type": "code",
      "source": [
        "a == 5"
      ],
      "metadata": {
        "colab": {
          "base_uri": "https://localhost:8080/"
        },
        "id": "BUODVPWVG5iB",
        "outputId": "a80264ba-c564-4907-fd93-7fd463f05f6c"
      },
      "execution_count": null,
      "outputs": [
        {
          "output_type": "execute_result",
          "data": {
            "text/plain": [
              "True"
            ]
          },
          "metadata": {},
          "execution_count": 5
        }
      ]
    },
    {
      "cell_type": "code",
      "source": [
        "a == 7"
      ],
      "metadata": {
        "colab": {
          "base_uri": "https://localhost:8080/"
        },
        "id": "yMfukRrDHJCo",
        "outputId": "7469214a-988c-44b5-bdc5-a1639a56e11d"
      },
      "execution_count": null,
      "outputs": [
        {
          "output_type": "execute_result",
          "data": {
            "text/plain": [
              "False"
            ]
          },
          "metadata": {},
          "execution_count": 6
        }
      ]
    },
    {
      "cell_type": "code",
      "source": [
        "b == 'name'"
      ],
      "metadata": {
        "colab": {
          "base_uri": "https://localhost:8080/"
        },
        "id": "R8JJJr-HHK4H",
        "outputId": "de27cdfb-fbb0-408f-b3bb-e2872513834f"
      },
      "execution_count": null,
      "outputs": [
        {
          "output_type": "execute_result",
          "data": {
            "text/plain": [
              "True"
            ]
          },
          "metadata": {},
          "execution_count": 7
        }
      ]
    },
    {
      "cell_type": "code",
      "source": [
        "b == 'fullname'"
      ],
      "metadata": {
        "colab": {
          "base_uri": "https://localhost:8080/"
        },
        "id": "GuSZiuElHPfX",
        "outputId": "8b2fa5d4-6e6f-4132-a8b3-dd699800a311"
      },
      "execution_count": null,
      "outputs": [
        {
          "output_type": "execute_result",
          "data": {
            "text/plain": [
              "False"
            ]
          },
          "metadata": {},
          "execution_count": 8
        }
      ]
    },
    {
      "cell_type": "code",
      "source": [
        "a = 5\n",
        "b = 'name'"
      ],
      "metadata": {
        "id": "XrREChXPHat7"
      },
      "execution_count": null,
      "outputs": []
    },
    {
      "cell_type": "code",
      "source": [
        "a != 5"
      ],
      "metadata": {
        "colab": {
          "base_uri": "https://localhost:8080/"
        },
        "id": "ZNWdpmILJfwW",
        "outputId": "b37b5e14-e9e7-4675-921c-2a065135a6c9"
      },
      "execution_count": null,
      "outputs": [
        {
          "output_type": "execute_result",
          "data": {
            "text/plain": [
              "False"
            ]
          },
          "metadata": {},
          "execution_count": 12
        }
      ]
    },
    {
      "cell_type": "code",
      "source": [
        "a != 7"
      ],
      "metadata": {
        "colab": {
          "base_uri": "https://localhost:8080/"
        },
        "id": "Gkkc9_7vJjLG",
        "outputId": "596db674-db79-4024-c9d3-581ef295bb4e"
      },
      "execution_count": null,
      "outputs": [
        {
          "output_type": "execute_result",
          "data": {
            "text/plain": [
              "True"
            ]
          },
          "metadata": {},
          "execution_count": 13
        }
      ]
    },
    {
      "cell_type": "code",
      "source": [
        "b != 'name'"
      ],
      "metadata": {
        "colab": {
          "base_uri": "https://localhost:8080/"
        },
        "id": "YUQZptsmJkvC",
        "outputId": "40048034-e0cd-41e9-a1d9-c4c6d8258cb2"
      },
      "execution_count": null,
      "outputs": [
        {
          "output_type": "execute_result",
          "data": {
            "text/plain": [
              "False"
            ]
          },
          "metadata": {},
          "execution_count": 14
        }
      ]
    },
    {
      "cell_type": "code",
      "source": [
        "a = 5"
      ],
      "metadata": {
        "id": "uhqnYRHsJnim"
      },
      "execution_count": null,
      "outputs": []
    },
    {
      "cell_type": "code",
      "source": [
        "a > 4"
      ],
      "metadata": {
        "colab": {
          "base_uri": "https://localhost:8080/"
        },
        "id": "0OAtkS_tJw-n",
        "outputId": "4bf8015c-8482-4299-92b6-0d7d5822c96c"
      },
      "execution_count": null,
      "outputs": [
        {
          "output_type": "execute_result",
          "data": {
            "text/plain": [
              "True"
            ]
          },
          "metadata": {},
          "execution_count": 16
        }
      ]
    },
    {
      "cell_type": "code",
      "source": [
        "a > 5"
      ],
      "metadata": {
        "colab": {
          "base_uri": "https://localhost:8080/"
        },
        "id": "3yT43Wh-JyTZ",
        "outputId": "5a94c423-6799-4b55-adc3-5c8542c4fe0a"
      },
      "execution_count": null,
      "outputs": [
        {
          "output_type": "execute_result",
          "data": {
            "text/plain": [
              "False"
            ]
          },
          "metadata": {},
          "execution_count": 17
        }
      ]
    },
    {
      "cell_type": "code",
      "source": [
        "a > 6"
      ],
      "metadata": {
        "colab": {
          "base_uri": "https://localhost:8080/"
        },
        "id": "icZsXbM8JzMG",
        "outputId": "ad31a33b-a2c8-4fc5-a320-a09da3a465b2"
      },
      "execution_count": null,
      "outputs": [
        {
          "output_type": "execute_result",
          "data": {
            "text/plain": [
              "False"
            ]
          },
          "metadata": {},
          "execution_count": 18
        }
      ]
    },
    {
      "cell_type": "code",
      "source": [
        "a < 4"
      ],
      "metadata": {
        "colab": {
          "base_uri": "https://localhost:8080/"
        },
        "id": "sp3iPe3ZJ1bF",
        "outputId": "2d0e1e1d-77d6-4610-d490-5a4416875ec5"
      },
      "execution_count": null,
      "outputs": [
        {
          "output_type": "execute_result",
          "data": {
            "text/plain": [
              "False"
            ]
          },
          "metadata": {},
          "execution_count": 19
        }
      ]
    },
    {
      "cell_type": "code",
      "source": [
        "a < 5"
      ],
      "metadata": {
        "colab": {
          "base_uri": "https://localhost:8080/"
        },
        "id": "DDHSlSGAJ-p4",
        "outputId": "3d4d28c2-75e3-43ca-f508-aa044ac706c8"
      },
      "execution_count": null,
      "outputs": [
        {
          "output_type": "execute_result",
          "data": {
            "text/plain": [
              "False"
            ]
          },
          "metadata": {},
          "execution_count": 20
        }
      ]
    },
    {
      "cell_type": "code",
      "source": [
        "a < 6"
      ],
      "metadata": {
        "colab": {
          "base_uri": "https://localhost:8080/"
        },
        "id": "SIrIOKcUKBCu",
        "outputId": "9b51ddc8-693a-4f85-dec5-3c0901e607be"
      },
      "execution_count": null,
      "outputs": [
        {
          "output_type": "execute_result",
          "data": {
            "text/plain": [
              "True"
            ]
          },
          "metadata": {},
          "execution_count": 22
        }
      ]
    },
    {
      "cell_type": "code",
      "source": [
        "a >= 4"
      ],
      "metadata": {
        "colab": {
          "base_uri": "https://localhost:8080/"
        },
        "id": "ghtQ7DW8KMMt",
        "outputId": "2de7b629-16ce-460a-e52d-ea008f7c913f"
      },
      "execution_count": null,
      "outputs": [
        {
          "output_type": "execute_result",
          "data": {
            "text/plain": [
              "True"
            ]
          },
          "metadata": {},
          "execution_count": 23
        }
      ]
    },
    {
      "cell_type": "code",
      "source": [
        "a >= 5"
      ],
      "metadata": {
        "colab": {
          "base_uri": "https://localhost:8080/"
        },
        "id": "99SY5mxYKNg8",
        "outputId": "79f7dcc0-2069-4e54-fc6f-e32ee2ec66dd"
      },
      "execution_count": null,
      "outputs": [
        {
          "output_type": "execute_result",
          "data": {
            "text/plain": [
              "True"
            ]
          },
          "metadata": {},
          "execution_count": 24
        }
      ]
    },
    {
      "cell_type": "code",
      "source": [
        "a >= 6"
      ],
      "metadata": {
        "colab": {
          "base_uri": "https://localhost:8080/"
        },
        "id": "1CFPT3M8KOz-",
        "outputId": "b50a0da2-90b2-42ae-8104-ed848511981f"
      },
      "execution_count": null,
      "outputs": [
        {
          "output_type": "execute_result",
          "data": {
            "text/plain": [
              "False"
            ]
          },
          "metadata": {},
          "execution_count": 25
        }
      ]
    },
    {
      "cell_type": "code",
      "source": [
        "a <= 4"
      ],
      "metadata": {
        "colab": {
          "base_uri": "https://localhost:8080/"
        },
        "id": "ueGSzk09KQNP",
        "outputId": "cc039204-7821-4dfd-ec31-157cfefd6e80"
      },
      "execution_count": null,
      "outputs": [
        {
          "output_type": "execute_result",
          "data": {
            "text/plain": [
              "False"
            ]
          },
          "metadata": {},
          "execution_count": 28
        }
      ]
    },
    {
      "cell_type": "code",
      "source": [
        "a <= 5"
      ],
      "metadata": {
        "colab": {
          "base_uri": "https://localhost:8080/"
        },
        "id": "INy0T1KcKcYO",
        "outputId": "f9821259-faed-4a73-b65f-82db095c8dc2"
      },
      "execution_count": null,
      "outputs": [
        {
          "output_type": "execute_result",
          "data": {
            "text/plain": [
              "True"
            ]
          },
          "metadata": {},
          "execution_count": 27
        }
      ]
    },
    {
      "cell_type": "code",
      "source": [
        "a <= 6"
      ],
      "metadata": {
        "colab": {
          "base_uri": "https://localhost:8080/"
        },
        "id": "0e__uvGTKd6d",
        "outputId": "5258545e-51d5-4e99-e405-6d7c6ed9d613"
      },
      "execution_count": null,
      "outputs": [
        {
          "output_type": "execute_result",
          "data": {
            "text/plain": [
              "True"
            ]
          },
          "metadata": {},
          "execution_count": 29
        }
      ]
    },
    {
      "cell_type": "code",
      "source": [
        "t = True\n",
        "f = False"
      ],
      "metadata": {
        "id": "z2vm7riMKiQ-"
      },
      "execution_count": null,
      "outputs": []
    },
    {
      "cell_type": "code",
      "source": [
        "t and f"
      ],
      "metadata": {
        "colab": {
          "base_uri": "https://localhost:8080/"
        },
        "id": "GeGofanMK-EU",
        "outputId": "6e459ca3-776f-4014-a0dd-9e2da9c179e1"
      },
      "execution_count": null,
      "outputs": [
        {
          "output_type": "execute_result",
          "data": {
            "text/plain": [
              "False"
            ]
          },
          "metadata": {},
          "execution_count": 31
        }
      ]
    },
    {
      "cell_type": "code",
      "source": [
        "t or f"
      ],
      "metadata": {
        "colab": {
          "base_uri": "https://localhost:8080/"
        },
        "id": "Svisq35fK_oI",
        "outputId": "f3730b11-1867-4ec4-bcfc-6e3e8c57476a"
      },
      "execution_count": null,
      "outputs": [
        {
          "output_type": "execute_result",
          "data": {
            "text/plain": [
              "True"
            ]
          },
          "metadata": {},
          "execution_count": 32
        }
      ]
    },
    {
      "cell_type": "code",
      "source": [
        "listA = [1,2,3,4]\n",
        "tupleA = ('a','b','c','d')"
      ],
      "metadata": {
        "id": "vVcGT2uTLKCz"
      },
      "execution_count": null,
      "outputs": []
    },
    {
      "cell_type": "code",
      "source": [
        "1 in listA"
      ],
      "metadata": {
        "colab": {
          "base_uri": "https://localhost:8080/"
        },
        "id": "gF3X_9c8LvdD",
        "outputId": "f32d0bb9-df61-4c94-bb65-3ca20911044e"
      },
      "execution_count": null,
      "outputs": [
        {
          "output_type": "execute_result",
          "data": {
            "text/plain": [
              "True"
            ]
          },
          "metadata": {},
          "execution_count": 37
        }
      ]
    },
    {
      "cell_type": "code",
      "source": [
        "1 in tupleA"
      ],
      "metadata": {
        "colab": {
          "base_uri": "https://localhost:8080/"
        },
        "id": "QcHjGiBaLxX7",
        "outputId": "216bc56b-e209-429f-f1a9-5ee1b1aec9bc"
      },
      "execution_count": null,
      "outputs": [
        {
          "output_type": "execute_result",
          "data": {
            "text/plain": [
              "False"
            ]
          },
          "metadata": {},
          "execution_count": 35
        }
      ]
    },
    {
      "cell_type": "code",
      "source": [
        "dictA = {'Name':'John','Age':32}\n",
        "setA = {'Sushi','Salmon'}"
      ],
      "metadata": {
        "id": "PJizOz0sL0Kq"
      },
      "execution_count": null,
      "outputs": []
    },
    {
      "cell_type": "code",
      "source": [
        "'Name' in dictA"
      ],
      "metadata": {
        "colab": {
          "base_uri": "https://localhost:8080/"
        },
        "id": "Br44mZy4MOwD",
        "outputId": "1d0df307-59a8-40ee-fea1-0633b99d4d57"
      },
      "execution_count": null,
      "outputs": [
        {
          "output_type": "execute_result",
          "data": {
            "text/plain": [
              "True"
            ]
          },
          "metadata": {},
          "execution_count": 41
        }
      ]
    },
    {
      "cell_type": "code",
      "source": [
        "'Egg' in setA"
      ],
      "metadata": {
        "colab": {
          "base_uri": "https://localhost:8080/"
        },
        "id": "lur-gYbqMRCq",
        "outputId": "caeaca4f-863e-4fea-b8a9-35f88fb76fed"
      },
      "execution_count": null,
      "outputs": [
        {
          "output_type": "execute_result",
          "data": {
            "text/plain": [
              "False"
            ]
          },
          "metadata": {},
          "execution_count": 40
        }
      ]
    },
    {
      "cell_type": "code",
      "source": [
        "1 not in listA"
      ],
      "metadata": {
        "colab": {
          "base_uri": "https://localhost:8080/"
        },
        "id": "RL0stH9IMU6J",
        "outputId": "2e79afe2-17c3-4c5f-e17b-d305231aa8f9"
      },
      "execution_count": null,
      "outputs": [
        {
          "output_type": "execute_result",
          "data": {
            "text/plain": [
              "False"
            ]
          },
          "metadata": {},
          "execution_count": 42
        }
      ]
    },
    {
      "cell_type": "code",
      "source": [
        "1 not in tupleA"
      ],
      "metadata": {
        "colab": {
          "base_uri": "https://localhost:8080/"
        },
        "id": "D6ZBZ49IMo3a",
        "outputId": "cbb784c1-149d-445a-eb55-1501bb201daa"
      },
      "execution_count": null,
      "outputs": [
        {
          "output_type": "execute_result",
          "data": {
            "text/plain": [
              "True"
            ]
          },
          "metadata": {},
          "execution_count": 43
        }
      ]
    },
    {
      "cell_type": "code",
      "source": [
        "32%4"
      ],
      "metadata": {
        "colab": {
          "base_uri": "https://localhost:8080/"
        },
        "id": "0IZJaZbYMxIq",
        "outputId": "c8344dad-9c68-4afa-c203-c47b7051c2fa"
      },
      "execution_count": null,
      "outputs": [
        {
          "output_type": "execute_result",
          "data": {
            "text/plain": [
              "0"
            ]
          },
          "metadata": {},
          "execution_count": 19
        }
      ]
    },
    {
      "cell_type": "markdown",
      "source": [
        "# ทำโจทย์08"
      ],
      "metadata": {
        "id": "SMDQwbYlDkiM"
      }
    },
    {
      "cell_type": "code",
      "source": [
        "n = int(input())\n",
        "if n % 2 == 0:\n",
        "  print('เลขคู่')\n",
        "else:\n",
        "  print('เลขคี่')"
      ],
      "metadata": {
        "colab": {
          "base_uri": "https://localhost:8080/"
        },
        "id": "u-ojK3xIDsis",
        "outputId": "39dc1e49-c6bc-47e7-e31e-29ef067a781b"
      },
      "execution_count": null,
      "outputs": [
        {
          "output_type": "stream",
          "name": "stdout",
          "text": [
            "86\n",
            "เลขคู่\n"
          ]
        }
      ]
    },
    {
      "cell_type": "code",
      "source": [
        "n = float(input())\n",
        "if n > 0:\n",
        "  print('positive')\n",
        "elif n == 0:\n",
        "  print('zero')\n",
        "else:\n",
        "  print('negative')"
      ],
      "metadata": {
        "colab": {
          "base_uri": "https://localhost:8080/"
        },
        "id": "EI50Yu7UlQvh",
        "outputId": "e28e1f39-3bad-4220-c471-a9d14725d8b9"
      },
      "execution_count": null,
      "outputs": [
        {
          "output_type": "stream",
          "name": "stdout",
          "text": [
            "-9\n",
            "น้อยกว่า 0\n"
          ]
        }
      ]
    },
    {
      "cell_type": "code",
      "source": [
        "n = float(input())\n",
        "if n > 0:\n",
        "  if n % 2 == 0:\n",
        "    print('positive even')\n",
        "  else:\n",
        "    print('positive odd')\n",
        "elif n < 0:\n",
        "  if n % 2 == 0:\n",
        "    print('negative even')\n",
        "  else:\n",
        "    print('negative odd')\n",
        "else:\n",
        "  print('zero')"
      ],
      "metadata": {
        "colab": {
          "base_uri": "https://localhost:8080/"
        },
        "id": "jFb6PKo1MIVU",
        "outputId": "cb508396-96c8-4e5c-b6e2-ae8db0b2dc4c"
      },
      "execution_count": null,
      "outputs": [
        {
          "output_type": "stream",
          "name": "stdout",
          "text": [
            "0\n",
            "zero\n"
          ]
        }
      ]
    },
    {
      "cell_type": "code",
      "source": [
        "width = int(input())\n",
        "length = int(input())\n",
        "if width > 0 and length > 0:\n",
        "  print(width*length)\n",
        "else:\n",
        "  print('กรุณากรอกจำนวนเต็มบวก')"
      ],
      "metadata": {
        "colab": {
          "base_uri": "https://localhost:8080/"
        },
        "id": "LjUZ3Vf7AxCq",
        "outputId": "b53999f1-757d-429c-83dd-0abac5407048"
      },
      "execution_count": null,
      "outputs": [
        {
          "output_type": "stream",
          "name": "stdout",
          "text": [
            "20\n",
            "0\n",
            "กรุณากรอกจำนวนเต็มบวก\n"
          ]
        }
      ]
    },
    {
      "cell_type": "code",
      "source": [
        "year = int(input())\n",
        "if year >= 0:\n",
        "  print(year+543)\n",
        "else:\n",
        "  print('กรุณากรอกข้อมูลที่มากกว่าหรือเท่ากับ 0')"
      ],
      "metadata": {
        "colab": {
          "base_uri": "https://localhost:8080/"
        },
        "id": "_DAEV2CClLQI",
        "outputId": "24d9a86b-79c2-44de-9df7-632352c4fc61"
      },
      "execution_count": null,
      "outputs": [
        {
          "output_type": "stream",
          "name": "stdout",
          "text": [
            "2024\n",
            "2567\n"
          ]
        }
      ]
    },
    {
      "cell_type": "code",
      "source": [
        "temp = float(input())\n",
        "if temp >= 32:\n",
        "  c = (5 * (temp-32))/9\n",
        "  print(c)\n",
        "else:\n",
        "  print('cold')"
      ],
      "metadata": {
        "colab": {
          "base_uri": "https://localhost:8080/"
        },
        "id": "4wPqeIe-lvjA",
        "outputId": "1c371a6b-f08c-4159-cd06-b800d2625230"
      },
      "execution_count": null,
      "outputs": [
        {
          "output_type": "stream",
          "name": "stdout",
          "text": [
            "100\n",
            "37.77777777777778\n"
          ]
        }
      ]
    },
    {
      "cell_type": "code",
      "source": [
        "n = float(input('money(USD) : '))\n",
        "if n > 0:\n",
        "  print(n*32.5)\n",
        "else:\n",
        "  print('You don\\'t money')"
      ],
      "metadata": {
        "colab": {
          "base_uri": "https://localhost:8080/"
        },
        "id": "YpZk15Fj1sqF",
        "outputId": "a0e820c2-08ba-4649-b809-6a0a4d04a991"
      },
      "execution_count": null,
      "outputs": [
        {
          "output_type": "stream",
          "name": "stdout",
          "text": [
            "money(USD) : -9\n",
            "You don't money\n"
          ]
        }
      ]
    },
    {
      "cell_type": "code",
      "source": [
        "bath = float(input())\n",
        "if bath > 0:\n",
        "  usd = 32.80\n",
        "  bank = 0.3\n",
        "  num = bath/usd\n",
        "  profit = num*bank\n",
        "  print('จำนวน dollar ที่เเลกได้ =',num,',กำไรของธนาคาร =',profit)\n",
        "else:\n",
        "  print('you don\\'t have money')"
      ],
      "metadata": {
        "colab": {
          "base_uri": "https://localhost:8080/"
        },
        "id": "G1v39ZFT8ETX",
        "outputId": "c441e299-c81f-4071-9327-a9524cba0407"
      },
      "execution_count": null,
      "outputs": [
        {
          "output_type": "stream",
          "name": "stdout",
          "text": [
            "32800\n",
            "จำนวน dollar ที่เเลกได้ = 1000.0000000000001 ,กำไรของธนาคาร = 300.0\n"
          ]
        }
      ]
    },
    {
      "cell_type": "code",
      "source": [
        "num1 = float(input())\n",
        "num2 = float(input())\n",
        "if num1 > num2:\n",
        "  print(num1)\n",
        "elif num1 < num2:\n",
        "  print(num2)\n",
        "else:\n",
        "  print('มีค่าเท่ากัน')"
      ],
      "metadata": {
        "colab": {
          "base_uri": "https://localhost:8080/"
        },
        "id": "DLhLss9TTaVc",
        "outputId": "38e02fe2-4c5d-4ce5-905b-fbcf54a97d58"
      },
      "execution_count": null,
      "outputs": [
        {
          "output_type": "stream",
          "name": "stdout",
          "text": [
            "5.51\n",
            "5.50000009\n",
            "5.51\n"
          ]
        }
      ]
    },
    {
      "cell_type": "code",
      "source": [
        "str1 = input()\n",
        "str2 = input()\n",
        "if len(str1) == len(str2):\n",
        "  print('same')\n",
        "else:\n",
        "  print('not same')"
      ],
      "metadata": {
        "colab": {
          "base_uri": "https://localhost:8080/"
        },
        "id": "qKfaiTmaZPuY",
        "outputId": "cb020853-728e-4062-ec1d-8fb3c40d3596"
      },
      "execution_count": null,
      "outputs": [
        {
          "output_type": "stream",
          "name": "stdout",
          "text": [
            "hew \n",
            "jung\n",
            "same\n"
          ]
        }
      ]
    },
    {
      "cell_type": "code",
      "source": [
        "num = int(input())\n",
        "if num%3 == 0:\n",
        "  print('หารด้วย 3 ลงตัว')\n",
        "else:\n",
        "  print('หารด้วย 3 ไม่ลงตัว')"
      ],
      "metadata": {
        "colab": {
          "base_uri": "https://localhost:8080/"
        },
        "id": "1__7uhArvbsy",
        "outputId": "aa47b278-e5d8-4440-bc00-03635ab45dab"
      },
      "execution_count": null,
      "outputs": [
        {
          "output_type": "stream",
          "name": "stdout",
          "text": [
            "8\n",
            "หาร 3 ไม่ลงตัว\n"
          ]
        }
      ]
    },
    {
      "cell_type": "code",
      "source": [
        "num = int(input())\n",
        "if num%3 == 0 and num%5 == 0:\n",
        "  print('หารด้วย 3 เเละ 5 ลงตัว')\n",
        "else:\n",
        "  print('หารด้วย 3 เเละ 5 ไม่ลงตัว')"
      ],
      "metadata": {
        "colab": {
          "base_uri": "https://localhost:8080/"
        },
        "id": "v-Hnms3Nxiqp",
        "outputId": "19fa6db6-fa68-43d8-ade9-9d2e31d3819b"
      },
      "execution_count": null,
      "outputs": [
        {
          "output_type": "stream",
          "name": "stdout",
          "text": [
            "30\n",
            "หารด้วย 3 เเละ 5 ลงตัว\n"
          ]
        }
      ]
    },
    {
      "cell_type": "code",
      "source": [
        "num = int(input())\n",
        "if num%3 == 0 or num%5 == 0:\n",
        "  print('หารด้วย 3 หรือ 5 ลงตัว')\n",
        "else:\n",
        "  print('หารด้วย 3 หรือ 5 ไม่ลงตัว')"
      ],
      "metadata": {
        "colab": {
          "base_uri": "https://localhost:8080/"
        },
        "id": "ZeBfNlrLk6s8",
        "outputId": "0f75a7eb-5353-48ce-a4a1-6922e461ae10"
      },
      "execution_count": null,
      "outputs": [
        {
          "output_type": "stream",
          "name": "stdout",
          "text": [
            "4\n",
            "หารด้วย 3 หรือ 5 ไม่ลงตัว\n"
          ]
        }
      ]
    },
    {
      "cell_type": "code",
      "source": [
        "a = float(input())\n",
        "b = float(input())\n",
        "c = float(input())\n",
        "if a+b > c:\n",
        "  print('a + b > c')"
      ],
      "metadata": {
        "colab": {
          "base_uri": "https://localhost:8080/"
        },
        "id": "Y8ht-PyktlqE",
        "outputId": "a559fc0a-9ff2-4d1a-fd52-42519a71c3a5"
      },
      "execution_count": null,
      "outputs": [
        {
          "output_type": "stream",
          "name": "stdout",
          "text": [
            "3\n",
            "2\n",
            "1\n",
            "a + b > c\n"
          ]
        }
      ]
    },
    {
      "cell_type": "code",
      "source": [
        "hour = int(input())\n",
        "minute = int(input())\n",
        "if minute > 0:\n",
        "    hour+=1\n",
        "fee=(hour-1)*30\n",
        "print(fee,'บาท')"
      ],
      "metadata": {
        "colab": {
          "base_uri": "https://localhost:8080/"
        },
        "id": "r31jp3tL1QN0",
        "outputId": "46c62ac8-2e65-4e7d-ee68-b270cefffe02"
      },
      "execution_count": null,
      "outputs": [
        {
          "output_type": "stream",
          "name": "stdout",
          "text": [
            "0\n",
            "0\n",
            "-30 บาท\n"
          ]
        }
      ]
    },
    {
      "cell_type": "code",
      "source": [
        "hour = int(input())\n",
        "minute = int(input())\n",
        "if minute < 0 or hour < 0:\n",
        "  print('โปรดใส่ข้อมูลที่ไม่ติดลบ')\n",
        "else:\n",
        "  if minute > 0:\n",
        "    hour +=1\n",
        "  fee = (hour-1)*30\n",
        "  print(fee,'บาท')"
      ],
      "metadata": {
        "colab": {
          "base_uri": "https://localhost:8080/"
        },
        "id": "clq4KLbgVM69",
        "outputId": "37b8cc5f-3f9e-4c51-a8f0-87b59960a037"
      },
      "execution_count": null,
      "outputs": [
        {
          "output_type": "stream",
          "name": "stdout",
          "text": [
            "0\n",
            "-0\n",
            "-30 บาท\n"
          ]
        }
      ]
    },
    {
      "cell_type": "code",
      "source": [
        "bill = int(input('bill : '))\n",
        "hour = int(input('hour : '))\n",
        "minute = int(input('minute : '))\n",
        "if minute > 0:\n",
        "  hour+=1\n",
        "if bill >= 1_000:\n",
        "  fee = (hour-4)*30\n",
        "else:\n",
        "  fee = (hour-1)*30\n",
        "if fee < 0:\n",
        "  fee = 0\n",
        "print(fee,'บาท')"
      ],
      "metadata": {
        "colab": {
          "base_uri": "https://localhost:8080/"
        },
        "id": "Yse98cO8m6S1",
        "outputId": "42986333-6fad-4463-cd04-2b5c9ce36b35"
      },
      "execution_count": null,
      "outputs": [
        {
          "output_type": "stream",
          "name": "stdout",
          "text": [
            "bill : 5000\n",
            "hour : 2\n",
            "minute : 1\n",
            "0 บาท\n"
          ]
        }
      ]
    },
    {
      "cell_type": "code",
      "source": [
        "bill = float(input())\n",
        "if bill >= 50_000:\n",
        "  discount = bill*(20/100)\n",
        "elif bill >= 10_000:\n",
        "  discount = bill*(15/100)\n",
        "elif bill >= 1_000:\n",
        "  discount = bill*(10/100)\n",
        "else:\n",
        "  discount=0\n",
        "print(bill-discount)"
      ],
      "metadata": {
        "colab": {
          "base_uri": "https://localhost:8080/"
        },
        "id": "D6M7zaPMyOlL",
        "outputId": "a1494edf-7e22-4b4a-a52f-b8b012b99bb8"
      },
      "execution_count": null,
      "outputs": [
        {
          "output_type": "stream",
          "name": "stdout",
          "text": [
            "100\n",
            "100.0\n"
          ]
        }
      ]
    },
    {
      "cell_type": "code",
      "source": [
        "gender = input()\n",
        "weight = float(input('น้ำหนัก (กิโลกรัม) :'))\n",
        "height = int(input('ส่วนสูง (เซนติเมตร) :'))\n",
        "if gender == 'เพศชาย':\n",
        "  if weight > height-100:\n",
        "    print('ควรออกกำลังกาย')\n",
        "  else:\n",
        "    print('คุณผู้ชายหุ่นดีเยี่ยม')\n",
        "elif gender == 'เพศหญิง':\n",
        "  if weight > height-110:\n",
        "    print('ควรออกกำลังกาย')\n",
        "  else:\n",
        "    print('คุณผู้หญิงหุ่นดีเยี่ยม')"
      ],
      "metadata": {
        "colab": {
          "base_uri": "https://localhost:8080/"
        },
        "id": "HjqzODzDwCFX",
        "outputId": "449c5763-b705-41a7-8b10-c7164740f447"
      },
      "execution_count": null,
      "outputs": [
        {
          "name": "stdout",
          "output_type": "stream",
          "text": [
            "fdd\n",
            "น้ำหนัก (กิโลกรัม) :342\n",
            "ส่วนสูง (เซนติเมตร) :23\n"
          ]
        }
      ]
    },
    {
      "cell_type": "code",
      "source": [
        "velocity = float(input('ความเร็ว (km/hr) : '))\n",
        "if velocity > 120:\n",
        "  print('ออกใบสั่ง')"
      ],
      "metadata": {
        "colab": {
          "base_uri": "https://localhost:8080/"
        },
        "id": "E7JahA5s8l4j",
        "outputId": "79794ee3-f4ae-4e26-8ece-3ed2119079e3"
      },
      "execution_count": null,
      "outputs": [
        {
          "name": "stdout",
          "output_type": "stream",
          "text": [
            "ความเร็ว (km/hr) : 90\n"
          ]
        }
      ]
    },
    {
      "cell_type": "code",
      "source": [
        "velocity = float(input('ความเร็ว (km/hr) : '))\n",
        "if velocity > 120:\n",
        "  print('ปรับ 1,000')\n",
        "elif velocity > 80:\n",
        "  print('ปรับ 500')"
      ],
      "metadata": {
        "colab": {
          "base_uri": "https://localhost:8080/"
        },
        "id": "sklk36I4X2hp",
        "outputId": "cdb15133-fe16-455f-9db0-91935ea7f637"
      },
      "execution_count": null,
      "outputs": [
        {
          "name": "stdout",
          "output_type": "stream",
          "text": [
            "ความเร็ว (km/hr) : 79\n"
          ]
        }
      ]
    },
    {
      "cell_type": "code",
      "source": [
        "listen_time = float(input('จำนวนชั่วโมงที่ฟังเพลง : '))\n",
        "if listen_time > 4:\n",
        "  print('อันตรายต่อหู')\n",
        "else:\n",
        "  print('ขอให้มีความสุขกับการฟังเพลง')"
      ],
      "metadata": {
        "colab": {
          "base_uri": "https://localhost:8080/"
        },
        "id": "JPAKUJmIZfi0",
        "outputId": "4d0f33d6-f7bd-46db-a73e-b7b302d67248"
      },
      "execution_count": null,
      "outputs": [
        {
          "output_type": "stream",
          "name": "stdout",
          "text": [
            "จำนวนชั่วโมงที่ฟังเพลง : 5\n",
            "อันตรายต่อหู\n"
          ]
        }
      ]
    },
    {
      "cell_type": "code",
      "source": [
        "status = input()\n",
        "distance = float(input())\n",
        "if status == 'คล่องตัว':\n",
        "  pay = distance*10\n",
        "  print(pay,'บาท')\n",
        "elif status == 'ปานกลาง':\n",
        "  pay = distance*12\n",
        "  print(pay,'บาท')\n",
        "elif status == 'หนาเเน่น':\n",
        "  pay = distance*15\n",
        "  print(pay,'บาท')"
      ],
      "metadata": {
        "colab": {
          "base_uri": "https://localhost:8080/"
        },
        "id": "0nzPRiKka6Nn",
        "outputId": "cdd8c704-b77e-4527-c01e-5af49aeab468"
      },
      "execution_count": null,
      "outputs": [
        {
          "name": "stdout",
          "output_type": "stream",
          "text": [
            "dfs\n",
            "0\n"
          ]
        }
      ]
    },
    {
      "cell_type": "code",
      "source": [
        "score = int(input('give me your score : '))\n",
        "if score >= 50:\n",
        "  print('Pass')\n",
        "else:\n",
        "  print('Fail')"
      ],
      "metadata": {
        "colab": {
          "base_uri": "https://localhost:8080/"
        },
        "id": "47qENNAfJpyu",
        "outputId": "04c01939-ecb6-447c-c87f-a447b06e74dd"
      },
      "execution_count": null,
      "outputs": [
        {
          "output_type": "stream",
          "name": "stdout",
          "text": [
            "give me your score : 7\n",
            "Fail\n"
          ]
        }
      ]
    },
    {
      "cell_type": "code",
      "source": [
        "score = int(input('คะเเนนสอบ : '))\n",
        "if score >= 80:\n",
        "  print('A')\n",
        "elif score >= 70:\n",
        "  print('B')\n",
        "elif score >= 60:\n",
        "  print('C')\n",
        "elif score >= 50:\n",
        "  print('D')\n",
        "else:\n",
        "  print('Fp')"
      ],
      "metadata": {
        "colab": {
          "base_uri": "https://localhost:8080/"
        },
        "id": "dqBG3JDnLW3x",
        "outputId": "239ac321-e5af-4326-979c-28c947c98be0"
      },
      "execution_count": null,
      "outputs": [
        {
          "output_type": "stream",
          "name": "stdout",
          "text": [
            "คะเเนนสอบ : 32\n",
            "F\n"
          ]
        }
      ]
    },
    {
      "cell_type": "code",
      "source": [
        "isMember = input()\n",
        "bill = float(input())\n",
        "if isMember == 'yes':\n",
        "  if bill >= 5_000:\n",
        "    discount = bill*(15/100)\n",
        "  elif bill >= 1_000:\n",
        "    discount = bill*(10/100)\n",
        "  elif bill >= 500:\n",
        "    discount = bill*(5/100)\n",
        "  else:\n",
        "    discount = 0\n",
        "elif isMember == 'no':\n",
        "  discount = 0\n",
        "print(discount,'บาท')"
      ],
      "metadata": {
        "colab": {
          "base_uri": "https://localhost:8080/"
        },
        "id": "EqVzgY-4JLGH",
        "outputId": "6e7f4573-7571-4b7b-e522-0baac63c5c81"
      },
      "execution_count": null,
      "outputs": [
        {
          "output_type": "stream",
          "name": "stdout",
          "text": [
            "no\n",
            "10000\n",
            "0 บาท\n"
          ]
        }
      ]
    },
    {
      "cell_type": "code",
      "source": [
        "currency = input()\n",
        "amount = float(input())\n",
        "if currency == 'USD':\n",
        "  THB = amount*32.5\n",
        "  print(THB)\n",
        "elif currency == 'JPY':\n",
        "  THB = amount*0.29\n",
        "  print(THB)"
      ],
      "metadata": {
        "colab": {
          "base_uri": "https://localhost:8080/"
        },
        "id": "ciP4ojBdtONC",
        "outputId": "16f6826b-5edd-4c60-92d0-8ff0a924d716"
      },
      "execution_count": null,
      "outputs": [
        {
          "name": "stdout",
          "output_type": "stream",
          "text": [
            "dollar\n",
            "55\n"
          ]
        }
      ]
    },
    {
      "cell_type": "code",
      "source": [
        "order = input()\n",
        "amount = int(input())\n",
        "if order == 'ไข่ดาว':\n",
        "  pay = amount*7\n",
        "  print(pay,'บาท')\n",
        "elif order == 'ไข่เจียว':\n",
        "  pay = amount*10\n",
        "  print(pay,'บาท')\n",
        "elif order == 'ไข่ต้ม':\n",
        "  pay = amount*5\n",
        "  print(pay,'บาท')\n",
        "else:\n",
        "  print('ร้านเรามีไข่ดาว ไข่เจียว ไข่ต้ม')"
      ],
      "metadata": {
        "colab": {
          "base_uri": "https://localhost:8080/"
        },
        "id": "EaDA_BT3FiHm",
        "outputId": "eccfcbde-f632-4f7e-bc3b-b87a68565037"
      },
      "execution_count": null,
      "outputs": [
        {
          "output_type": "stream",
          "name": "stdout",
          "text": [
            "ไข่ต้ม\n",
            "10\n",
            "50\n"
          ]
        }
      ]
    },
    {
      "cell_type": "code",
      "source": [
        "order = input()\n",
        "if order == 'ไข่ดาว':\n",
        "  print('เเนะนำให้สั่งคู่กับต้มจืดไข่น้ำ')\n",
        "elif order == 'ไข่เจียว':\n",
        "  print('เเนะนำให้สั่งคู่กับไข่ลูกเขย')\n",
        "elif order == 'ไข่ต้ม':\n",
        "  print('เเนะนำให้สั่งคู่กับยำไข่ดาว')\n",
        "else:\n",
        "  print('ร้านเรามีไข่ดาว ไข่เจียว ไข่ต้ม')"
      ],
      "metadata": {
        "id": "P5xOrqnWOmkH"
      },
      "execution_count": null,
      "outputs": []
    },
    {
      "cell_type": "markdown",
      "source": [
        "# เรียนเนื้อหา09"
      ],
      "metadata": {
        "id": "QTrSMXN1Y_iZ"
      }
    },
    {
      "cell_type": "code",
      "source": [
        "for i in range(5):\n",
        "  print(i)"
      ],
      "metadata": {
        "colab": {
          "base_uri": "https://localhost:8080/"
        },
        "id": "zWyxdVFnY8z4",
        "outputId": "794f41e7-30c0-4493-9693-13d65e958109"
      },
      "execution_count": null,
      "outputs": [
        {
          "output_type": "stream",
          "name": "stdout",
          "text": [
            "0\n",
            "1\n",
            "2\n",
            "3\n",
            "4\n"
          ]
        }
      ]
    },
    {
      "cell_type": "code",
      "source": [
        "for i in range(5,11):\n",
        "  print(i)"
      ],
      "metadata": {
        "colab": {
          "base_uri": "https://localhost:8080/"
        },
        "id": "VUDEPUEX1gTD",
        "outputId": "9d6132ee-999c-426a-8cf0-bfb2fb67838f"
      },
      "execution_count": null,
      "outputs": [
        {
          "output_type": "stream",
          "name": "stdout",
          "text": [
            "5\n",
            "6\n",
            "7\n",
            "8\n",
            "9\n",
            "10\n"
          ]
        }
      ]
    },
    {
      "cell_type": "code",
      "source": [
        "for i in range(10,20,2):\n",
        "  print(i)"
      ],
      "metadata": {
        "colab": {
          "base_uri": "https://localhost:8080/"
        },
        "id": "vyzosfVd10fe",
        "outputId": "df85f4c2-a8ad-49dc-f18b-a2e6adfb9174"
      },
      "execution_count": null,
      "outputs": [
        {
          "output_type": "stream",
          "name": "stdout",
          "text": [
            "10\n",
            "12\n",
            "14\n",
            "16\n",
            "18\n"
          ]
        }
      ]
    },
    {
      "cell_type": "code",
      "source": [
        "char = 'Python'\n",
        "n = len(char)\n",
        "for i in range(n):\n",
        "  print(char[i])"
      ],
      "metadata": {
        "colab": {
          "base_uri": "https://localhost:8080/"
        },
        "id": "5_Y15spU2O1M",
        "outputId": "82806508-dee0-46bb-e1c0-aa19505f82a8"
      },
      "execution_count": null,
      "outputs": [
        {
          "output_type": "stream",
          "name": "stdout",
          "text": [
            "P\n",
            "y\n",
            "t\n",
            "h\n",
            "o\n",
            "n\n"
          ]
        }
      ]
    },
    {
      "cell_type": "code",
      "source": [
        "char = 'Python'\n",
        "for i in range(len(char)):\n",
        "  print(char[i])"
      ],
      "metadata": {
        "colab": {
          "base_uri": "https://localhost:8080/"
        },
        "id": "Uqjbf1Vu24JY",
        "outputId": "96e1a86b-e4f9-4165-a73d-6b910a4aa8b1"
      },
      "execution_count": null,
      "outputs": [
        {
          "output_type": "stream",
          "name": "stdout",
          "text": [
            "P\n",
            "y\n",
            "t\n",
            "h\n",
            "o\n",
            "n\n"
          ]
        }
      ]
    },
    {
      "cell_type": "code",
      "source": [
        "char = 'Python'\n",
        "for c in char:\n",
        "  print(c)"
      ],
      "metadata": {
        "colab": {
          "base_uri": "https://localhost:8080/"
        },
        "id": "S0S9pUFe3Jfd",
        "outputId": "dec33793-c4d4-4b99-dd23-9892d8511f93"
      },
      "execution_count": null,
      "outputs": [
        {
          "output_type": "stream",
          "name": "stdout",
          "text": [
            "P\n",
            "y\n",
            "t\n",
            "h\n",
            "o\n",
            "n\n"
          ]
        }
      ]
    },
    {
      "cell_type": "code",
      "source": [
        "char = 'Python'\n",
        "for i,c in enumerate(char):\n",
        "  print(i,c)"
      ],
      "metadata": {
        "colab": {
          "base_uri": "https://localhost:8080/"
        },
        "id": "I31EfFPr3emc",
        "outputId": "9e455e9c-7cbc-4d2a-c9d6-c2fd7e591584"
      },
      "execution_count": null,
      "outputs": [
        {
          "output_type": "stream",
          "name": "stdout",
          "text": [
            "0 P\n",
            "1 y\n",
            "2 t\n",
            "3 h\n",
            "4 o\n",
            "5 n\n"
          ]
        }
      ]
    },
    {
      "cell_type": "code",
      "source": [
        "listx = ['a','b','c','d','e']\n",
        "n = len(listx)\n",
        "for i in range(n):\n",
        "  print(listx[i])"
      ],
      "metadata": {
        "colab": {
          "base_uri": "https://localhost:8080/"
        },
        "id": "yVEi9BTjZYCj",
        "outputId": "8cd07aff-a7a7-4d6e-aaaa-654510c5f237"
      },
      "execution_count": null,
      "outputs": [
        {
          "output_type": "stream",
          "name": "stdout",
          "text": [
            "a\n",
            "b\n",
            "c\n",
            "d\n",
            "e\n"
          ]
        }
      ]
    },
    {
      "cell_type": "code",
      "source": [
        "listx = ['a','b','c','d','e']\n",
        "for i in range(len(listx)):\n",
        "  print(listx[i])"
      ],
      "metadata": {
        "colab": {
          "base_uri": "https://localhost:8080/"
        },
        "id": "BfUVVpP2c990",
        "outputId": "0061e266-6a15-4913-c9a3-853f51bae02f"
      },
      "execution_count": null,
      "outputs": [
        {
          "output_type": "stream",
          "name": "stdout",
          "text": [
            "a\n",
            "b\n",
            "c\n",
            "d\n",
            "e\n"
          ]
        }
      ]
    },
    {
      "cell_type": "code",
      "source": [
        "listx = ['a','b','c','d','e']\n",
        "for x in listx:\n",
        "  print(x)"
      ],
      "metadata": {
        "colab": {
          "base_uri": "https://localhost:8080/"
        },
        "id": "Z84wvRBSdjD1",
        "outputId": "80f88786-39a8-4562-e1f5-c9a817dec1f3"
      },
      "execution_count": null,
      "outputs": [
        {
          "output_type": "stream",
          "name": "stdout",
          "text": [
            "a\n",
            "b\n",
            "c\n",
            "d\n",
            "e\n"
          ]
        }
      ]
    },
    {
      "cell_type": "code",
      "source": [
        "listx = ['a','b','c','d','e']\n",
        "for i,c in enumerate(listx):\n",
        "  print(i,c)"
      ],
      "metadata": {
        "colab": {
          "base_uri": "https://localhost:8080/"
        },
        "id": "YgJ9PZzvdxYL",
        "outputId": "65e4308b-2998-4634-e6ac-201be50245dc"
      },
      "execution_count": null,
      "outputs": [
        {
          "output_type": "stream",
          "name": "stdout",
          "text": [
            "0 a\n",
            "1 b\n",
            "2 c\n",
            "3 d\n",
            "4 e\n"
          ]
        }
      ]
    },
    {
      "cell_type": "code",
      "source": [
        "tuplex = ('a','b','c','d','e')\n",
        "n = len(tuplex)\n",
        "for i in range(n):\n",
        "  print(tuplex[i])"
      ],
      "metadata": {
        "colab": {
          "base_uri": "https://localhost:8080/"
        },
        "id": "40APzn6CeDGb",
        "outputId": "d0de8934-b860-4fc1-9d53-b394b993740f"
      },
      "execution_count": null,
      "outputs": [
        {
          "output_type": "stream",
          "name": "stdout",
          "text": [
            "a\n",
            "b\n",
            "c\n",
            "d\n",
            "e\n"
          ]
        }
      ]
    },
    {
      "cell_type": "code",
      "source": [
        "tuplex = ('a','b','c','d','e')\n",
        "for i in range(len(tuplex)):\n",
        "  print(tuplex[i])"
      ],
      "metadata": {
        "colab": {
          "base_uri": "https://localhost:8080/"
        },
        "id": "9k2qQpuOefxJ",
        "outputId": "cebbbed7-e860-4daf-c978-8d981765620c"
      },
      "execution_count": null,
      "outputs": [
        {
          "output_type": "stream",
          "name": "stdout",
          "text": [
            "a\n",
            "b\n",
            "c\n",
            "d\n",
            "e\n"
          ]
        }
      ]
    },
    {
      "cell_type": "code",
      "source": [
        "tuplex = ('a','b','c','d','e')\n",
        "for x in tuplex:\n",
        "  print(x)"
      ],
      "metadata": {
        "colab": {
          "base_uri": "https://localhost:8080/"
        },
        "id": "ZMjjRetretHb",
        "outputId": "44040adf-7cae-44a5-99c5-3202c0f1d950"
      },
      "execution_count": null,
      "outputs": [
        {
          "output_type": "stream",
          "name": "stdout",
          "text": [
            "a\n",
            "b\n",
            "c\n",
            "d\n",
            "e\n"
          ]
        }
      ]
    },
    {
      "cell_type": "code",
      "source": [
        "tuplex = ('a','b','c','d','e')\n",
        "for i,c in enumerate(tuplex):\n",
        "  print(i,c)"
      ],
      "metadata": {
        "colab": {
          "base_uri": "https://localhost:8080/"
        },
        "id": "FvQYGmxefKS7",
        "outputId": "5be289ff-01d3-4201-b43e-dc3ce27eb0c8"
      },
      "execution_count": null,
      "outputs": [
        {
          "output_type": "stream",
          "name": "stdout",
          "text": [
            "0 a\n",
            "1 b\n",
            "2 c\n",
            "3 d\n",
            "4 e\n"
          ]
        }
      ]
    },
    {
      "cell_type": "code",
      "source": [
        "dictx = {'firstname' : 'John','lastname' : 'Doe','age' : 32}\n",
        "for keys in dictx:\n",
        "  print(keys)"
      ],
      "metadata": {
        "colab": {
          "base_uri": "https://localhost:8080/"
        },
        "id": "HJiHIToRgvGK",
        "outputId": "1971b989-875d-4f79-987f-4eb125e8b8e3"
      },
      "execution_count": null,
      "outputs": [
        {
          "output_type": "stream",
          "name": "stdout",
          "text": [
            "firstname\n",
            "lastname\n",
            "age\n"
          ]
        }
      ]
    },
    {
      "cell_type": "code",
      "source": [
        "dictx = {'firstname' : 'John','lastname' : 'Doe','age' : 32}\n",
        "for key in dictx.keys():\n",
        "  print(key)"
      ],
      "metadata": {
        "colab": {
          "base_uri": "https://localhost:8080/"
        },
        "id": "DQrEDKEMhGgS",
        "outputId": "5d04c3e4-4ad6-4275-de4b-5dfbed347652"
      },
      "execution_count": null,
      "outputs": [
        {
          "output_type": "stream",
          "name": "stdout",
          "text": [
            "firstname\n",
            "lastname\n",
            "age\n"
          ]
        }
      ]
    },
    {
      "cell_type": "code",
      "source": [
        "dictx = {'firstname' : 'John','lastname' : 'Doe','age' : 32}\n",
        "for value in dictx.values():\n",
        "  print(value)"
      ],
      "metadata": {
        "colab": {
          "base_uri": "https://localhost:8080/"
        },
        "id": "1wzQ1rB4h9H7",
        "outputId": "c950ec6f-c42d-42ef-ff1a-cab3a76119e6"
      },
      "execution_count": null,
      "outputs": [
        {
          "output_type": "stream",
          "name": "stdout",
          "text": [
            "John\n",
            "Doe\n",
            "32\n"
          ]
        }
      ]
    },
    {
      "cell_type": "code",
      "source": [
        "setx = {1,2,3,'a','b','c'}\n",
        "for x in setx:\n",
        "  print(x)"
      ],
      "metadata": {
        "colab": {
          "base_uri": "https://localhost:8080/"
        },
        "id": "NN9wqy2iiVxS",
        "outputId": "c88e8b34-321e-434d-a039-a8477f5ce308"
      },
      "execution_count": null,
      "outputs": [
        {
          "output_type": "stream",
          "name": "stdout",
          "text": [
            "1\n",
            "2\n",
            "3\n",
            "a\n",
            "c\n",
            "b\n"
          ]
        }
      ]
    },
    {
      "cell_type": "code",
      "source": [
        "i = 1\n",
        "while i <= 5:\n",
        "  print(i)\n",
        "  i+=1"
      ],
      "metadata": {
        "colab": {
          "base_uri": "https://localhost:8080/"
        },
        "id": "5S1g_cR2kb5f",
        "outputId": "8f9238fd-fe3d-44da-a64e-28cb6bbba48f"
      },
      "execution_count": null,
      "outputs": [
        {
          "output_type": "stream",
          "name": "stdout",
          "text": [
            "1\n",
            "2\n",
            "3\n",
            "4\n",
            "5\n"
          ]
        }
      ]
    },
    {
      "cell_type": "code",
      "source": [
        "i = 5\n",
        "while i <= 15:\n",
        "  print(i)\n",
        "  i+=2"
      ],
      "metadata": {
        "colab": {
          "base_uri": "https://localhost:8080/"
        },
        "id": "BYdhkMIelXZO",
        "outputId": "25723f9d-cae2-4573-b40f-c4c5c83bae55"
      },
      "execution_count": null,
      "outputs": [
        {
          "output_type": "stream",
          "name": "stdout",
          "text": [
            "5\n",
            "7\n",
            "9\n",
            "11\n",
            "13\n",
            "15\n"
          ]
        }
      ]
    },
    {
      "cell_type": "code",
      "source": [
        "i = 0\n",
        "while True:\n",
        "  print(i)\n",
        "  if i == 5:\n",
        "    break\n",
        "  i+=1"
      ],
      "metadata": {
        "colab": {
          "base_uri": "https://localhost:8080/"
        },
        "id": "CWhtj2MYl6sP",
        "outputId": "cbcbbdbe-5cdf-4541-f3fb-3a460325f15a"
      },
      "execution_count": null,
      "outputs": [
        {
          "output_type": "stream",
          "name": "stdout",
          "text": [
            "0\n",
            "1\n",
            "2\n",
            "3\n",
            "4\n",
            "5\n"
          ]
        }
      ]
    },
    {
      "cell_type": "code",
      "source": [
        "for i in range(100000):\n",
        "  print(i)\n",
        "  if i == 5:\n",
        "    break\n",
        "  i+=1"
      ],
      "metadata": {
        "colab": {
          "base_uri": "https://localhost:8080/"
        },
        "id": "Jz6ae8pxuIAp",
        "outputId": "f907d67e-d038-452e-dcc2-7674187d4ea8"
      },
      "execution_count": null,
      "outputs": [
        {
          "output_type": "stream",
          "name": "stdout",
          "text": [
            "0\n",
            "1\n",
            "2\n",
            "3\n",
            "4\n",
            "5\n"
          ]
        }
      ]
    },
    {
      "cell_type": "code",
      "source": [
        "for i in range(10):\n",
        "  if i % 2 == 0:\n",
        "    continue\n",
        "    print('hello')\n",
        "  else:\n",
        "    print(i)"
      ],
      "metadata": {
        "colab": {
          "base_uri": "https://localhost:8080/"
        },
        "id": "mIsh828iuWoq",
        "outputId": "280fc7c3-25fd-48db-beb7-63116774131b"
      },
      "execution_count": null,
      "outputs": [
        {
          "output_type": "stream",
          "name": "stdout",
          "text": [
            "1\n",
            "3\n",
            "5\n",
            "7\n",
            "9\n"
          ]
        }
      ]
    },
    {
      "cell_type": "code",
      "source": [
        "for i in range(10):\n",
        "  if i % 2 == 0:\n",
        "    pass\n",
        "    print('hello world')\n",
        "  else:\n",
        "    print(i)"
      ],
      "metadata": {
        "colab": {
          "base_uri": "https://localhost:8080/"
        },
        "id": "hwqj7wt64oVR",
        "outputId": "f0f9f203-da08-4588-adfd-94a7790f7f99"
      },
      "execution_count": null,
      "outputs": [
        {
          "output_type": "stream",
          "name": "stdout",
          "text": [
            "hello world\n",
            "1\n",
            "hello world\n",
            "3\n",
            "hello world\n",
            "5\n",
            "hello world\n",
            "7\n",
            "hello world\n",
            "9\n"
          ]
        }
      ]
    },
    {
      "cell_type": "markdown",
      "source": [
        "# ทำโจทย์10"
      ],
      "metadata": {
        "id": "gvVf88LHufwI"
      }
    },
    {
      "cell_type": "code",
      "source": [
        "for i in range(11):\n",
        "  print(i)"
      ],
      "metadata": {
        "colab": {
          "base_uri": "https://localhost:8080/"
        },
        "id": "9DiNzopqufSj",
        "outputId": "809a5a25-0102-4bf1-e661-4576cb2ebba7"
      },
      "execution_count": null,
      "outputs": [
        {
          "output_type": "stream",
          "name": "stdout",
          "text": [
            "0\n",
            "1\n",
            "2\n",
            "3\n",
            "4\n",
            "5\n",
            "6\n",
            "7\n",
            "8\n",
            "9\n",
            "10\n"
          ]
        }
      ]
    },
    {
      "cell_type": "code",
      "source": [
        "i = 0\n",
        "while i <= 10:\n",
        "  print(i)\n",
        "  i+=1"
      ],
      "metadata": {
        "colab": {
          "base_uri": "https://localhost:8080/"
        },
        "id": "LQH1FbcoCddI",
        "outputId": "acce8b77-db36-472f-a64b-7e119cca5b6b"
      },
      "execution_count": null,
      "outputs": [
        {
          "output_type": "stream",
          "name": "stdout",
          "text": [
            "0\n",
            "1\n",
            "2\n",
            "3\n",
            "4\n",
            "5\n",
            "6\n",
            "7\n",
            "8\n",
            "9\n",
            "10\n"
          ]
        }
      ]
    },
    {
      "cell_type": "code",
      "source": [
        "for i in range(3,14):\n",
        "  print(i)"
      ],
      "metadata": {
        "colab": {
          "base_uri": "https://localhost:8080/"
        },
        "id": "e2I05NNo9uMy",
        "outputId": "8f964477-765d-42ab-f32e-1971e00b3d58"
      },
      "execution_count": null,
      "outputs": [
        {
          "output_type": "stream",
          "name": "stdout",
          "text": [
            "3\n",
            "4\n",
            "5\n",
            "6\n",
            "7\n",
            "8\n",
            "9\n",
            "10\n",
            "11\n",
            "12\n",
            "13\n"
          ]
        }
      ]
    },
    {
      "cell_type": "code",
      "source": [
        "i = 3\n",
        "while i <= 13:\n",
        "  print(i)\n",
        "  i+=1"
      ],
      "metadata": {
        "colab": {
          "base_uri": "https://localhost:8080/"
        },
        "id": "txbhmjGvDUBz",
        "outputId": "722a589c-60d1-4689-e2f7-d56a79b66fc6"
      },
      "execution_count": null,
      "outputs": [
        {
          "output_type": "stream",
          "name": "stdout",
          "text": [
            "3\n",
            "4\n",
            "5\n",
            "6\n",
            "7\n",
            "8\n",
            "9\n",
            "10\n",
            "11\n",
            "12\n",
            "13\n"
          ]
        }
      ]
    },
    {
      "cell_type": "code",
      "source": [
        "for i in range(1,11):\n",
        "  print(i)"
      ],
      "metadata": {
        "colab": {
          "base_uri": "https://localhost:8080/"
        },
        "id": "ajAKTaQW91cV",
        "outputId": "30f3813a-d10f-48ef-cac9-3b3d1e3ccb6d"
      },
      "execution_count": null,
      "outputs": [
        {
          "output_type": "stream",
          "name": "stdout",
          "text": [
            "1\n",
            "2\n",
            "3\n",
            "4\n",
            "5\n",
            "6\n",
            "7\n",
            "8\n",
            "9\n",
            "10\n"
          ]
        }
      ]
    },
    {
      "cell_type": "code",
      "source": [
        "i = 1\n",
        "while i<=10:\n",
        "  print(i)\n",
        "  i+=1"
      ],
      "metadata": {
        "colab": {
          "base_uri": "https://localhost:8080/"
        },
        "id": "9M2s-auQCxl4",
        "outputId": "2adb73b9-a73a-4cde-85de-2a8da86e3a9c"
      },
      "execution_count": null,
      "outputs": [
        {
          "output_type": "stream",
          "name": "stdout",
          "text": [
            "1\n",
            "2\n",
            "3\n",
            "4\n",
            "5\n",
            "6\n",
            "7\n",
            "8\n",
            "9\n",
            "10\n"
          ]
        }
      ]
    },
    {
      "cell_type": "code",
      "source": [
        "for i in range(-3,5):\n",
        "  print(i)"
      ],
      "metadata": {
        "colab": {
          "base_uri": "https://localhost:8080/"
        },
        "id": "x4PUWR1R_FSD",
        "outputId": "64faea69-d241-4eaf-9e50-b33e5717922d"
      },
      "execution_count": null,
      "outputs": [
        {
          "output_type": "stream",
          "name": "stdout",
          "text": [
            "-3\n",
            "-2\n",
            "-1\n",
            "0\n",
            "1\n",
            "2\n",
            "3\n",
            "4\n"
          ]
        }
      ]
    },
    {
      "cell_type": "code",
      "source": [
        "i = -3\n",
        "while i<=4:\n",
        "  print(i)\n",
        "  i+=1"
      ],
      "metadata": {
        "colab": {
          "base_uri": "https://localhost:8080/"
        },
        "id": "37MkrAq6Dl79",
        "outputId": "99754f17-f2d3-4460-fb72-6e742b0bc8cc"
      },
      "execution_count": null,
      "outputs": [
        {
          "output_type": "stream",
          "name": "stdout",
          "text": [
            "-3\n",
            "-2\n",
            "-1\n",
            "0\n",
            "1\n",
            "2\n",
            "3\n",
            "4\n"
          ]
        }
      ]
    },
    {
      "cell_type": "code",
      "source": [
        "for i in range(-6,1):\n",
        "  print(i)"
      ],
      "metadata": {
        "colab": {
          "base_uri": "https://localhost:8080/"
        },
        "id": "hHR5GzohFnhu",
        "outputId": "40e0ddb2-8ca9-4313-9a15-16ff5d33cfae"
      },
      "execution_count": null,
      "outputs": [
        {
          "output_type": "stream",
          "name": "stdout",
          "text": [
            "-6\n",
            "-5\n",
            "-4\n",
            "-3\n",
            "-2\n",
            "-1\n",
            "0\n"
          ]
        }
      ]
    },
    {
      "cell_type": "code",
      "source": [
        "i = -6\n",
        "while i<=0:\n",
        "  print(i)\n",
        "  i+=1"
      ],
      "metadata": {
        "colab": {
          "base_uri": "https://localhost:8080/"
        },
        "id": "u5H8KUnDGIYR",
        "outputId": "dd50027a-db8e-47d7-f14b-c9dc36c334e7"
      },
      "execution_count": null,
      "outputs": [
        {
          "output_type": "stream",
          "name": "stdout",
          "text": [
            "-6\n",
            "-5\n",
            "-4\n",
            "-3\n",
            "-2\n",
            "-1\n",
            "0\n"
          ]
        }
      ]
    },
    {
      "cell_type": "code",
      "source": [
        "for i in range(-14,-6):\n",
        "  print(i)"
      ],
      "metadata": {
        "colab": {
          "base_uri": "https://localhost:8080/"
        },
        "id": "Zf-6H-xaGmRM",
        "outputId": "cb8ef884-896b-4e00-90ad-5a3361044d1c"
      },
      "execution_count": null,
      "outputs": [
        {
          "output_type": "stream",
          "name": "stdout",
          "text": [
            "-14\n",
            "-13\n",
            "-12\n",
            "-11\n",
            "-10\n",
            "-9\n",
            "-8\n",
            "-7\n"
          ]
        }
      ]
    },
    {
      "cell_type": "code",
      "source": [
        "i = -14\n",
        "while i <= -7:\n",
        "  print(i)\n",
        "  i+=1"
      ],
      "metadata": {
        "colab": {
          "base_uri": "https://localhost:8080/"
        },
        "id": "4sXaIs35G3PC",
        "outputId": "dfff5d14-56e9-479e-dd42-27b5bad945c4"
      },
      "execution_count": null,
      "outputs": [
        {
          "output_type": "stream",
          "name": "stdout",
          "text": [
            "-14\n",
            "-13\n",
            "-12\n",
            "-11\n",
            "-10\n",
            "-9\n",
            "-8\n",
            "-7\n"
          ]
        }
      ]
    },
    {
      "cell_type": "code",
      "source": [
        "for i in range(-14,-6):\n",
        "  print(i)"
      ],
      "metadata": {
        "colab": {
          "base_uri": "https://localhost:8080/"
        },
        "id": "KFFWXOLZHJQE",
        "outputId": "e3ac4d3b-2934-4005-d6af-40bdd05284bb"
      },
      "execution_count": null,
      "outputs": [
        {
          "output_type": "stream",
          "name": "stdout",
          "text": [
            "-14\n",
            "-13\n",
            "-12\n",
            "-11\n",
            "-10\n",
            "-9\n",
            "-8\n",
            "-7\n"
          ]
        }
      ]
    },
    {
      "cell_type": "code",
      "source": [
        "i = -14\n",
        "while i <= -7:\n",
        "  print(i)\n",
        "  i+=1"
      ],
      "metadata": {
        "colab": {
          "base_uri": "https://localhost:8080/"
        },
        "id": "wFFaeQFNHYZ4",
        "outputId": "f99567b5-1641-428f-dfd1-619c448ad1e2"
      },
      "execution_count": null,
      "outputs": [
        {
          "output_type": "stream",
          "name": "stdout",
          "text": [
            "-14\n",
            "-13\n",
            "-12\n",
            "-11\n",
            "-10\n",
            "-9\n",
            "-8\n",
            "-7\n"
          ]
        }
      ]
    },
    {
      "cell_type": "code",
      "source": [
        "for i in range(0,13,2):\n",
        "  print(i)"
      ],
      "metadata": {
        "colab": {
          "base_uri": "https://localhost:8080/"
        },
        "id": "Q46hMZHkHkmz",
        "outputId": "e259c217-01de-4949-9e2d-3917a57dd14c"
      },
      "execution_count": null,
      "outputs": [
        {
          "output_type": "stream",
          "name": "stdout",
          "text": [
            "0\n",
            "2\n",
            "4\n",
            "6\n",
            "8\n",
            "10\n",
            "12\n"
          ]
        }
      ]
    },
    {
      "cell_type": "code",
      "source": [
        "i = 0\n",
        "while i <= 12:\n",
        "  print(i)\n",
        "  i+=2"
      ],
      "metadata": {
        "colab": {
          "base_uri": "https://localhost:8080/"
        },
        "id": "hxIYOItxNWNZ",
        "outputId": "020d3b99-25ba-43d6-9b3b-10681cc15ffe"
      },
      "execution_count": null,
      "outputs": [
        {
          "output_type": "stream",
          "name": "stdout",
          "text": [
            "0\n",
            "2\n",
            "4\n",
            "6\n",
            "8\n",
            "10\n",
            "12\n"
          ]
        }
      ]
    },
    {
      "cell_type": "code",
      "source": [
        "for i in range(11):\n",
        "  print(i)"
      ],
      "metadata": {
        "colab": {
          "base_uri": "https://localhost:8080/"
        },
        "id": "fzq51S70Huei",
        "outputId": "2e2dd027-a6d9-42ad-8207-efcba9a76df1"
      },
      "execution_count": null,
      "outputs": [
        {
          "output_type": "stream",
          "name": "stdout",
          "text": [
            "0\n",
            "1\n",
            "2\n",
            "3\n",
            "4\n",
            "5\n",
            "6\n",
            "7\n",
            "8\n",
            "9\n",
            "10\n"
          ]
        }
      ]
    },
    {
      "cell_type": "code",
      "source": [
        "i = 0\n",
        "while i<=10:\n",
        "  print(i)\n",
        "  i+=1"
      ],
      "metadata": {
        "colab": {
          "base_uri": "https://localhost:8080/"
        },
        "id": "tcrJGHD6IAge",
        "outputId": "b1abc652-f173-4380-825a-3f3c39943235"
      },
      "execution_count": null,
      "outputs": [
        {
          "output_type": "stream",
          "name": "stdout",
          "text": [
            "0\n",
            "1\n",
            "2\n",
            "3\n",
            "4\n",
            "5\n",
            "6\n",
            "7\n",
            "8\n",
            "9\n",
            "10\n"
          ]
        }
      ]
    },
    {
      "cell_type": "code",
      "source": [
        "for i in range(6,16,3):\n",
        "  print(i)"
      ],
      "metadata": {
        "colab": {
          "base_uri": "https://localhost:8080/"
        },
        "id": "lYE-QWRuIJiZ",
        "outputId": "4bfc5fa4-5e76-4049-9687-ec17b19c01b7"
      },
      "execution_count": null,
      "outputs": [
        {
          "output_type": "stream",
          "name": "stdout",
          "text": [
            "6\n",
            "9\n",
            "12\n",
            "15\n"
          ]
        }
      ]
    },
    {
      "cell_type": "code",
      "source": [
        "i = 6\n",
        "while i <= 15:\n",
        "  print(i)\n",
        "  i+=3"
      ],
      "metadata": {
        "colab": {
          "base_uri": "https://localhost:8080/"
        },
        "id": "uBAVh6kNIZqh",
        "outputId": "ea8cae3d-06dc-4537-8e62-5ef991f1980d"
      },
      "execution_count": null,
      "outputs": [
        {
          "output_type": "stream",
          "name": "stdout",
          "text": [
            "6\n",
            "9\n",
            "12\n",
            "15\n"
          ]
        }
      ]
    },
    {
      "cell_type": "code",
      "source": [
        "for i in range(-16,5,4):\n",
        "  print(i)"
      ],
      "metadata": {
        "colab": {
          "base_uri": "https://localhost:8080/"
        },
        "id": "Bs41Iw4MIyqf",
        "outputId": "5efb3e41-4981-4b58-f1f9-94f918885b46"
      },
      "execution_count": null,
      "outputs": [
        {
          "output_type": "stream",
          "name": "stdout",
          "text": [
            "-16\n",
            "-12\n",
            "-8\n",
            "-4\n",
            "0\n",
            "4\n"
          ]
        }
      ]
    },
    {
      "cell_type": "code",
      "source": [
        "i = -16\n",
        "while i <= 4:\n",
        "  print(i)\n",
        "  i+=4"
      ],
      "metadata": {
        "colab": {
          "base_uri": "https://localhost:8080/"
        },
        "id": "Xt0FxN4bI8lA",
        "outputId": "212c78dd-d0b2-435d-9f1c-fdfbe6784fb4"
      },
      "execution_count": null,
      "outputs": [
        {
          "output_type": "stream",
          "name": "stdout",
          "text": [
            "-16\n",
            "-12\n",
            "-8\n",
            "-4\n",
            "0\n",
            "4\n"
          ]
        }
      ]
    },
    {
      "cell_type": "code",
      "source": [
        "for i in range(7,3,-1):\n",
        "  print(i)"
      ],
      "metadata": {
        "colab": {
          "base_uri": "https://localhost:8080/"
        },
        "id": "YDpbs0D5JirG",
        "outputId": "ee1159b6-46eb-4a53-8f13-77864b603521"
      },
      "execution_count": null,
      "outputs": [
        {
          "output_type": "stream",
          "name": "stdout",
          "text": [
            "7\n",
            "6\n",
            "5\n",
            "4\n"
          ]
        }
      ]
    },
    {
      "cell_type": "code",
      "source": [
        "i = 7\n",
        "while i >= 4:\n",
        "  print(i)\n",
        "  i-=1"
      ],
      "metadata": {
        "colab": {
          "base_uri": "https://localhost:8080/"
        },
        "id": "9Wj17owMJ4pG",
        "outputId": "c5ce9cac-44a3-4631-c9a8-bbb667419083"
      },
      "execution_count": null,
      "outputs": [
        {
          "output_type": "stream",
          "name": "stdout",
          "text": [
            "7\n",
            "6\n",
            "5\n",
            "4\n"
          ]
        }
      ]
    },
    {
      "cell_type": "code",
      "source": [
        "for i in range(8,-1,-1):\n",
        "  print(i)"
      ],
      "metadata": {
        "colab": {
          "base_uri": "https://localhost:8080/"
        },
        "id": "GYGO8gzLJ_kW",
        "outputId": "d8c32f45-af9e-4bcb-f7be-fe3e5b87e940"
      },
      "execution_count": null,
      "outputs": [
        {
          "output_type": "stream",
          "name": "stdout",
          "text": [
            "8\n",
            "7\n",
            "6\n",
            "5\n",
            "4\n",
            "3\n",
            "2\n",
            "1\n",
            "0\n"
          ]
        }
      ]
    },
    {
      "cell_type": "code",
      "source": [
        "i = 8\n",
        "while i >= 0:\n",
        "  print(i)\n",
        "  i-=1"
      ],
      "metadata": {
        "colab": {
          "base_uri": "https://localhost:8080/"
        },
        "id": "Ul3R3EJBKYPP",
        "outputId": "38653a82-3479-4706-e1e8-d8db6560fdcc"
      },
      "execution_count": null,
      "outputs": [
        {
          "output_type": "stream",
          "name": "stdout",
          "text": [
            "8\n",
            "7\n",
            "6\n",
            "5\n",
            "4\n",
            "3\n",
            "2\n",
            "1\n",
            "0\n"
          ]
        }
      ]
    },
    {
      "cell_type": "code",
      "source": [
        "for i in range(8,-2,-1):\n",
        "  print(i)"
      ],
      "metadata": {
        "colab": {
          "base_uri": "https://localhost:8080/"
        },
        "id": "3ZUCPtaOKmhz",
        "outputId": "585f34f8-8c4f-4204-8b95-ca1f820f8f2e"
      },
      "execution_count": null,
      "outputs": [
        {
          "output_type": "stream",
          "name": "stdout",
          "text": [
            "8\n",
            "7\n",
            "6\n",
            "5\n",
            "4\n",
            "3\n",
            "2\n",
            "1\n",
            "0\n",
            "-1\n"
          ]
        }
      ]
    },
    {
      "cell_type": "code",
      "source": [
        "i = 8\n",
        "while i >= -1:\n",
        "  print(i)\n",
        "  i-=1"
      ],
      "metadata": {
        "colab": {
          "base_uri": "https://localhost:8080/"
        },
        "id": "ARXDfC1-KuoF",
        "outputId": "0dd916a1-43bd-40f7-b8e9-ebbc68d96d68"
      },
      "execution_count": null,
      "outputs": [
        {
          "output_type": "stream",
          "name": "stdout",
          "text": [
            "8\n",
            "7\n",
            "6\n",
            "5\n",
            "4\n",
            "3\n",
            "2\n",
            "1\n",
            "0\n",
            "-1\n"
          ]
        }
      ]
    },
    {
      "cell_type": "code",
      "source": [
        "for i in range(-2,-9,-1):\n",
        "  print(i)"
      ],
      "metadata": {
        "colab": {
          "base_uri": "https://localhost:8080/"
        },
        "id": "Kxr2o-pzK9Mk",
        "outputId": "2d8b7fa3-d38d-4c24-c883-cb4da41bfc34"
      },
      "execution_count": null,
      "outputs": [
        {
          "output_type": "stream",
          "name": "stdout",
          "text": [
            "-2\n",
            "-3\n",
            "-4\n",
            "-5\n",
            "-6\n",
            "-7\n",
            "-8\n"
          ]
        }
      ]
    },
    {
      "cell_type": "code",
      "source": [
        "i = -2\n",
        "while i >= -8:\n",
        "  print(i)\n",
        "  i-=1"
      ],
      "metadata": {
        "colab": {
          "base_uri": "https://localhost:8080/"
        },
        "id": "WPbkeO5jLVVY",
        "outputId": "e2531fc4-5c34-4208-fa46-d05b1bb97678"
      },
      "execution_count": null,
      "outputs": [
        {
          "output_type": "stream",
          "name": "stdout",
          "text": [
            "-2\n",
            "-3\n",
            "-4\n",
            "-5\n",
            "-6\n",
            "-7\n",
            "-8\n"
          ]
        }
      ]
    },
    {
      "cell_type": "code",
      "source": [
        "for i in range(12,-4,-3):\n",
        "  print(i)"
      ],
      "metadata": {
        "colab": {
          "base_uri": "https://localhost:8080/"
        },
        "id": "yc3Bh_wrLa0f",
        "outputId": "1ea17a16-3d04-4a11-cd3e-0e0b1c4fbd70"
      },
      "execution_count": null,
      "outputs": [
        {
          "output_type": "stream",
          "name": "stdout",
          "text": [
            "12\n",
            "9\n",
            "6\n",
            "3\n",
            "0\n",
            "-3\n"
          ]
        }
      ]
    },
    {
      "cell_type": "code",
      "source": [
        "i = 12\n",
        "while i>=-3:\n",
        "  print(i)\n",
        "  i-=3"
      ],
      "metadata": {
        "colab": {
          "base_uri": "https://localhost:8080/"
        },
        "id": "hdTYn0UsMIpE",
        "outputId": "248e10a3-a20b-497b-82cb-e719104e2610"
      },
      "execution_count": null,
      "outputs": [
        {
          "output_type": "stream",
          "name": "stdout",
          "text": [
            "12\n",
            "9\n",
            "6\n",
            "3\n",
            "0\n",
            "-3\n"
          ]
        }
      ]
    },
    {
      "cell_type": "code",
      "source": [
        "for i in range(20,-4,-5):\n",
        "  print(i)"
      ],
      "metadata": {
        "colab": {
          "base_uri": "https://localhost:8080/"
        },
        "id": "cu0oP0tvMoLt",
        "outputId": "d0680372-bd32-476a-9b4c-50f73e7460ae"
      },
      "execution_count": null,
      "outputs": [
        {
          "output_type": "stream",
          "name": "stdout",
          "text": [
            "20\n",
            "15\n",
            "10\n",
            "5\n",
            "0\n"
          ]
        }
      ]
    },
    {
      "cell_type": "code",
      "source": [
        "i = 20\n",
        "while i >= -3:\n",
        "  print(i)\n",
        "  i-=5"
      ],
      "metadata": {
        "colab": {
          "base_uri": "https://localhost:8080/"
        },
        "id": "7eJiDoucOZ5Z",
        "outputId": "ace0795b-a5cd-4c41-e656-db49e34799da"
      },
      "execution_count": null,
      "outputs": [
        {
          "output_type": "stream",
          "name": "stdout",
          "text": [
            "20\n",
            "15\n",
            "10\n",
            "5\n",
            "0\n"
          ]
        }
      ]
    },
    {
      "cell_type": "code",
      "source": [
        "for i in range(-5,5,2):\n",
        "  for j in range(2,12,3):\n",
        "    print(i,j)"
      ],
      "metadata": {
        "colab": {
          "base_uri": "https://localhost:8080/"
        },
        "id": "iaKTBl0xPMkE",
        "outputId": "1776c25e-4d4e-4ce0-cc75-9f645dc69e24"
      },
      "execution_count": null,
      "outputs": [
        {
          "output_type": "stream",
          "name": "stdout",
          "text": [
            "-5 2\n",
            "-5 5\n",
            "-5 8\n",
            "-5 11\n",
            "-3 2\n",
            "-3 5\n",
            "-3 8\n",
            "-3 11\n",
            "-1 2\n",
            "-1 5\n",
            "-1 8\n",
            "-1 11\n",
            "1 2\n",
            "1 5\n",
            "1 8\n",
            "1 11\n",
            "3 2\n",
            "3 5\n",
            "3 8\n",
            "3 11\n"
          ]
        }
      ]
    },
    {
      "cell_type": "code",
      "source": [
        "i = -5\n",
        "while i <= 4:\n",
        "  j = 2\n",
        "  while j <= 11:\n",
        "    print(i,j)\n",
        "    j+=3\n",
        "  i+=2"
      ],
      "metadata": {
        "colab": {
          "base_uri": "https://localhost:8080/"
        },
        "id": "igm3XDI9PMed",
        "outputId": "573f8d76-e8be-4b72-b37a-1e1bfc04b3cd"
      },
      "execution_count": null,
      "outputs": [
        {
          "output_type": "stream",
          "name": "stdout",
          "text": [
            "-5 2\n",
            "-5 5\n",
            "-5 8\n",
            "-5 11\n",
            "-3 2\n",
            "-3 5\n",
            "-3 8\n",
            "-3 11\n",
            "-1 2\n",
            "-1 5\n",
            "-1 8\n",
            "-1 11\n",
            "1 2\n",
            "1 5\n",
            "1 8\n",
            "1 11\n",
            "3 2\n",
            "3 5\n",
            "3 8\n",
            "3 11\n"
          ]
        }
      ]
    },
    {
      "cell_type": "code",
      "source": [
        "for i in range(0,6,1):\n",
        "  for j in range(4,-7,-1):\n",
        "    print(i,j)"
      ],
      "metadata": {
        "colab": {
          "base_uri": "https://localhost:8080/"
        },
        "id": "XX5NfbcIQ0N_",
        "outputId": "52d579aa-c670-4188-9961-68afb05c9839"
      },
      "execution_count": null,
      "outputs": [
        {
          "output_type": "stream",
          "name": "stdout",
          "text": [
            "0 4\n",
            "0 3\n",
            "0 2\n",
            "0 1\n",
            "0 0\n",
            "0 -1\n",
            "0 -2\n",
            "0 -3\n",
            "0 -4\n",
            "0 -5\n",
            "0 -6\n",
            "1 4\n",
            "1 3\n",
            "1 2\n",
            "1 1\n",
            "1 0\n",
            "1 -1\n",
            "1 -2\n",
            "1 -3\n",
            "1 -4\n",
            "1 -5\n",
            "1 -6\n",
            "2 4\n",
            "2 3\n",
            "2 2\n",
            "2 1\n",
            "2 0\n",
            "2 -1\n",
            "2 -2\n",
            "2 -3\n",
            "2 -4\n",
            "2 -5\n",
            "2 -6\n",
            "3 4\n",
            "3 3\n",
            "3 2\n",
            "3 1\n",
            "3 0\n",
            "3 -1\n",
            "3 -2\n",
            "3 -3\n",
            "3 -4\n",
            "3 -5\n",
            "3 -6\n",
            "4 4\n",
            "4 3\n",
            "4 2\n",
            "4 1\n",
            "4 0\n",
            "4 -1\n",
            "4 -2\n",
            "4 -3\n",
            "4 -4\n",
            "4 -5\n",
            "4 -6\n",
            "5 4\n",
            "5 3\n",
            "5 2\n",
            "5 1\n",
            "5 0\n",
            "5 -1\n",
            "5 -2\n",
            "5 -3\n",
            "5 -4\n",
            "5 -5\n",
            "5 -6\n"
          ]
        }
      ]
    },
    {
      "cell_type": "code",
      "source": [
        "i = 0\n",
        "while i <= 5:\n",
        "  j = 4\n",
        "  while j >= -6:\n",
        "    print(i,j)\n",
        "    j-=1\n",
        "  i+=1"
      ],
      "metadata": {
        "colab": {
          "base_uri": "https://localhost:8080/"
        },
        "id": "ORnecobARR3t",
        "outputId": "c104de87-40ff-4b32-e309-5ea2e61e6877"
      },
      "execution_count": null,
      "outputs": [
        {
          "output_type": "stream",
          "name": "stdout",
          "text": [
            "0 4\n",
            "0 3\n",
            "0 2\n",
            "0 1\n",
            "0 0\n",
            "0 -1\n",
            "0 -2\n",
            "0 -3\n",
            "0 -4\n",
            "0 -5\n",
            "0 -6\n",
            "1 4\n",
            "1 3\n",
            "1 2\n",
            "1 1\n",
            "1 0\n",
            "1 -1\n",
            "1 -2\n",
            "1 -3\n",
            "1 -4\n",
            "1 -5\n",
            "1 -6\n",
            "2 4\n",
            "2 3\n",
            "2 2\n",
            "2 1\n",
            "2 0\n",
            "2 -1\n",
            "2 -2\n",
            "2 -3\n",
            "2 -4\n",
            "2 -5\n",
            "2 -6\n",
            "3 4\n",
            "3 3\n",
            "3 2\n",
            "3 1\n",
            "3 0\n",
            "3 -1\n",
            "3 -2\n",
            "3 -3\n",
            "3 -4\n",
            "3 -5\n",
            "3 -6\n",
            "4 4\n",
            "4 3\n",
            "4 2\n",
            "4 1\n",
            "4 0\n",
            "4 -1\n",
            "4 -2\n",
            "4 -3\n",
            "4 -4\n",
            "4 -5\n",
            "4 -6\n",
            "5 4\n",
            "5 3\n",
            "5 2\n",
            "5 1\n",
            "5 0\n",
            "5 -1\n",
            "5 -2\n",
            "5 -3\n",
            "5 -4\n",
            "5 -5\n",
            "5 -6\n"
          ]
        }
      ]
    },
    {
      "cell_type": "code",
      "source": [
        "for i in range(11,-1,-2):\n",
        "  for j in range(-7,1,1):\n",
        "    print(i,j)"
      ],
      "metadata": {
        "colab": {
          "base_uri": "https://localhost:8080/"
        },
        "id": "3atQB2hZSGXm",
        "outputId": "0e8c7a23-38c9-42ba-9a84-0d010eba3bad"
      },
      "execution_count": null,
      "outputs": [
        {
          "output_type": "stream",
          "name": "stdout",
          "text": [
            "11 -7\n",
            "11 -6\n",
            "11 -5\n",
            "11 -4\n",
            "11 -3\n",
            "11 -2\n",
            "11 -1\n",
            "11 0\n",
            "9 -7\n",
            "9 -6\n",
            "9 -5\n",
            "9 -4\n",
            "9 -3\n",
            "9 -2\n",
            "9 -1\n",
            "9 0\n",
            "7 -7\n",
            "7 -6\n",
            "7 -5\n",
            "7 -4\n",
            "7 -3\n",
            "7 -2\n",
            "7 -1\n",
            "7 0\n",
            "5 -7\n",
            "5 -6\n",
            "5 -5\n",
            "5 -4\n",
            "5 -3\n",
            "5 -2\n",
            "5 -1\n",
            "5 0\n",
            "3 -7\n",
            "3 -6\n",
            "3 -5\n",
            "3 -4\n",
            "3 -3\n",
            "3 -2\n",
            "3 -1\n",
            "3 0\n",
            "1 -7\n",
            "1 -6\n",
            "1 -5\n",
            "1 -4\n",
            "1 -3\n",
            "1 -2\n",
            "1 -1\n",
            "1 0\n"
          ]
        }
      ]
    },
    {
      "cell_type": "code",
      "source": [
        "i = 11\n",
        "while i >= 0:\n",
        "  j = -7\n",
        "  while j <= 0:\n",
        "    print(i,j)\n",
        "    j+=1\n",
        "  i-=2"
      ],
      "metadata": {
        "colab": {
          "base_uri": "https://localhost:8080/"
        },
        "id": "JeC-iZQdStoo",
        "outputId": "5848684b-7d7e-4769-bf9e-6eb57c2c3b01"
      },
      "execution_count": null,
      "outputs": [
        {
          "output_type": "stream",
          "name": "stdout",
          "text": [
            "11 -7\n",
            "11 -6\n",
            "11 -5\n",
            "11 -4\n",
            "11 -3\n",
            "11 -2\n",
            "11 -1\n",
            "11 0\n",
            "9 -7\n",
            "9 -6\n",
            "9 -5\n",
            "9 -4\n",
            "9 -3\n",
            "9 -2\n",
            "9 -1\n",
            "9 0\n",
            "7 -7\n",
            "7 -6\n",
            "7 -5\n",
            "7 -4\n",
            "7 -3\n",
            "7 -2\n",
            "7 -1\n",
            "7 0\n",
            "5 -7\n",
            "5 -6\n",
            "5 -5\n",
            "5 -4\n",
            "5 -3\n",
            "5 -2\n",
            "5 -1\n",
            "5 0\n",
            "3 -7\n",
            "3 -6\n",
            "3 -5\n",
            "3 -4\n",
            "3 -3\n",
            "3 -2\n",
            "3 -1\n",
            "3 0\n",
            "1 -7\n",
            "1 -6\n",
            "1 -5\n",
            "1 -4\n",
            "1 -3\n",
            "1 -2\n",
            "1 -1\n",
            "1 0\n"
          ]
        }
      ]
    },
    {
      "cell_type": "code",
      "source": [
        "for i in range(14,7,-1):\n",
        "  for j in range(5,-4,-1):\n",
        "    print(i,j)"
      ],
      "metadata": {
        "colab": {
          "base_uri": "https://localhost:8080/"
        },
        "id": "4w72h-4RTkNh",
        "outputId": "39798579-19f7-4e44-cd3d-ecdf503f6f83"
      },
      "execution_count": null,
      "outputs": [
        {
          "output_type": "stream",
          "name": "stdout",
          "text": [
            "14 5\n",
            "14 4\n",
            "14 3\n",
            "14 2\n",
            "14 1\n",
            "14 0\n",
            "14 -1\n",
            "14 -2\n",
            "14 -3\n",
            "13 5\n",
            "13 4\n",
            "13 3\n",
            "13 2\n",
            "13 1\n",
            "13 0\n",
            "13 -1\n",
            "13 -2\n",
            "13 -3\n",
            "12 5\n",
            "12 4\n",
            "12 3\n",
            "12 2\n",
            "12 1\n",
            "12 0\n",
            "12 -1\n",
            "12 -2\n",
            "12 -3\n",
            "11 5\n",
            "11 4\n",
            "11 3\n",
            "11 2\n",
            "11 1\n",
            "11 0\n",
            "11 -1\n",
            "11 -2\n",
            "11 -3\n",
            "10 5\n",
            "10 4\n",
            "10 3\n",
            "10 2\n",
            "10 1\n",
            "10 0\n",
            "10 -1\n",
            "10 -2\n",
            "10 -3\n",
            "9 5\n",
            "9 4\n",
            "9 3\n",
            "9 2\n",
            "9 1\n",
            "9 0\n",
            "9 -1\n",
            "9 -2\n",
            "9 -3\n",
            "8 5\n",
            "8 4\n",
            "8 3\n",
            "8 2\n",
            "8 1\n",
            "8 0\n",
            "8 -1\n",
            "8 -2\n",
            "8 -3\n"
          ]
        }
      ]
    },
    {
      "cell_type": "code",
      "source": [
        "i = 14\n",
        "while i >= 8:\n",
        "  j = 5\n",
        "  while j >= -3:\n",
        "    print(i,j)\n",
        "    j-=1\n",
        "  i-=1"
      ],
      "metadata": {
        "colab": {
          "base_uri": "https://localhost:8080/"
        },
        "id": "g3-sOJX8Ux8k",
        "outputId": "b40d82f0-6bf7-4da5-b90d-cec03ed3df74"
      },
      "execution_count": null,
      "outputs": [
        {
          "output_type": "stream",
          "name": "stdout",
          "text": [
            "14 5\n",
            "14 4\n",
            "14 3\n",
            "14 2\n",
            "14 1\n",
            "14 0\n",
            "14 -1\n",
            "14 -2\n",
            "14 -3\n",
            "13 5\n",
            "13 4\n",
            "13 3\n",
            "13 2\n",
            "13 1\n",
            "13 0\n",
            "13 -1\n",
            "13 -2\n",
            "13 -3\n",
            "12 5\n",
            "12 4\n",
            "12 3\n",
            "12 2\n",
            "12 1\n",
            "12 0\n",
            "12 -1\n",
            "12 -2\n",
            "12 -3\n",
            "11 5\n",
            "11 4\n",
            "11 3\n",
            "11 2\n",
            "11 1\n",
            "11 0\n",
            "11 -1\n",
            "11 -2\n",
            "11 -3\n",
            "10 5\n",
            "10 4\n",
            "10 3\n",
            "10 2\n",
            "10 1\n",
            "10 0\n",
            "10 -1\n",
            "10 -2\n",
            "10 -3\n",
            "9 5\n",
            "9 4\n",
            "9 3\n",
            "9 2\n",
            "9 1\n",
            "9 0\n",
            "9 -1\n",
            "9 -2\n",
            "9 -3\n",
            "8 5\n",
            "8 4\n",
            "8 3\n",
            "8 2\n",
            "8 1\n",
            "8 0\n",
            "8 -1\n",
            "8 -2\n",
            "8 -3\n"
          ]
        }
      ]
    },
    {
      "cell_type": "code",
      "source": [
        "'''\n",
        ">= ใช้ -1\n",
        "<= ใช้ +1\n",
        "'''"
      ],
      "metadata": {
        "id": "8ZABH8ydXWV_"
      },
      "execution_count": null,
      "outputs": []
    },
    {
      "cell_type": "markdown",
      "source": [
        "# ทำโจทย์11"
      ],
      "metadata": {
        "id": "jRZsVGoUviRL"
      }
    },
    {
      "cell_type": "code",
      "source": [
        "for i in range(20):\n",
        "  print(i)"
      ],
      "metadata": {
        "colab": {
          "base_uri": "https://localhost:8080/"
        },
        "id": "wNkIoBlVvmB3",
        "outputId": "434a560b-cd31-48a9-f002-ab5af06e2beb"
      },
      "execution_count": null,
      "outputs": [
        {
          "output_type": "stream",
          "name": "stdout",
          "text": [
            "0\n",
            "1\n",
            "2\n",
            "3\n",
            "4\n",
            "5\n",
            "6\n",
            "7\n",
            "8\n",
            "9\n",
            "10\n",
            "11\n",
            "12\n",
            "13\n",
            "14\n",
            "15\n",
            "16\n",
            "17\n",
            "18\n",
            "19\n"
          ]
        }
      ]
    },
    {
      "cell_type": "code",
      "source": [
        "i = 0\n",
        "while i <= 19:\n",
        "  print(i)\n",
        "  i+=1"
      ],
      "metadata": {
        "colab": {
          "base_uri": "https://localhost:8080/"
        },
        "id": "7LanlUXdv1EQ",
        "outputId": "9c013c59-a5d3-4f19-aa4d-ca234fae654b"
      },
      "execution_count": null,
      "outputs": [
        {
          "output_type": "stream",
          "name": "stdout",
          "text": [
            "0\n",
            "1\n",
            "2\n",
            "3\n",
            "4\n",
            "5\n",
            "6\n",
            "7\n",
            "8\n",
            "9\n",
            "10\n",
            "11\n",
            "12\n",
            "13\n",
            "14\n",
            "15\n",
            "16\n",
            "17\n",
            "18\n",
            "19\n"
          ]
        }
      ]
    },
    {
      "cell_type": "code",
      "source": [
        "for i in range(0,19,2):\n",
        "  print(i)"
      ],
      "metadata": {
        "colab": {
          "base_uri": "https://localhost:8080/"
        },
        "id": "hxQbZY5ow1U1",
        "outputId": "55f0862d-1bf3-4228-b060-1b6106ba2a8a"
      },
      "execution_count": null,
      "outputs": [
        {
          "output_type": "stream",
          "name": "stdout",
          "text": [
            "0\n",
            "2\n",
            "4\n",
            "6\n",
            "8\n",
            "10\n",
            "12\n",
            "14\n",
            "16\n",
            "18\n"
          ]
        }
      ]
    },
    {
      "cell_type": "code",
      "source": [
        "i = 0\n",
        "while i <= 18:\n",
        "  print(i)\n",
        "  i+=2"
      ],
      "metadata": {
        "colab": {
          "base_uri": "https://localhost:8080/"
        },
        "id": "oZEHHKFXxQVy",
        "outputId": "0823affb-47b7-4702-f5db-7b636a74754e"
      },
      "execution_count": null,
      "outputs": [
        {
          "output_type": "stream",
          "name": "stdout",
          "text": [
            "0\n",
            "2\n",
            "4\n",
            "6\n",
            "8\n",
            "10\n",
            "12\n",
            "14\n",
            "16\n",
            "18\n"
          ]
        }
      ]
    },
    {
      "cell_type": "code",
      "source": [
        "for i in range(1,20,2):\n",
        "  print(i)"
      ],
      "metadata": {
        "colab": {
          "base_uri": "https://localhost:8080/"
        },
        "id": "GdOCd9m_xZBf",
        "outputId": "05e7f13e-892d-4cfc-fad6-3b6e3f9fe2de"
      },
      "execution_count": null,
      "outputs": [
        {
          "output_type": "stream",
          "name": "stdout",
          "text": [
            "1\n",
            "3\n",
            "5\n",
            "7\n",
            "9\n",
            "11\n",
            "13\n",
            "15\n",
            "17\n",
            "19\n"
          ]
        }
      ]
    },
    {
      "cell_type": "code",
      "source": [
        "i = 1\n",
        "while i <= 19:\n",
        "  print(i)\n",
        "  i+=2"
      ],
      "metadata": {
        "colab": {
          "base_uri": "https://localhost:8080/"
        },
        "id": "a4swj9Yfxovi",
        "outputId": "1c62a69f-d686-4247-8b77-b8dbc51a7751"
      },
      "execution_count": null,
      "outputs": [
        {
          "output_type": "stream",
          "name": "stdout",
          "text": [
            "1\n",
            "3\n",
            "5\n",
            "7\n",
            "9\n",
            "11\n",
            "13\n",
            "15\n",
            "17\n",
            "19\n"
          ]
        }
      ]
    },
    {
      "cell_type": "code",
      "source": [
        "for i in range(19,-1,-1):\n",
        "  print(i)"
      ],
      "metadata": {
        "colab": {
          "base_uri": "https://localhost:8080/"
        },
        "id": "t0MTUkhbxvc5",
        "outputId": "dbb0a121-2135-4584-b1b9-bca233e739f5"
      },
      "execution_count": null,
      "outputs": [
        {
          "output_type": "stream",
          "name": "stdout",
          "text": [
            "19\n",
            "18\n",
            "17\n",
            "16\n",
            "15\n",
            "14\n",
            "13\n",
            "12\n",
            "11\n",
            "10\n",
            "9\n",
            "8\n",
            "7\n",
            "6\n",
            "5\n",
            "4\n",
            "3\n",
            "2\n",
            "1\n",
            "0\n"
          ]
        }
      ]
    },
    {
      "cell_type": "code",
      "source": [
        "i = 19\n",
        "while i >= 0:\n",
        "  print(i)\n",
        "  i-=1"
      ],
      "metadata": {
        "colab": {
          "base_uri": "https://localhost:8080/"
        },
        "id": "tLdq_bWxyAAz",
        "outputId": "d5c9c8b0-7dc9-4ee8-f5c5-7bd1b4e7129b"
      },
      "execution_count": null,
      "outputs": [
        {
          "output_type": "stream",
          "name": "stdout",
          "text": [
            "19\n",
            "18\n",
            "17\n",
            "16\n",
            "15\n",
            "14\n",
            "13\n",
            "12\n",
            "11\n",
            "10\n",
            "9\n",
            "8\n",
            "7\n",
            "6\n",
            "5\n",
            "4\n",
            "3\n",
            "2\n",
            "1\n",
            "0\n"
          ]
        }
      ]
    },
    {
      "cell_type": "code",
      "source": [
        "for i in range(18,-1,-2):\n",
        "  print(i)"
      ],
      "metadata": {
        "colab": {
          "base_uri": "https://localhost:8080/"
        },
        "id": "eru-xK6ZyH12",
        "outputId": "c55c5ea6-334b-4ef9-8364-1520bb751a8c"
      },
      "execution_count": null,
      "outputs": [
        {
          "output_type": "stream",
          "name": "stdout",
          "text": [
            "18\n",
            "16\n",
            "14\n",
            "12\n",
            "10\n",
            "8\n",
            "6\n",
            "4\n",
            "2\n",
            "0\n"
          ]
        }
      ]
    },
    {
      "cell_type": "code",
      "source": [
        "i = 18\n",
        "while i >= 0:\n",
        "  print(i)\n",
        "  i-=2"
      ],
      "metadata": {
        "colab": {
          "base_uri": "https://localhost:8080/"
        },
        "id": "YtG0PBalyWxD",
        "outputId": "41843158-95c8-4b89-8f26-63208dd30c2a"
      },
      "execution_count": null,
      "outputs": [
        {
          "output_type": "stream",
          "name": "stdout",
          "text": [
            "18\n",
            "16\n",
            "14\n",
            "12\n",
            "10\n",
            "8\n",
            "6\n",
            "4\n",
            "2\n",
            "0\n"
          ]
        }
      ]
    },
    {
      "cell_type": "code",
      "source": [
        "for i in range(19,0,-2):\n",
        "  print(i)"
      ],
      "metadata": {
        "colab": {
          "base_uri": "https://localhost:8080/"
        },
        "id": "MpsUSMi_yzv1",
        "outputId": "5aa8969c-b036-4b74-dfde-f39855e9affc"
      },
      "execution_count": null,
      "outputs": [
        {
          "output_type": "stream",
          "name": "stdout",
          "text": [
            "19\n",
            "17\n",
            "15\n",
            "13\n",
            "11\n",
            "9\n",
            "7\n",
            "5\n",
            "3\n",
            "1\n"
          ]
        }
      ]
    },
    {
      "cell_type": "code",
      "source": [
        "i = 19\n",
        "while i >= 1:\n",
        "  print(i)\n",
        "  i-=2"
      ],
      "metadata": {
        "colab": {
          "base_uri": "https://localhost:8080/"
        },
        "id": "Ky1EnTIkzCJz",
        "outputId": "878a62d8-c2fd-4768-961d-f93b9e4a10ca"
      },
      "execution_count": null,
      "outputs": [
        {
          "output_type": "stream",
          "name": "stdout",
          "text": [
            "19\n",
            "17\n",
            "15\n",
            "13\n",
            "11\n",
            "9\n",
            "7\n",
            "5\n",
            "3\n",
            "1\n"
          ]
        }
      ]
    },
    {
      "cell_type": "code",
      "source": [
        "for i in range(-3,10,1):\n",
        "  print(i)"
      ],
      "metadata": {
        "colab": {
          "base_uri": "https://localhost:8080/"
        },
        "id": "iArodG-wzKD2",
        "outputId": "7f86885e-286c-46d6-b531-39ac751fe544"
      },
      "execution_count": null,
      "outputs": [
        {
          "output_type": "stream",
          "name": "stdout",
          "text": [
            "-3\n",
            "-2\n",
            "-1\n",
            "0\n",
            "1\n",
            "2\n",
            "3\n",
            "4\n",
            "5\n",
            "6\n",
            "7\n",
            "8\n",
            "9\n"
          ]
        }
      ]
    },
    {
      "cell_type": "code",
      "source": [
        "i = -3\n",
        "while i <= 9:\n",
        "  print(i)\n",
        "  i+=1"
      ],
      "metadata": {
        "colab": {
          "base_uri": "https://localhost:8080/"
        },
        "id": "RthFOiJUzWLu",
        "outputId": "4a38f773-b6ee-4797-ec7f-86c4bf860983"
      },
      "execution_count": null,
      "outputs": [
        {
          "output_type": "stream",
          "name": "stdout",
          "text": [
            "-3\n",
            "-2\n",
            "-1\n",
            "0\n",
            "1\n",
            "2\n",
            "3\n",
            "4\n",
            "5\n",
            "6\n",
            "7\n",
            "8\n",
            "9\n"
          ]
        }
      ]
    },
    {
      "cell_type": "code",
      "source": [
        "for i in range(-9,1,1):\n",
        "  if i % 2 == 0:\n",
        "    i=i*-1\n",
        "  print(i)"
      ],
      "metadata": {
        "colab": {
          "base_uri": "https://localhost:8080/"
        },
        "id": "bAXGndPZzbeM",
        "outputId": "a73a0026-3be1-4ca1-cd6e-5311a9846109"
      },
      "execution_count": null,
      "outputs": [
        {
          "output_type": "stream",
          "name": "stdout",
          "text": [
            "-9\n",
            "8\n",
            "-7\n",
            "6\n",
            "-5\n",
            "4\n",
            "-3\n",
            "2\n",
            "-1\n",
            "0\n"
          ]
        }
      ]
    },
    {
      "cell_type": "code",
      "source": [
        "i = -9\n",
        "while i <= 0:\n",
        "  if i % 2 == 0:\n",
        "    print(i*-1)\n",
        "  else:\n",
        "    print(i)\n",
        "  i+=1"
      ],
      "metadata": {
        "colab": {
          "base_uri": "https://localhost:8080/"
        },
        "id": "_qf35N2t0HlY",
        "outputId": "52da1246-73d2-4816-8591-3123992d0f74"
      },
      "execution_count": null,
      "outputs": [
        {
          "output_type": "stream",
          "name": "stdout",
          "text": [
            "-9\n",
            "8\n",
            "-7\n",
            "6\n",
            "-5\n",
            "4\n",
            "-3\n",
            "2\n",
            "-1\n",
            "0\n"
          ]
        }
      ]
    },
    {
      "cell_type": "code",
      "source": [
        "for i in range(-5,-16,-1):\n",
        "  print(i)"
      ],
      "metadata": {
        "colab": {
          "base_uri": "https://localhost:8080/"
        },
        "id": "7Qq-gQpD51zO",
        "outputId": "38b5a3e0-cec0-4924-ed49-15bd5577aa7b"
      },
      "execution_count": null,
      "outputs": [
        {
          "output_type": "stream",
          "name": "stdout",
          "text": [
            "-5\n",
            "-6\n",
            "-7\n",
            "-8\n",
            "-9\n",
            "-10\n",
            "-11\n",
            "-12\n",
            "-13\n",
            "-14\n",
            "-15\n"
          ]
        }
      ]
    },
    {
      "cell_type": "code",
      "source": [
        "i = -5\n",
        "while i >= -15:\n",
        "  print(i)\n",
        "  i-=1"
      ],
      "metadata": {
        "colab": {
          "base_uri": "https://localhost:8080/"
        },
        "id": "aEDVf5Uu6ELv",
        "outputId": "c76f5a19-24d7-4b0a-dce8-6a78b839e549"
      },
      "execution_count": null,
      "outputs": [
        {
          "output_type": "stream",
          "name": "stdout",
          "text": [
            "-5\n",
            "-6\n",
            "-7\n",
            "-8\n",
            "-9\n",
            "-10\n",
            "-11\n",
            "-12\n",
            "-13\n",
            "-14\n",
            "-15\n"
          ]
        }
      ]
    },
    {
      "cell_type": "code",
      "source": [
        "for i in range(-5,-16,-2):\n",
        "  print(i)"
      ],
      "metadata": {
        "colab": {
          "base_uri": "https://localhost:8080/"
        },
        "id": "ho9tmA-o6jNm",
        "outputId": "8c9efe93-6f64-420f-cbb0-7e3649e7af0c"
      },
      "execution_count": null,
      "outputs": [
        {
          "output_type": "stream",
          "name": "stdout",
          "text": [
            "-5\n",
            "-7\n",
            "-9\n",
            "-11\n",
            "-13\n",
            "-15\n"
          ]
        }
      ]
    },
    {
      "cell_type": "code",
      "source": [
        "i = -5\n",
        "while i >= -15:\n",
        "  print(i)\n",
        "  i-=2"
      ],
      "metadata": {
        "colab": {
          "base_uri": "https://localhost:8080/"
        },
        "id": "HhQjW-Rn63jq",
        "outputId": "b139e473-9a73-430d-c51d-468081365567"
      },
      "execution_count": null,
      "outputs": [
        {
          "output_type": "stream",
          "name": "stdout",
          "text": [
            "-5\n",
            "-7\n",
            "-9\n",
            "-11\n",
            "-13\n",
            "-15\n"
          ]
        }
      ]
    },
    {
      "cell_type": "code",
      "source": [
        "n = int(input())\n",
        "x = 0\n",
        "for i in range(1,n+1):\n",
        "  x+=i\n",
        "print(x)"
      ],
      "metadata": {
        "colab": {
          "base_uri": "https://localhost:8080/"
        },
        "id": "UDpg5avh7PnS",
        "outputId": "2ed567cc-e8df-4af7-db73-d0e0daaf4ff7"
      },
      "execution_count": null,
      "outputs": [
        {
          "output_type": "stream",
          "name": "stdout",
          "text": [
            "10\n",
            "55\n"
          ]
        }
      ]
    },
    {
      "cell_type": "code",
      "source": [
        "n = int(input())\n",
        "i = 1\n",
        "x = 0\n",
        "while i <= n:\n",
        "  x+=i\n",
        "  i+=1\n",
        "print(x)"
      ],
      "metadata": {
        "colab": {
          "base_uri": "https://localhost:8080/"
        },
        "id": "F4KKOSwT747q",
        "outputId": "b63f91f5-3ccc-4195-876a-a67aba52f1b1"
      },
      "execution_count": null,
      "outputs": [
        {
          "output_type": "stream",
          "name": "stdout",
          "text": [
            "4\n",
            "10\n"
          ]
        }
      ]
    },
    {
      "cell_type": "code",
      "source": [
        "n = int(input())\n",
        "x = 1\n",
        "for i in range(1,n+1):\n",
        "  x*=i\n",
        "print(x)"
      ],
      "metadata": {
        "colab": {
          "base_uri": "https://localhost:8080/"
        },
        "id": "9kFfIGoB-qT9",
        "outputId": "e41044ad-12ac-4978-dbd0-539ab87fdfe6"
      },
      "execution_count": null,
      "outputs": [
        {
          "output_type": "stream",
          "name": "stdout",
          "text": [
            "5\n",
            "120\n"
          ]
        }
      ]
    },
    {
      "cell_type": "code",
      "source": [
        "n = int(input())\n",
        "x = 1\n",
        "i = 1\n",
        "while i <= n:\n",
        "  x*=i\n",
        "  i+=1\n",
        "print(x)"
      ],
      "metadata": {
        "colab": {
          "base_uri": "https://localhost:8080/"
        },
        "id": "z0E7gm7y_nww",
        "outputId": "228b4ae9-e666-4f7e-8209-e115f5dbc67f"
      },
      "execution_count": null,
      "outputs": [
        {
          "output_type": "stream",
          "name": "stdout",
          "text": [
            "5\n",
            "120\n"
          ]
        }
      ]
    },
    {
      "cell_type": "code",
      "source": [
        "n = int(input())\n",
        "x = 0\n",
        "for i in range(1,n+1):\n",
        "  x+=1/i\n",
        "print(x)"
      ],
      "metadata": {
        "colab": {
          "base_uri": "https://localhost:8080/"
        },
        "id": "x4yv30MCAI2t",
        "outputId": "1b313bf7-6abc-4ab9-eec2-ce11b50f2c59"
      },
      "execution_count": null,
      "outputs": [
        {
          "output_type": "stream",
          "name": "stdout",
          "text": [
            "10\n",
            "2.9289682539682538\n"
          ]
        }
      ]
    },
    {
      "cell_type": "code",
      "source": [
        "n = int(input())\n",
        "i = 1\n",
        "x = 0\n",
        "while i <= n:\n",
        "  x+=1/i\n",
        "  i+=1\n",
        "print(x)"
      ],
      "metadata": {
        "colab": {
          "base_uri": "https://localhost:8080/"
        },
        "id": "h-vyUCFvEHR0",
        "outputId": "269131c7-61d8-46db-a5d7-41d12dd00b52"
      },
      "execution_count": null,
      "outputs": [
        {
          "output_type": "stream",
          "name": "stdout",
          "text": [
            "10\n",
            "2.9289682539682538\n"
          ]
        }
      ]
    },
    {
      "cell_type": "code",
      "source": [
        "n = int(input())\n",
        "x = 0\n",
        "for i in range(1,n+1):\n",
        "  x+=(1/(i)**2)\n",
        "print(x)"
      ],
      "metadata": {
        "colab": {
          "base_uri": "https://localhost:8080/"
        },
        "id": "itNGdoiDFn8b",
        "outputId": "a8828a7b-f1e3-4ce0-fe4b-dd136206de46"
      },
      "execution_count": null,
      "outputs": [
        {
          "output_type": "stream",
          "name": "stdout",
          "text": [
            "10\n",
            "1.5497677311665408\n"
          ]
        }
      ]
    },
    {
      "cell_type": "code",
      "source": [
        "n = int(input())\n",
        "x = 0\n",
        "i = 1\n",
        "while i <= n:\n",
        "  x+=(1/(i)**2)\n",
        "  i+=1\n",
        "print(x)"
      ],
      "metadata": {
        "colab": {
          "base_uri": "https://localhost:8080/"
        },
        "id": "PMb-f_a0Gran",
        "outputId": "0bb3fd49-853f-45fd-844f-1cfefb1dcee0"
      },
      "execution_count": null,
      "outputs": [
        {
          "output_type": "stream",
          "name": "stdout",
          "text": [
            "10\n",
            "1.5497677311665408\n"
          ]
        }
      ]
    },
    {
      "cell_type": "code",
      "source": [
        "n = int(input())\n",
        "x = 0\n",
        "y = 1\n",
        "for i in range(1,n+1):\n",
        "  x+=(1/(i)**2)\n",
        "y=(6*(x))**0.5\n",
        "print(y)"
      ],
      "metadata": {
        "colab": {
          "base_uri": "https://localhost:8080/"
        },
        "id": "iomC-t12HBnI",
        "outputId": "16a7b731-b7af-4956-9fec-c5c42a1a095d"
      },
      "execution_count": null,
      "outputs": [
        {
          "output_type": "stream",
          "name": "stdout",
          "text": [
            "100\n",
            "3.1320765318091053\n"
          ]
        }
      ]
    },
    {
      "cell_type": "code",
      "source": [
        "n = int(input())\n",
        "x = 0\n",
        "y = 1\n",
        "i = 1\n",
        "while i <= n:\n",
        "  x+=(1/(i)**2)\n",
        "  i+=1\n",
        "y=(6*(x))**0.5\n",
        "print(y)"
      ],
      "metadata": {
        "colab": {
          "base_uri": "https://localhost:8080/"
        },
        "id": "6Vzxp6enNFzm",
        "outputId": "b0ab5362-e940-4d0f-b608-7e086543ba45"
      },
      "execution_count": null,
      "outputs": [
        {
          "output_type": "stream",
          "name": "stdout",
          "text": [
            "100\n",
            "3.1320765318091053\n"
          ]
        }
      ]
    },
    {
      "cell_type": "markdown",
      "source": [
        "# ทำโจทย์12"
      ],
      "metadata": {
        "id": "L2pouiqwfp8n"
      }
    },
    {
      "cell_type": "code",
      "source": [
        "for i in range(1,100):\n",
        "  if i%3 == 0:\n",
        "    print(i)"
      ],
      "metadata": {
        "colab": {
          "base_uri": "https://localhost:8080/"
        },
        "id": "Wwz3fi-Mfu3y",
        "outputId": "225b30fe-ca4d-4963-9619-262c4235ed52"
      },
      "execution_count": null,
      "outputs": [
        {
          "output_type": "stream",
          "name": "stdout",
          "text": [
            "3\n",
            "6\n",
            "9\n",
            "12\n",
            "15\n",
            "18\n",
            "21\n",
            "24\n",
            "27\n",
            "30\n",
            "33\n",
            "36\n",
            "39\n",
            "42\n",
            "45\n",
            "48\n",
            "51\n",
            "54\n",
            "57\n",
            "60\n",
            "63\n",
            "66\n",
            "69\n",
            "72\n",
            "75\n",
            "78\n",
            "81\n",
            "84\n",
            "87\n",
            "90\n",
            "93\n",
            "96\n",
            "99\n"
          ]
        }
      ]
    },
    {
      "cell_type": "code",
      "source": [
        "for i in range(1,100):\n",
        "  if i%3 == 0 and i%5 == 0:\n",
        "    print(i)"
      ],
      "metadata": {
        "colab": {
          "base_uri": "https://localhost:8080/"
        },
        "id": "8ruG_0yfgqv2",
        "outputId": "ff491c48-cff9-4143-b52e-920c5df4d880"
      },
      "execution_count": null,
      "outputs": [
        {
          "output_type": "stream",
          "name": "stdout",
          "text": [
            "15\n",
            "30\n",
            "45\n",
            "60\n",
            "75\n",
            "90\n"
          ]
        }
      ]
    },
    {
      "cell_type": "code",
      "source": [
        "for i in range(1,100):\n",
        "  if i%3==0 or i%5==0:\n",
        "    print(i)"
      ],
      "metadata": {
        "colab": {
          "base_uri": "https://localhost:8080/"
        },
        "id": "qtwZfASPhCz0",
        "outputId": "641b4e89-9b20-4d2e-c468-08f1550f8398"
      },
      "execution_count": null,
      "outputs": [
        {
          "output_type": "stream",
          "name": "stdout",
          "text": [
            "3\n",
            "5\n",
            "6\n",
            "9\n",
            "10\n",
            "12\n",
            "15\n",
            "18\n",
            "20\n",
            "21\n",
            "24\n",
            "25\n",
            "27\n",
            "30\n",
            "33\n",
            "35\n",
            "36\n",
            "39\n",
            "40\n",
            "42\n",
            "45\n",
            "48\n",
            "50\n",
            "51\n",
            "54\n",
            "55\n",
            "57\n",
            "60\n",
            "63\n",
            "65\n",
            "66\n",
            "69\n",
            "70\n",
            "72\n",
            "75\n",
            "78\n",
            "80\n",
            "81\n",
            "84\n",
            "85\n",
            "87\n",
            "90\n",
            "93\n",
            "95\n",
            "96\n",
            "99\n"
          ]
        }
      ]
    },
    {
      "cell_type": "code",
      "source": [
        "for i in range(1,1000):\n",
        "  if i%3 == 0 and i%5 == 0 and i%7 == 0:\n",
        "    print(i)"
      ],
      "metadata": {
        "colab": {
          "base_uri": "https://localhost:8080/"
        },
        "id": "e9AoHRDzhn-i",
        "outputId": "a20a2615-80bf-45ad-f102-ca387f933ac1"
      },
      "execution_count": null,
      "outputs": [
        {
          "output_type": "stream",
          "name": "stdout",
          "text": [
            "105\n",
            "210\n",
            "315\n",
            "420\n",
            "525\n",
            "630\n",
            "735\n",
            "840\n",
            "945\n"
          ]
        }
      ]
    },
    {
      "cell_type": "code",
      "source": [
        "for i in range(1,100):\n",
        "  if i%3 == 0 or i%5 == 0 or i%7 == 0:\n",
        "    print(i)"
      ],
      "metadata": {
        "colab": {
          "base_uri": "https://localhost:8080/"
        },
        "id": "o3x0RxMmiT8x",
        "outputId": "7a5f9938-f26c-4d36-bbbb-4df8824159b9"
      },
      "execution_count": null,
      "outputs": [
        {
          "output_type": "stream",
          "name": "stdout",
          "text": [
            "3\n",
            "5\n",
            "6\n",
            "7\n",
            "9\n",
            "10\n",
            "12\n",
            "14\n",
            "15\n",
            "18\n",
            "20\n",
            "21\n",
            "24\n",
            "25\n",
            "27\n",
            "28\n",
            "30\n",
            "33\n",
            "35\n",
            "36\n",
            "39\n",
            "40\n",
            "42\n",
            "45\n",
            "48\n",
            "49\n",
            "50\n",
            "51\n",
            "54\n",
            "55\n",
            "56\n",
            "57\n",
            "60\n",
            "63\n",
            "65\n",
            "66\n",
            "69\n",
            "70\n",
            "72\n",
            "75\n",
            "77\n",
            "78\n",
            "80\n",
            "81\n",
            "84\n",
            "85\n",
            "87\n",
            "90\n",
            "91\n",
            "93\n",
            "95\n",
            "96\n",
            "98\n",
            "99\n"
          ]
        }
      ]
    },
    {
      "cell_type": "code",
      "source": [
        "for i in range(1,100):\n",
        "  if ((i%3==0) and (i%5!=0)) or ((i%3!=0) and (i%5==0)):\n",
        "    print(i)"
      ],
      "metadata": {
        "colab": {
          "base_uri": "https://localhost:8080/"
        },
        "id": "kf4gmrtCinsZ",
        "outputId": "bfc4ba10-414b-475d-82de-b7857b765dfe"
      },
      "execution_count": null,
      "outputs": [
        {
          "output_type": "stream",
          "name": "stdout",
          "text": [
            "3\n",
            "5\n",
            "6\n",
            "9\n",
            "10\n",
            "12\n",
            "18\n",
            "20\n",
            "21\n",
            "24\n",
            "25\n",
            "27\n",
            "33\n",
            "35\n",
            "36\n",
            "39\n",
            "40\n",
            "42\n",
            "48\n",
            "50\n",
            "51\n",
            "54\n",
            "55\n",
            "57\n",
            "63\n",
            "65\n",
            "66\n",
            "69\n",
            "70\n",
            "72\n",
            "78\n",
            "80\n",
            "81\n",
            "84\n",
            "85\n",
            "87\n",
            "93\n",
            "95\n",
            "96\n",
            "99\n"
          ]
        }
      ]
    },
    {
      "cell_type": "code",
      "source": [
        "for i in range(1,100):\n",
        "  if i%3 == 0 and i%5 == 0 and i%2 != 0:\n",
        "    print(i)"
      ],
      "metadata": {
        "colab": {
          "base_uri": "https://localhost:8080/"
        },
        "id": "59JDsox6khcD",
        "outputId": "0d9e18d9-e0dd-4766-f3d9-6593fe10f9ea"
      },
      "execution_count": null,
      "outputs": [
        {
          "output_type": "stream",
          "name": "stdout",
          "text": [
            "15\n",
            "45\n",
            "75\n"
          ]
        }
      ]
    },
    {
      "cell_type": "code",
      "source": [
        "for i in range(1,100):\n",
        "  if (i%3 == 0 or i%5 == 0) and i%2 != 0:\n",
        "    print(i)"
      ],
      "metadata": {
        "colab": {
          "base_uri": "https://localhost:8080/"
        },
        "id": "Vc7NmQ8_kvnB",
        "outputId": "00b720ed-97c8-4ec8-ca20-ce05e4b52a64"
      },
      "execution_count": null,
      "outputs": [
        {
          "output_type": "stream",
          "name": "stdout",
          "text": [
            "3\n",
            "5\n",
            "9\n",
            "15\n",
            "21\n",
            "25\n",
            "27\n",
            "33\n",
            "35\n",
            "39\n",
            "45\n",
            "51\n",
            "55\n",
            "57\n",
            "63\n",
            "65\n",
            "69\n",
            "75\n",
            "81\n",
            "85\n",
            "87\n",
            "93\n",
            "95\n",
            "99\n"
          ]
        }
      ]
    },
    {
      "cell_type": "code",
      "source": [
        "count = 0\n",
        "for i in range(1,1000):\n",
        "  if i%3==0:\n",
        "    count+=1\n",
        "print(count)"
      ],
      "metadata": {
        "colab": {
          "base_uri": "https://localhost:8080/"
        },
        "id": "_8kBYxoxk7BR",
        "outputId": "8bee465d-ea92-49bc-c132-0af1f386b633"
      },
      "execution_count": null,
      "outputs": [
        {
          "output_type": "stream",
          "name": "stdout",
          "text": [
            "333\n"
          ]
        }
      ]
    },
    {
      "cell_type": "code",
      "source": [
        "plus = 0\n",
        "for i in range(1,1000):\n",
        "  if i%3==0:\n",
        "    plus+=i\n",
        "print(plus)"
      ],
      "metadata": {
        "colab": {
          "base_uri": "https://localhost:8080/"
        },
        "id": "Be9qKBiOlu_W",
        "outputId": "d65bf3c8-0e66-4f65-cf8a-b8c9219acc34"
      },
      "execution_count": null,
      "outputs": [
        {
          "output_type": "stream",
          "name": "stdout",
          "text": [
            "166833\n"
          ]
        }
      ]
    },
    {
      "cell_type": "code",
      "source": [
        "plus = 0\n",
        "for i in range(5):\n",
        "  n = int(input())\n",
        "  plus+=n\n",
        "print(plus)"
      ],
      "metadata": {
        "colab": {
          "base_uri": "https://localhost:8080/"
        },
        "id": "9f8rzKH4mbDT",
        "outputId": "245301eb-b33a-42d2-d4f2-976bf4d58e57"
      },
      "execution_count": null,
      "outputs": [
        {
          "output_type": "stream",
          "name": "stdout",
          "text": [
            "1\n",
            "3\n",
            "5\n",
            "7\n",
            "9\n",
            "25\n"
          ]
        }
      ]
    },
    {
      "cell_type": "code",
      "source": [
        "plus = 0\n",
        "substract = 0\n",
        "for i in range(5):\n",
        "  n = float(input())\n",
        "  if n >= 0:\n",
        "    plus+=n\n",
        "  else:\n",
        "    substract+=n\n",
        "print(plus)\n",
        "print(substract)"
      ],
      "metadata": {
        "colab": {
          "base_uri": "https://localhost:8080/"
        },
        "id": "CjbujZfowqmM",
        "outputId": "6101fe4c-ddd2-4685-f488-9addb61d0f60"
      },
      "execution_count": null,
      "outputs": [
        {
          "output_type": "stream",
          "name": "stdout",
          "text": [
            "1\n",
            "-2\n",
            "3\n",
            "-4\n",
            "5\n",
            "9.0\n",
            "-6.0\n"
          ]
        }
      ]
    },
    {
      "cell_type": "code",
      "source": [
        "multiply = 1\n",
        "for i in range(5):\n",
        "  n = float(input())\n",
        "  if n>0:\n",
        "    multiply*=n\n",
        "print(multiply)"
      ],
      "metadata": {
        "colab": {
          "base_uri": "https://localhost:8080/"
        },
        "id": "d2xUTEfsynmr",
        "outputId": "672d8ea8-ae49-4c88-e3b3-abc390cef257"
      },
      "execution_count": null,
      "outputs": [
        {
          "output_type": "stream",
          "name": "stdout",
          "text": [
            "2\n",
            "2\n",
            "2\n",
            "2\n",
            "2\n",
            "32.0\n"
          ]
        }
      ]
    },
    {
      "cell_type": "code",
      "source": [
        "n = int(input())\n",
        "for i in range(1,n+1):\n",
        "  if n%i == 0:\n",
        "    print(i)"
      ],
      "metadata": {
        "colab": {
          "base_uri": "https://localhost:8080/"
        },
        "id": "pJ0pU2QPza8_",
        "outputId": "73ccae6e-b2a5-4a75-ba1b-759be2f748e1"
      },
      "execution_count": null,
      "outputs": [
        {
          "output_type": "stream",
          "name": "stdout",
          "text": [
            "135\n",
            "1\n",
            "3\n",
            "5\n",
            "9\n",
            "15\n",
            "27\n",
            "45\n",
            "135\n"
          ]
        }
      ]
    },
    {
      "cell_type": "code",
      "source": [
        "n = int(input())\n",
        "count = 0\n",
        "for i in range(1,n+1):\n",
        "  if n%i == 0:\n",
        "    count+=1\n",
        "print(count)"
      ],
      "metadata": {
        "colab": {
          "base_uri": "https://localhost:8080/"
        },
        "id": "8pWZ6Q4g1C8d",
        "outputId": "fb631b5a-5cc5-4575-fbd3-a23a09249968"
      },
      "execution_count": null,
      "outputs": [
        {
          "output_type": "stream",
          "name": "stdout",
          "text": [
            "7\n",
            "1\n",
            "7\n",
            "2\n"
          ]
        }
      ]
    },
    {
      "cell_type": "code",
      "source": [
        "n = int(input())\n",
        "count=0\n",
        "for i in range(1,n+1):\n",
        "  if n%i == 0:\n",
        "    count+=1\n",
        "if count == 2:\n",
        "  print('is prime')\n",
        "else:\n",
        "  print('is not prime')"
      ],
      "metadata": {
        "colab": {
          "base_uri": "https://localhost:8080/"
        },
        "id": "UK3TO9TV1-Vv",
        "outputId": "09a665aa-6fda-445f-db47-af9394415e0d"
      },
      "execution_count": null,
      "outputs": [
        {
          "output_type": "stream",
          "name": "stdout",
          "text": [
            "757\n",
            "is prime\n"
          ]
        }
      ]
    },
    {
      "cell_type": "code",
      "source": [
        "for i in range(1,100):\n",
        "  count = 0\n",
        "  for j in range(1,i+1):\n",
        "    if i%j == 0:\n",
        "      count+=1\n",
        "  if count == 2:\n",
        "    print(i)"
      ],
      "metadata": {
        "colab": {
          "base_uri": "https://localhost:8080/"
        },
        "id": "LzKmRU-Q2SUk",
        "outputId": "ef82324a-ab55-4367-b8b4-08c59a5f976c"
      },
      "execution_count": null,
      "outputs": [
        {
          "output_type": "stream",
          "name": "stdout",
          "text": [
            "2\n",
            "3\n",
            "5\n",
            "7\n",
            "11\n",
            "13\n",
            "17\n",
            "19\n",
            "23\n",
            "29\n",
            "31\n",
            "37\n",
            "41\n",
            "43\n",
            "47\n",
            "53\n",
            "59\n",
            "61\n",
            "67\n",
            "71\n",
            "73\n",
            "79\n",
            "83\n",
            "89\n",
            "97\n"
          ]
        }
      ]
    },
    {
      "cell_type": "code",
      "source": [
        "for i in range(1,101):\n",
        "  count = 0\n",
        "  for j in range(1,i+1):\n",
        "    if i%j == 0:\n",
        "      count+=1\n",
        "  if count == 2:\n",
        "    print(i)"
      ],
      "metadata": {
        "colab": {
          "base_uri": "https://localhost:8080/"
        },
        "id": "FbTS_ZGDxrEW",
        "outputId": "4a3fd939-a455-4362-d59d-4e25d4f299a7"
      },
      "execution_count": null,
      "outputs": [
        {
          "output_type": "stream",
          "name": "stdout",
          "text": [
            "2\n",
            "3\n",
            "5\n",
            "7\n",
            "11\n",
            "13\n",
            "17\n",
            "19\n",
            "23\n",
            "29\n",
            "31\n",
            "37\n",
            "41\n",
            "43\n",
            "47\n",
            "53\n",
            "59\n",
            "61\n",
            "67\n",
            "71\n",
            "73\n",
            "79\n",
            "83\n",
            "89\n",
            "97\n"
          ]
        }
      ]
    },
    {
      "cell_type": "code",
      "source": [
        "count_prime = 0\n",
        "n = 1\n",
        "while count_prime != 100:\n",
        "  count = 0\n",
        "  for i in range(1,n+1):\n",
        "    if n%i == 0:\n",
        "      count+=1\n",
        "  if count == 2:\n",
        "    count_prime+=1\n",
        "    print(i)\n",
        "  n+=1\n",
        "print(count_prime)"
      ],
      "metadata": {
        "colab": {
          "base_uri": "https://localhost:8080/"
        },
        "id": "j2yAIYxw17xo",
        "outputId": "6c25d17c-8b86-4cad-9fe8-cc5accb4a81e"
      },
      "execution_count": null,
      "outputs": [
        {
          "output_type": "stream",
          "name": "stdout",
          "text": [
            "2\n",
            "3\n",
            "5\n",
            "7\n",
            "11\n",
            "13\n",
            "17\n",
            "19\n",
            "23\n",
            "29\n",
            "31\n",
            "37\n",
            "41\n",
            "43\n",
            "47\n",
            "53\n",
            "59\n",
            "61\n",
            "67\n",
            "71\n",
            "73\n",
            "79\n",
            "83\n",
            "89\n",
            "97\n",
            "101\n",
            "103\n",
            "107\n",
            "109\n",
            "113\n",
            "127\n",
            "131\n",
            "137\n",
            "139\n",
            "149\n",
            "151\n",
            "157\n",
            "163\n",
            "167\n",
            "173\n",
            "179\n",
            "181\n",
            "191\n",
            "193\n",
            "197\n",
            "199\n",
            "211\n",
            "223\n",
            "227\n",
            "229\n",
            "233\n",
            "239\n",
            "241\n",
            "251\n",
            "257\n",
            "263\n",
            "269\n",
            "271\n",
            "277\n",
            "281\n",
            "283\n",
            "293\n",
            "307\n",
            "311\n",
            "313\n",
            "317\n",
            "331\n",
            "337\n",
            "347\n",
            "349\n",
            "353\n",
            "359\n",
            "367\n",
            "373\n",
            "379\n",
            "383\n",
            "389\n",
            "397\n",
            "401\n",
            "409\n",
            "419\n",
            "421\n",
            "431\n",
            "433\n",
            "439\n",
            "443\n",
            "449\n",
            "457\n",
            "461\n",
            "463\n",
            "467\n",
            "479\n",
            "487\n",
            "491\n",
            "499\n",
            "503\n",
            "509\n",
            "521\n",
            "523\n",
            "541\n",
            "100\n"
          ]
        }
      ]
    },
    {
      "cell_type": "code",
      "source": [
        "plus = 0\n",
        "count_prime = 0\n",
        "i = 1\n",
        "while count_prime != 100:\n",
        "  count = 0\n",
        "  for j in range(1,i+1):\n",
        "    if i%j == 0:\n",
        "      count+=1\n",
        "  if count == 2:\n",
        "    plus+=i\n",
        "    count_prime+=1\n",
        "  i+=1\n",
        "print(count_prime)\n",
        "print(plus)"
      ],
      "metadata": {
        "colab": {
          "base_uri": "https://localhost:8080/"
        },
        "id": "ACF-HzBjr_OW",
        "outputId": "e5d1a8a5-b9e8-4703-fffd-e302774bf99c"
      },
      "execution_count": null,
      "outputs": [
        {
          "output_type": "stream",
          "name": "stdout",
          "text": [
            "100\n",
            "24133\n"
          ]
        }
      ]
    },
    {
      "cell_type": "code",
      "source": [
        "str1 = input()\n",
        "for i in range(len(str1)):\n",
        "  if i%2 == 0:\n",
        "    print(str1[i])"
      ],
      "metadata": {
        "colab": {
          "base_uri": "https://localhost:8080/"
        },
        "id": "LpNc6L_h1z8X",
        "outputId": "445760a7-3930-46dd-b1ef-0873349ab1f3"
      },
      "execution_count": null,
      "outputs": [
        {
          "output_type": "stream",
          "name": "stdout",
          "text": [
            "coding\n",
            "c\n",
            "d\n",
            "n\n"
          ]
        }
      ]
    },
    {
      "cell_type": "code",
      "source": [
        "str1 = input()\n",
        "for i in range(len(str1)):\n",
        "  if i%2 != 0:\n",
        "    print(str1[i])"
      ],
      "metadata": {
        "colab": {
          "base_uri": "https://localhost:8080/"
        },
        "id": "jN7t19XN984E",
        "outputId": "42568a35-cc34-4ccc-fd9c-b43b08f1ea04"
      },
      "execution_count": null,
      "outputs": [
        {
          "output_type": "stream",
          "name": "stdout",
          "text": [
            "coding\n",
            "o\n",
            "i\n",
            "g\n"
          ]
        }
      ]
    },
    {
      "cell_type": "code",
      "source": [
        "count=0\n",
        "for i in range(5):\n",
        "  n = input()\n",
        "  count+=len(n)\n",
        "print(count)"
      ],
      "metadata": {
        "colab": {
          "base_uri": "https://localhost:8080/"
        },
        "id": "BGM0N-Jx-y6K",
        "outputId": "302694cb-7822-4b3b-9d4f-49754a2d3c94"
      },
      "execution_count": null,
      "outputs": [
        {
          "output_type": "stream",
          "name": "stdout",
          "text": [
            "ji\n",
            "ko\n",
            "lk\n",
            "jk\n",
            "nj\n",
            "10\n"
          ]
        }
      ]
    },
    {
      "cell_type": "code",
      "source": [
        "str1 = input()\n",
        "char1 = input()\n",
        "if len(char1) == 1:\n",
        "  for i in range(len(str1)):\n",
        "    if str1[i] == char1:\n",
        "      print(i)"
      ],
      "metadata": {
        "colab": {
          "base_uri": "https://localhost:8080/"
        },
        "id": "VE3yLvhFAD42",
        "outputId": "ae705523-c1c5-4406-e783-f9c32e09a5b5"
      },
      "execution_count": null,
      "outputs": [
        {
          "output_type": "stream",
          "name": "stdout",
          "text": [
            "coding_is_good\n",
            "_\n",
            "6\n",
            "9\n"
          ]
        }
      ]
    },
    {
      "cell_type": "code",
      "source": [
        "count = 0\n",
        "for i in range(5):\n",
        "  str1 = input()\n",
        "  a = str1.count('a')\n",
        "  count+=a\n",
        "print(count)"
      ],
      "metadata": {
        "colab": {
          "base_uri": "https://localhost:8080/"
        },
        "id": "yRlWfnIo9BIW",
        "outputId": "2e45136c-dace-4150-b294-e0049caf176d"
      },
      "execution_count": null,
      "outputs": [
        {
          "output_type": "stream",
          "name": "stdout",
          "text": [
            "aafed\n",
            "fea\n",
            "ppo\n",
            "da\n",
            "faaa\n",
            "7\n"
          ]
        }
      ]
    },
    {
      "cell_type": "code",
      "source": [
        "count = 0\n",
        "for i in range(5):\n",
        "  str1 = input()\n",
        "  for n in str1:\n",
        "    if n == 'a':\n",
        "      count+=1\n",
        "print(count)"
      ],
      "metadata": {
        "colab": {
          "base_uri": "https://localhost:8080/"
        },
        "id": "29nK_aKc_ALy",
        "outputId": "636ea896-929d-41ea-9ee5-8bfc8c3e299e"
      },
      "execution_count": null,
      "outputs": [
        {
          "output_type": "stream",
          "name": "stdout",
          "text": [
            "aaaa\n",
            "aaa\n",
            "aa\n",
            "a\n",
            "aa\n",
            "12\n"
          ]
        }
      ]
    },
    {
      "cell_type": "code",
      "source": [
        "vowel = ['a','e','i','o','u']\n",
        "str1 = input()\n",
        "count_vowel = 0\n",
        "for v in vowel:\n",
        "  count_v = str1.count(v)\n",
        "  count_vowel+=count_v\n",
        "if count_vowel != 0:\n",
        "  print('There is vowel')\n",
        "else:\n",
        "  print('There is no vowel')"
      ],
      "metadata": {
        "colab": {
          "base_uri": "https://localhost:8080/"
        },
        "id": "XMKwCkPm_v3C",
        "outputId": "acbb7e69-d58f-4b2b-cfa4-b09fe0a8e3a8"
      },
      "execution_count": null,
      "outputs": [
        {
          "output_type": "stream",
          "name": "stdout",
          "text": [
            "pjgh\n",
            "There is no vowel\n"
          ]
        }
      ]
    },
    {
      "cell_type": "code",
      "source": [
        "vowel = ['a','e','i','o','u']\n",
        "str1 = input()\n",
        "isVowel = False\n",
        "for v in vowel:\n",
        "  count_v = str1.count(v)\n",
        "  if count_v > 0:\n",
        "    isVowel = True\n",
        "if isVowel == True:\n",
        "  print('There is vowel')\n",
        "else:\n",
        "  print('There is no vowel')"
      ],
      "metadata": {
        "colab": {
          "base_uri": "https://localhost:8080/"
        },
        "id": "XlBjVMYpsu81",
        "outputId": "2f94af17-006f-4849-be2d-0b9dad1d6cae"
      },
      "execution_count": null,
      "outputs": [
        {
          "output_type": "stream",
          "name": "stdout",
          "text": [
            "xvz\n",
            "There is no vowel\n"
          ]
        }
      ]
    },
    {
      "cell_type": "code",
      "source": [
        "vowel = ['a','e','i','o','u']\n",
        "str1 = input()\n",
        "isVowel = False\n",
        "for v in vowel:\n",
        "  if v in str1:\n",
        "    isVowel = True\n",
        "if isVowel == True:\n",
        "  print('There is vowel')\n",
        "else:\n",
        "  print('There is no vowel')"
      ],
      "metadata": {
        "colab": {
          "base_uri": "https://localhost:8080/"
        },
        "id": "vbD7VMTgzf0Y",
        "outputId": "92c12f84-d373-40c4-87d2-f141a0ad4e50"
      },
      "execution_count": null,
      "outputs": [
        {
          "output_type": "stream",
          "name": "stdout",
          "text": [
            "zxv\n",
            "There is no vowel\n"
          ]
        }
      ]
    },
    {
      "cell_type": "code",
      "source": [
        "vowel = ['a','e','i','o','u']\n",
        "str1 = input()\n",
        "for v in vowel:\n",
        "  str1 = str1.replace(v,'*')\n",
        "print(str1)"
      ],
      "metadata": {
        "colab": {
          "base_uri": "https://localhost:8080/"
        },
        "id": "xrZ8h8fq0li3",
        "outputId": "4023384e-feb1-4d88-f1a6-27f04459d7f5"
      },
      "execution_count": null,
      "outputs": [
        {
          "output_type": "stream",
          "name": "stdout",
          "text": [
            "apple\n",
            "*ppl*\n"
          ]
        }
      ]
    },
    {
      "cell_type": "code",
      "source": [
        "str1 = input()\n",
        "str2 = ''\n",
        "n = len(str1)\n",
        "for i in range(n-1,-1,-1):\n",
        "  str2+=str1[i]\n",
        "print(str2)"
      ],
      "metadata": {
        "colab": {
          "base_uri": "https://localhost:8080/"
        },
        "id": "_GARYBwr8ZTT",
        "outputId": "efca5415-37ef-411c-eccb-f2f8581e6ff5"
      },
      "execution_count": null,
      "outputs": [
        {
          "output_type": "stream",
          "name": "stdout",
          "text": [
            "banana\n",
            "ananab\n"
          ]
        }
      ]
    },
    {
      "cell_type": "code",
      "source": [
        "str2 = ''\n",
        "for i in range(5):\n",
        "  str1 = input()\n",
        "  str2+=str1\n",
        "print(str2)"
      ],
      "metadata": {
        "colab": {
          "base_uri": "https://localhost:8080/"
        },
        "id": "RO1nH1M69nwE",
        "outputId": "412434c2-9e4a-48ce-92dc-a1833edbd3ad"
      },
      "execution_count": null,
      "outputs": [
        {
          "output_type": "stream",
          "name": "stdout",
          "text": [
            "yo\n",
            "i\n",
            "like\n",
            "cookie\n",
            "mak\n",
            "yoilikecookiemak\n"
          ]
        }
      ]
    },
    {
      "cell_type": "code",
      "source": [
        "str1 = input()\n",
        "int1 = int(input())\n",
        "n = len(str1)\n",
        "while n < int1:\n",
        "  str1+='*'\n",
        "  n+=1\n",
        "print(str1)"
      ],
      "metadata": {
        "colab": {
          "base_uri": "https://localhost:8080/"
        },
        "id": "DvX2cL2R--ni",
        "outputId": "60228269-0c6a-48f0-ccd4-c9c3c2baf0e1"
      },
      "execution_count": null,
      "outputs": [
        {
          "output_type": "stream",
          "name": "stdout",
          "text": [
            "be\n",
            "5\n",
            "be***\n"
          ]
        }
      ]
    },
    {
      "cell_type": "code",
      "source": [
        "str1 = input()\n",
        "str2 = set({})\n",
        "for i in str1:\n",
        "  str2.update(i)\n",
        "print(str2)"
      ],
      "metadata": {
        "colab": {
          "base_uri": "https://localhost:8080/"
        },
        "id": "Mw0U1RCrBFoD",
        "outputId": "8866f5d2-e526-41fe-c6a7-37e704d80ecd"
      },
      "execution_count": null,
      "outputs": [
        {
          "output_type": "stream",
          "name": "stdout",
          "text": [
            "green\n",
            "{'e', 'g', 'n', 'r'}\n"
          ]
        }
      ]
    },
    {
      "cell_type": "code",
      "source": [
        "str1 = input()\n",
        "set1 = set(str1)\n",
        "print(set1)"
      ],
      "metadata": {
        "colab": {
          "base_uri": "https://localhost:8080/"
        },
        "id": "3YhWPMUrHkYO",
        "outputId": "38352cbd-4373-4de0-83a0-6aa98c184dca"
      },
      "execution_count": null,
      "outputs": [
        {
          "output_type": "stream",
          "name": "stdout",
          "text": [
            "green\n",
            "{'e', 'g', 'n', 'r'}\n"
          ]
        }
      ]
    },
    {
      "cell_type": "code",
      "source": [
        "str1 = input()\n",
        "set1 = set(str1)\n",
        "for s in set1:\n",
        "  count_s = str1.count(s)\n",
        "  print(s,count_s)"
      ],
      "metadata": {
        "colab": {
          "base_uri": "https://localhost:8080/"
        },
        "id": "P0MadeCMJWrO",
        "outputId": "a26e9961-2ce6-4b8d-8335-33713fcd6e1e"
      },
      "execution_count": null,
      "outputs": [
        {
          "output_type": "stream",
          "name": "stdout",
          "text": [
            "hallo\n",
            "l 2\n",
            "o 1\n",
            "a 1\n",
            "h 1\n"
          ]
        }
      ]
    },
    {
      "cell_type": "code",
      "source": [
        "lis = []\n",
        "for i in range(20):\n",
        "  lis.append(i)\n",
        "print(lis)"
      ],
      "metadata": {
        "colab": {
          "base_uri": "https://localhost:8080/"
        },
        "id": "qYv4DQPkYM4D",
        "outputId": "dc8ca3ec-3ecd-4c64-b031-0d21297bb470"
      },
      "execution_count": null,
      "outputs": [
        {
          "output_type": "stream",
          "name": "stdout",
          "text": [
            "[0, 1, 2, 3, 4, 5, 6, 7, 8, 9, 10, 11, 12, 13, 14, 15, 16, 17, 18, 19]\n"
          ]
        }
      ]
    },
    {
      "cell_type": "code",
      "source": [
        "lis = []\n",
        "for i in range(99,79,-1):\n",
        "  lis.append(i)\n",
        "print(lis)"
      ],
      "metadata": {
        "colab": {
          "base_uri": "https://localhost:8080/"
        },
        "id": "6XBeN2AM9t2v",
        "outputId": "1f555516-202a-486a-812d-3964c975249c"
      },
      "execution_count": null,
      "outputs": [
        {
          "output_type": "stream",
          "name": "stdout",
          "text": [
            "[99, 98, 97, 96, 95, 94, 93, 92, 91, 90, 89, 88, 87, 86, 85, 84, 83, 82, 81, 80]\n"
          ]
        }
      ]
    },
    {
      "cell_type": "code",
      "source": [
        "list1 = []\n",
        "for i in range(5):\n",
        "  n = int(input())\n",
        "  if n not in list1:\n",
        "    list1.append(n)\n",
        "print(list1)"
      ],
      "metadata": {
        "colab": {
          "base_uri": "https://localhost:8080/"
        },
        "id": "ZCjt7yyO-kHO",
        "outputId": "eec01156-dcbe-4ab9-8e78-8ef0b2ac62fd"
      },
      "execution_count": null,
      "outputs": [
        {
          "output_type": "stream",
          "name": "stdout",
          "text": [
            "2\n",
            "2\n",
            "2\n",
            "2\n",
            "2\n",
            "[2]\n"
          ]
        }
      ]
    },
    {
      "cell_type": "code",
      "source": [
        "list1 = []\n",
        "while len(list1) != 5:\n",
        "  str1 = input()\n",
        "  if str1 not in list1:\n",
        "    list1.append(str1)\n",
        "print(list1)"
      ],
      "metadata": {
        "colab": {
          "base_uri": "https://localhost:8080/"
        },
        "id": "V5g1WxHD_l89",
        "outputId": "40970b40-7c28-4d9e-a489-8c148711fb72"
      },
      "execution_count": null,
      "outputs": [
        {
          "output_type": "stream",
          "name": "stdout",
          "text": [
            "a\n",
            "a\n",
            "a\n",
            "a\n",
            "a\n",
            "a\n",
            "v\n",
            "e\n",
            "d\n",
            "s\n",
            "['a', 'v', 'e', 'd', 's']\n"
          ]
        }
      ]
    },
    {
      "cell_type": "code",
      "source": [
        "list1 = [1,2,3,4,5,6,7,8,9,10]\n",
        "list1 = sorted(list1,reverse = True)\n",
        "print(list1)"
      ],
      "metadata": {
        "colab": {
          "base_uri": "https://localhost:8080/"
        },
        "id": "EKpFVR_MAFOS",
        "outputId": "d1453b01-59e3-4e93-bc97-da8b0e39b977"
      },
      "execution_count": null,
      "outputs": [
        {
          "output_type": "stream",
          "name": "stdout",
          "text": [
            "[10, 9, 8, 7, 6, 5, 4, 3, 2, 1]\n"
          ]
        }
      ]
    },
    {
      "cell_type": "code",
      "source": [
        "list1 = [1,2,3,4,5,6,7,8,9,10]\n",
        "list2 = []\n",
        "n = len(list1)\n",
        "for i in range(n-1,-1,-1):\n",
        "  list2.append(list1[i])\n",
        "print(list2)"
      ],
      "metadata": {
        "colab": {
          "base_uri": "https://localhost:8080/"
        },
        "id": "_TZz9jJjArPL",
        "outputId": "69b1988b-e19f-458c-aafe-b05f4ddd5493"
      },
      "execution_count": null,
      "outputs": [
        {
          "output_type": "stream",
          "name": "stdout",
          "text": [
            "[10, 9, 8, 7, 6, 5, 4, 3, 2, 1]\n"
          ]
        }
      ]
    },
    {
      "cell_type": "code",
      "source": [
        "list1 = [1,2,3,4,5,6,7,8,9,10]\n",
        "for i in range(len(list1)):\n",
        "  if i % 2 == 0:\n",
        "    print(list1[i])"
      ],
      "metadata": {
        "colab": {
          "base_uri": "https://localhost:8080/"
        },
        "id": "LBJXT3SuArGJ",
        "outputId": "9ca96eb8-eba2-4b7b-8cb4-68a578a1220f"
      },
      "execution_count": null,
      "outputs": [
        {
          "output_type": "stream",
          "name": "stdout",
          "text": [
            "1\n",
            "3\n",
            "5\n",
            "7\n",
            "9\n"
          ]
        }
      ]
    },
    {
      "cell_type": "code",
      "source": [
        "list1 = [1,2,3,4,5,6,7,8,9,10]\n",
        "for i in list1:\n",
        "  if i % 2 != 0:\n",
        "    print(list1[i])"
      ],
      "metadata": {
        "colab": {
          "base_uri": "https://localhost:8080/"
        },
        "id": "P7ECSzX_WQ_Y",
        "outputId": "e2f7340b-3e84-4742-f9c6-0961a2bde4c4"
      },
      "execution_count": null,
      "outputs": [
        {
          "output_type": "stream",
          "name": "stdout",
          "text": [
            "2\n",
            "4\n",
            "6\n",
            "8\n",
            "10\n"
          ]
        }
      ]
    },
    {
      "cell_type": "code",
      "source": [
        "list1 = [1,2,3,4,5,6,7,8,9,10]\n",
        "for i in list1:\n",
        "  if i % 3 == 0:\n",
        "    print(i)"
      ],
      "metadata": {
        "colab": {
          "base_uri": "https://localhost:8080/"
        },
        "id": "Ez1h4MA9WUPd",
        "outputId": "f3ad9f3e-9d7f-4050-9c9d-bb85a5e9adb2"
      },
      "execution_count": null,
      "outputs": [
        {
          "output_type": "stream",
          "name": "stdout",
          "text": [
            "3\n",
            "6\n",
            "9\n"
          ]
        }
      ]
    },
    {
      "cell_type": "code",
      "source": [
        "list2 = ['a','l','l','i','g','a','t','o','r']\n",
        "str1 = input()\n",
        "for i in range(len(list2)):\n",
        "  if list2[i] == str1:\n",
        "    print(i)"
      ],
      "metadata": {
        "colab": {
          "base_uri": "https://localhost:8080/"
        },
        "id": "6R8roM9YXQ_U",
        "outputId": "601b2b22-c36c-4d71-ba1a-5c43502e5381"
      },
      "execution_count": null,
      "outputs": [
        {
          "output_type": "stream",
          "name": "stdout",
          "text": [
            "a\n",
            "0\n",
            "5\n"
          ]
        }
      ]
    },
    {
      "cell_type": "code",
      "source": [
        "list3 = [1,2,3,4,5,6,7,8,9,10,11,12,13,14,15,16,17,18,19,20,21,22,23,24,25]\n",
        "for i in range(len(list3)):\n",
        "  if i % 2 == 0:\n",
        "    list3[i] = 'a'\n",
        "print(list3)"
      ],
      "metadata": {
        "colab": {
          "base_uri": "https://localhost:8080/"
        },
        "id": "v0Hbk_NhcX-f",
        "outputId": "6cd3b7b1-39e4-4572-c134-3afaaedf2afe"
      },
      "execution_count": null,
      "outputs": [
        {
          "output_type": "stream",
          "name": "stdout",
          "text": [
            "['a', 2, 'a', 4, 'a', 6, 'a', 8, 'a', 10, 'a', 12, 'a', 14, 'a', 16, 'a', 18, 'a', 20, 'a', 22, 'a', 24, 'a']\n"
          ]
        }
      ]
    },
    {
      "cell_type": "code",
      "source": [
        "list3 = [x for x in range(1,26)]\n",
        "for i in range(len(list3)):\n",
        "  if i % 2 != 0:\n",
        "    list3[i] = 'b'\n",
        "print(list3)"
      ],
      "metadata": {
        "colab": {
          "base_uri": "https://localhost:8080/"
        },
        "id": "gBxWDs-jeiPO",
        "outputId": "cdcc777e-bf34-42a9-910f-61d8284b1b4d"
      },
      "execution_count": null,
      "outputs": [
        {
          "output_type": "stream",
          "name": "stdout",
          "text": [
            "[1, 'b', 3, 'b', 5, 'b', 7, 'b', 9, 'b', 11, 'b', 13, 'b', 15, 'b', 17, 'b', 19, 'b', 21, 'b', 23, 'b', 25]\n"
          ]
        }
      ]
    },
    {
      "cell_type": "code",
      "source": [
        "list3 = [x for x in range(1,26)]\n",
        "for i in range(len(list3)):\n",
        "  if (list3[i]**(1/2))%1 == 0:\n",
        "    list3[i] = 'square'\n",
        "print(list3)"
      ],
      "metadata": {
        "colab": {
          "base_uri": "https://localhost:8080/"
        },
        "id": "6gu3FjnLeyYI",
        "outputId": "8d833891-fa2b-4549-9028-4bc961c59c4a"
      },
      "execution_count": null,
      "outputs": [
        {
          "output_type": "stream",
          "name": "stdout",
          "text": [
            "['square', 2, 3, 'square', 5, 6, 7, 8, 'square', 10, 11, 12, 13, 14, 15, 'square', 17, 18, 19, 20, 21, 22, 23, 24, 'square']\n"
          ]
        }
      ]
    },
    {
      "cell_type": "code",
      "source": [
        "listx = [0,2,4,6,8]\n",
        "list4 = ['a','b','c','d','e','i']\n",
        "for i in listx:\n",
        "  list4.insert(i,'*')\n",
        "print(list4)"
      ],
      "metadata": {
        "colab": {
          "base_uri": "https://localhost:8080/"
        },
        "id": "hTQNuHP5jzrE",
        "outputId": "210a0dd0-f9e3-4c9f-ed67-f4d597ff2229"
      },
      "execution_count": null,
      "outputs": [
        {
          "output_type": "stream",
          "name": "stdout",
          "text": [
            "['*', 'a', '*', 'b', '*', 'c', '*', 'd', '*', 'e', 'i']\n"
          ]
        }
      ]
    },
    {
      "cell_type": "code",
      "source": [
        "listx = [0,2,4,6,8]\n",
        "list4 = ['a','b','c','d','e','i']\n",
        "n = len(listx)\n",
        "for i in range(n):\n",
        "  list4.insert(listx[i],'*')\n",
        "print(list4)"
      ],
      "metadata": {
        "colab": {
          "base_uri": "https://localhost:8080/"
        },
        "id": "0-3EnddyQzsW",
        "outputId": "91021da4-1211-4f87-eab5-37675114c9b7"
      },
      "execution_count": null,
      "outputs": [
        {
          "output_type": "stream",
          "name": "stdout",
          "text": [
            "['*', 'a', '*', 'b', '*', 'c', '*', 'd', '*', 'e', 'i']\n"
          ]
        }
      ]
    },
    {
      "cell_type": "code",
      "source": [
        "list4 = ['a','b','c','d','e','f']\n",
        "for i in range(3):\n",
        "  index = int(input())\n",
        "  element = input()\n",
        "  list4.insert(index,element)\n",
        "print(list4)"
      ],
      "metadata": {
        "colab": {
          "base_uri": "https://localhost:8080/"
        },
        "id": "pN517uc_QzcJ",
        "outputId": "4febfbad-695d-4f68-d1c5-4669d37c8596"
      },
      "execution_count": null,
      "outputs": [
        {
          "output_type": "stream",
          "name": "stdout",
          "text": [
            "0\n",
            "c\n",
            "2\n",
            "g\n",
            "4\n",
            "y\n",
            "['c', 'a', 'g', 'b', 'y', 'c', 'd', 'e', 'f']\n"
          ]
        }
      ]
    },
    {
      "cell_type": "code",
      "source": [
        "list4 = ['a','b','c','d','e','f']\n",
        "for i in range(3):\n",
        "  index = int(input())\n",
        "  element = input()\n",
        "  if element not in list4:\n",
        "    list4.insert(index,element)\n",
        "print(list4)"
      ],
      "metadata": {
        "colab": {
          "base_uri": "https://localhost:8080/"
        },
        "id": "4hpC4V7NQSrA",
        "outputId": "42dce541-1656-4d7f-f06e-cab4a0b7d835"
      },
      "execution_count": null,
      "outputs": [
        {
          "output_type": "stream",
          "name": "stdout",
          "text": [
            "0\n",
            "y\n",
            "2\n",
            "g\n",
            "8\n",
            "z\n",
            "['y', 'a', 'g', 'b', 'c', 'd', 'e', 'f', 'z']\n"
          ]
        }
      ]
    },
    {
      "cell_type": "code",
      "source": [
        "list4 = ['a','b','c','d','e','f']\n",
        "num1 = int(input())\n",
        "if num1 < len(list4)-1:\n",
        "  del list4[num1]\n",
        "print(list4)"
      ],
      "metadata": {
        "colab": {
          "base_uri": "https://localhost:8080/"
        },
        "id": "kc6RRJMqR11G",
        "outputId": "9632b8ba-5da5-4f39-ccee-5c44016a1218"
      },
      "execution_count": null,
      "outputs": [
        {
          "output_type": "stream",
          "name": "stdout",
          "text": [
            "1\n",
            "['a', 'c', 'd', 'e', 'f']\n"
          ]
        }
      ]
    }
  ]
}